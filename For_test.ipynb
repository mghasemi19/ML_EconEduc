{
 "cells": [
  {
   "cell_type": "code",
   "execution_count": 59,
   "metadata": {},
   "outputs": [
    {
     "data": {
      "text/html": [
       "<div>\n",
       "<style scoped>\n",
       "    .dataframe tbody tr th:only-of-type {\n",
       "        vertical-align: middle;\n",
       "    }\n",
       "\n",
       "    .dataframe tbody tr th {\n",
       "        vertical-align: top;\n",
       "    }\n",
       "\n",
       "    .dataframe thead th {\n",
       "        text-align: right;\n",
       "    }\n",
       "</style>\n",
       "<table border=\"1\" class=\"dataframe\">\n",
       "  <thead>\n",
       "    <tr style=\"text-align: right;\">\n",
       "      <th></th>\n",
       "      <th>ID</th>\n",
       "      <th>Boomi</th>\n",
       "      <th>Sen</th>\n",
       "      <th>Maghtah</th>\n",
       "      <th>Moadel</th>\n",
       "      <th>Doreh</th>\n",
       "      <th>Meliyat</th>\n",
       "      <th>Vaziyattahol</th>\n",
       "      <th>Farzandan</th>\n",
       "      <th>Sal</th>\n",
       "      <th>Komakmali</th>\n",
       "      <th>Jensiyat</th>\n",
       "      <th>Leave</th>\n",
       "      <th>Remove</th>\n",
       "      <th>Tasmim</th>\n",
       "    </tr>\n",
       "  </thead>\n",
       "  <tbody>\n",
       "    <tr>\n",
       "      <th>0</th>\n",
       "      <td>810100001.0</td>\n",
       "      <td>0.0</td>\n",
       "      <td>29.0</td>\n",
       "      <td>PhD</td>\n",
       "      <td>14.86</td>\n",
       "      <td>Rozaneh</td>\n",
       "      <td>Irari</td>\n",
       "      <td>Mojarad</td>\n",
       "      <td>0.0</td>\n",
       "      <td>1400</td>\n",
       "      <td>Bedon-Komak</td>\n",
       "      <td>Mard</td>\n",
       "      <td>No</td>\n",
       "      <td>No</td>\n",
       "      <td>No</td>\n",
       "    </tr>\n",
       "    <tr>\n",
       "      <th>1</th>\n",
       "      <td>810100004.0</td>\n",
       "      <td>Boomi</td>\n",
       "      <td>37.0</td>\n",
       "      <td>PhD</td>\n",
       "      <td>16.04</td>\n",
       "      <td>Shabaneh</td>\n",
       "      <td>Irari</td>\n",
       "      <td>Motahel</td>\n",
       "      <td>1.0</td>\n",
       "      <td>1400</td>\n",
       "      <td>Bedon-Komak</td>\n",
       "      <td>Mard</td>\n",
       "      <td>No</td>\n",
       "      <td>No</td>\n",
       "      <td>No</td>\n",
       "    </tr>\n",
       "    <tr>\n",
       "      <th>2</th>\n",
       "      <td>810100005.0</td>\n",
       "      <td>0.0</td>\n",
       "      <td>29.0</td>\n",
       "      <td>PhD</td>\n",
       "      <td>14.51</td>\n",
       "      <td>Rozaneh</td>\n",
       "      <td>Irari</td>\n",
       "      <td>Mojarad</td>\n",
       "      <td>0.0</td>\n",
       "      <td>1400</td>\n",
       "      <td>Bedon-Komak</td>\n",
       "      <td>Zan</td>\n",
       "      <td>No</td>\n",
       "      <td>No</td>\n",
       "      <td>No</td>\n",
       "    </tr>\n",
       "    <tr>\n",
       "      <th>3</th>\n",
       "      <td>810100006.0</td>\n",
       "      <td>Boomi</td>\n",
       "      <td>31.0</td>\n",
       "      <td>PhD</td>\n",
       "      <td>17.92</td>\n",
       "      <td>Shabaneh</td>\n",
       "      <td>Irari</td>\n",
       "      <td>Motahel</td>\n",
       "      <td>0.0</td>\n",
       "      <td>1400</td>\n",
       "      <td>Bedon-Komak</td>\n",
       "      <td>Mard</td>\n",
       "      <td>No</td>\n",
       "      <td>No</td>\n",
       "      <td>No</td>\n",
       "    </tr>\n",
       "    <tr>\n",
       "      <th>4</th>\n",
       "      <td>810100008.0</td>\n",
       "      <td>Boomi</td>\n",
       "      <td>35.0</td>\n",
       "      <td>PhD</td>\n",
       "      <td>17.51</td>\n",
       "      <td>Rozaneh</td>\n",
       "      <td>Irari</td>\n",
       "      <td>Motahel</td>\n",
       "      <td>2.0</td>\n",
       "      <td>1400</td>\n",
       "      <td>Bedon-Komak</td>\n",
       "      <td>Zan</td>\n",
       "      <td>No</td>\n",
       "      <td>No</td>\n",
       "      <td>No</td>\n",
       "    </tr>\n",
       "  </tbody>\n",
       "</table>\n",
       "</div>"
      ],
      "text/plain": [
       "            ID  Boomi   Sen Maghtah  Moadel     Doreh Meliyat Vaziyattahol  \\\n",
       "0  810100001.0    0.0  29.0     PhD   14.86   Rozaneh   Irari      Mojarad   \n",
       "1  810100004.0  Boomi  37.0     PhD   16.04  Shabaneh   Irari      Motahel   \n",
       "2  810100005.0    0.0  29.0     PhD   14.51   Rozaneh   Irari      Mojarad   \n",
       "3  810100006.0  Boomi  31.0     PhD   17.92  Shabaneh   Irari      Motahel   \n",
       "4  810100008.0  Boomi  35.0     PhD   17.51   Rozaneh   Irari      Motahel   \n",
       "\n",
       "   Farzandan   Sal    Komakmali Jensiyat Leave Remove Tasmim  \n",
       "0        0.0  1400  Bedon-Komak     Mard    No     No     No  \n",
       "1        1.0  1400  Bedon-Komak     Mard    No     No     No  \n",
       "2        0.0  1400  Bedon-Komak      Zan    No     No     No  \n",
       "3        0.0  1400  Bedon-Komak     Mard    No     No     No  \n",
       "4        2.0  1400  Bedon-Komak      Zan    No     No     No  "
      ]
     },
     "execution_count": 59,
     "metadata": {},
     "output_type": "execute_result"
    }
   ],
   "source": [
    "#load all necessary libraries\n",
    "import pandas as pd \n",
    "import numpy as np \n",
    "import scipy as scp\n",
    "import seaborn as sns\n",
    "import random\n",
    "import sklearn\n",
    "#import statsmodels.api as sm\n",
    "import matplotlib.pyplot as plt\n",
    "\n",
    "from sklearn.model_selection import train_test_split\n",
    "from sklearn.linear_model import LogisticRegression\n",
    "from sklearn.metrics import classification_report\n",
    "from sklearn import metrics \n",
    "from sklearn.metrics import confusion_matrix\n",
    "\n",
    "df_test = pd.read_spss('data/newdata/مهندسی.sav')\n",
    "df_test.head()"
   ]
  },
  {
   "cell_type": "code",
   "execution_count": 60,
   "metadata": {},
   "outputs": [
    {
     "name": "stdout",
     "output_type": "stream",
     "text": [
      "  Column1 Column2 Column3\n",
      "0       A       X     Yes\n",
      "1       B       Y      No\n",
      "2       C       X     Yes\n",
      "3       A       Z     Yes\n",
      "   Column1  Column2  Column3\n",
      "0        0        0        0\n",
      "1        1        1        1\n",
      "2        2        0        0\n",
      "3        0        2        0\n"
     ]
    }
   ],
   "source": [
    "import pandas as pd\n",
    "\n",
    "# create a sample data frame\n",
    "df = pd.DataFrame({\n",
    "    'Column1': ['A', 'B', 'C', 'A'],\n",
    "    'Column2': ['X', 'Y', 'X', 'Z'],\n",
    "    'Column3': ['Yes', 'No', 'Yes', 'Yes']\n",
    "})\n",
    "print(df)\n",
    "# create a dictionary to map unique values to numbers\n",
    "mapping_dict = {}\n",
    "for col in df.columns:\n",
    "    unique_values = df[col].unique()\n",
    "    mapping_dict[col] = {value: i for i, value in enumerate(unique_values)}\n",
    "\n",
    "# replace values in data frame with mapped values\n",
    "df.replace(mapping_dict, inplace=True)\n",
    "\n",
    "print(df)\n"
   ]
  },
  {
   "cell_type": "code",
   "execution_count": 61,
   "metadata": {},
   "outputs": [
    {
     "data": {
      "text/html": [
       "<div>\n",
       "<style scoped>\n",
       "    .dataframe tbody tr th:only-of-type {\n",
       "        vertical-align: middle;\n",
       "    }\n",
       "\n",
       "    .dataframe tbody tr th {\n",
       "        vertical-align: top;\n",
       "    }\n",
       "\n",
       "    .dataframe thead th {\n",
       "        text-align: right;\n",
       "    }\n",
       "</style>\n",
       "<table border=\"1\" class=\"dataframe\">\n",
       "  <thead>\n",
       "    <tr style=\"text-align: right;\">\n",
       "      <th></th>\n",
       "      <th>ID</th>\n",
       "      <th>Boomi</th>\n",
       "      <th>Sen</th>\n",
       "      <th>Maghtah</th>\n",
       "      <th>Moadel</th>\n",
       "      <th>Doreh</th>\n",
       "      <th>Meliyat</th>\n",
       "      <th>Vaziyattahol</th>\n",
       "      <th>Farzandan</th>\n",
       "      <th>Sal</th>\n",
       "      <th>Komakmali</th>\n",
       "      <th>Jensiyat</th>\n",
       "      <th>Leave</th>\n",
       "      <th>Remove</th>\n",
       "      <th>Tasmim</th>\n",
       "    </tr>\n",
       "  </thead>\n",
       "  <tbody>\n",
       "    <tr>\n",
       "      <th>0</th>\n",
       "      <td>810100001.0</td>\n",
       "      <td>0</td>\n",
       "      <td>29.0</td>\n",
       "      <td>0</td>\n",
       "      <td>14.86</td>\n",
       "      <td>0</td>\n",
       "      <td>0</td>\n",
       "      <td>0</td>\n",
       "      <td>0.0</td>\n",
       "      <td>1400</td>\n",
       "      <td>0</td>\n",
       "      <td>0</td>\n",
       "      <td>0</td>\n",
       "      <td>0</td>\n",
       "      <td>0</td>\n",
       "    </tr>\n",
       "    <tr>\n",
       "      <th>1</th>\n",
       "      <td>810100004.0</td>\n",
       "      <td>1</td>\n",
       "      <td>37.0</td>\n",
       "      <td>0</td>\n",
       "      <td>16.04</td>\n",
       "      <td>1</td>\n",
       "      <td>0</td>\n",
       "      <td>1</td>\n",
       "      <td>1.0</td>\n",
       "      <td>1400</td>\n",
       "      <td>0</td>\n",
       "      <td>0</td>\n",
       "      <td>0</td>\n",
       "      <td>0</td>\n",
       "      <td>0</td>\n",
       "    </tr>\n",
       "    <tr>\n",
       "      <th>2</th>\n",
       "      <td>810100005.0</td>\n",
       "      <td>0</td>\n",
       "      <td>29.0</td>\n",
       "      <td>0</td>\n",
       "      <td>14.51</td>\n",
       "      <td>0</td>\n",
       "      <td>0</td>\n",
       "      <td>0</td>\n",
       "      <td>0.0</td>\n",
       "      <td>1400</td>\n",
       "      <td>0</td>\n",
       "      <td>1</td>\n",
       "      <td>0</td>\n",
       "      <td>0</td>\n",
       "      <td>0</td>\n",
       "    </tr>\n",
       "    <tr>\n",
       "      <th>3</th>\n",
       "      <td>810100006.0</td>\n",
       "      <td>1</td>\n",
       "      <td>31.0</td>\n",
       "      <td>0</td>\n",
       "      <td>17.92</td>\n",
       "      <td>1</td>\n",
       "      <td>0</td>\n",
       "      <td>1</td>\n",
       "      <td>0.0</td>\n",
       "      <td>1400</td>\n",
       "      <td>0</td>\n",
       "      <td>0</td>\n",
       "      <td>0</td>\n",
       "      <td>0</td>\n",
       "      <td>0</td>\n",
       "    </tr>\n",
       "    <tr>\n",
       "      <th>4</th>\n",
       "      <td>810100008.0</td>\n",
       "      <td>1</td>\n",
       "      <td>35.0</td>\n",
       "      <td>0</td>\n",
       "      <td>17.51</td>\n",
       "      <td>0</td>\n",
       "      <td>0</td>\n",
       "      <td>1</td>\n",
       "      <td>2.0</td>\n",
       "      <td>1400</td>\n",
       "      <td>0</td>\n",
       "      <td>1</td>\n",
       "      <td>0</td>\n",
       "      <td>0</td>\n",
       "      <td>0</td>\n",
       "    </tr>\n",
       "  </tbody>\n",
       "</table>\n",
       "</div>"
      ],
      "text/plain": [
       "            ID  Boomi   Sen  Maghtah  Moadel  Doreh  Meliyat  Vaziyattahol  \\\n",
       "0  810100001.0      0  29.0        0   14.86      0        0             0   \n",
       "1  810100004.0      1  37.0        0   16.04      1        0             1   \n",
       "2  810100005.0      0  29.0        0   14.51      0        0             0   \n",
       "3  810100006.0      1  31.0        0   17.92      1        0             1   \n",
       "4  810100008.0      1  35.0        0   17.51      0        0             1   \n",
       "\n",
       "   Farzandan   Sal  Komakmali  Jensiyat  Leave  Remove  Tasmim  \n",
       "0        0.0  1400          0         0      0       0       0  \n",
       "1        1.0  1400          0         0      0       0       0  \n",
       "2        0.0  1400          0         1      0       0       0  \n",
       "3        0.0  1400          0         0      0       0       0  \n",
       "4        2.0  1400          0         1      0       0       0  "
      ]
     },
     "execution_count": 61,
     "metadata": {},
     "output_type": "execute_result"
    }
   ],
   "source": [
    "# create a dictionary to map unique values to numbers\n",
    "mapping_dict = {}\n",
    "variables = list(set(df_test.columns) - {\"ID\", \"Sen\", \"Moadel\", \"Farzandan\", \"Sal\"})\n",
    "for col in variables:\n",
    "    unique_values = df_test[col].unique()\n",
    "    mapping_dict[col] = {value: i for i, value in enumerate(unique_values)}\n",
    "\n",
    "# replace values in data frame with mapped values\n",
    "df_test.replace(mapping_dict, inplace=True)\n",
    "df_test.head()"
   ]
  },
  {
   "cell_type": "code",
   "execution_count": null,
   "metadata": {},
   "outputs": [],
   "source": []
  },
  {
   "cell_type": "code",
   "execution_count": 62,
   "metadata": {},
   "outputs": [
    {
     "name": "stdout",
     "output_type": "stream",
     "text": [
      "(7, 15)\n",
      "(6, 15)\n",
      "(3494, 15)\n"
     ]
    }
   ],
   "source": [
    "print(df_test[df_test['Leave'] == 1].shape)\n",
    "print(df_test[df_test['Remove'] == 1].shape)\n",
    "#print(df_test[df_test['Tasmim'] == 1].shape)\n",
    "print(df_test.shape)"
   ]
  },
  {
   "cell_type": "code",
   "execution_count": 63,
   "metadata": {},
   "outputs": [],
   "source": [
    "def dummy_fill(df):\n",
    "    SL = df['Leave']\n",
    "    CF = df['Remove']\n",
    "\n",
    "    if SL == 1:\n",
    "        return 'Leave'\n",
    "    if CF == 1:\n",
    "        return 'Remove'\n",
    "    else: \n",
    "        return '0'       \n",
    "\n",
    "df_test['newClass'] = df_test.apply(dummy_fill, axis=1)"
   ]
  },
  {
   "cell_type": "code",
   "execution_count": 64,
   "metadata": {},
   "outputs": [
    {
     "name": "stdout",
     "output_type": "stream",
     "text": [
      "non zero percentage: 0.3720663995420721\n"
     ]
    }
   ],
   "source": [
    "df_test.head()\n",
    "print(\"non zero percentage:\", 100*len(df_test[(df_test['newClass'] != '0')]) / len(df_test))"
   ]
  },
  {
   "cell_type": "code",
   "execution_count": 65,
   "metadata": {},
   "outputs": [
    {
     "data": {
      "text/plain": [
       "ID              0\n",
       "Boomi           0\n",
       "Sen             0\n",
       "Maghtah         0\n",
       "Moadel          0\n",
       "Doreh           0\n",
       "Meliyat         0\n",
       "Vaziyattahol    0\n",
       "Farzandan       0\n",
       "Sal             0\n",
       "Komakmali       0\n",
       "Jensiyat        0\n",
       "Leave           0\n",
       "Remove          0\n",
       "Tasmim          0\n",
       "newClass        0\n",
       "dtype: int64"
      ]
     },
     "execution_count": 65,
     "metadata": {},
     "output_type": "execute_result"
    }
   ],
   "source": [
    "df_test.dropna(inplace=True)\n",
    "df_test.isna().sum()"
   ]
  },
  {
   "cell_type": "code",
   "execution_count": 66,
   "metadata": {},
   "outputs": [
    {
     "name": "stdout",
     "output_type": "stream",
     "text": [
      "Columns for training: ['ID', 'Boomi', 'Sen', 'Maghtah', 'Moadel', 'Doreh', 'Meliyat', 'Vaziyattahol', 'Farzandan', 'Sal', 'Komakmali', 'Jensiyat']\n",
      "(2723, 12)\n",
      "(681, 12)\n",
      "(2723,)\n",
      "(681,)\n",
      "{'C': 1.0, 'class_weight': None, 'dual': False, 'fit_intercept': True, 'intercept_scaling': 1, 'l1_ratio': None, 'max_iter': 100, 'multi_class': 'multinomial', 'n_jobs': None, 'penalty': 'none', 'random_state': 0, 'solver': 'newton-cg', 'tol': 0.0001, 'verbose': 0, 'warm_start': False}\n",
      "Accuracy Score: 0.9926578560939795\n",
      "              precision    recall  f1-score   support\n",
      "\n",
      "           0       0.99      1.00      1.00       676\n",
      "       Leave       0.00      0.00      0.00         2\n",
      "      Remove       0.00      0.00      0.00         3\n",
      "\n",
      "    accuracy                           0.99       681\n",
      "   macro avg       0.33      0.33      0.33       681\n",
      "weighted avg       0.99      0.99      0.99       681\n",
      "\n"
     ]
    },
    {
     "name": "stderr",
     "output_type": "stream",
     "text": [
      "/Library/Frameworks/Python.framework/Versions/3.9/lib/python3.9/site-packages/scipy/optimize/linesearch.py:478: LineSearchWarning: The line search algorithm did not converge\n",
      "  warn('The line search algorithm did not converge', LineSearchWarning)\n",
      "/Library/Frameworks/Python.framework/Versions/3.9/lib/python3.9/site-packages/scipy/optimize/linesearch.py:327: LineSearchWarning: The line search algorithm did not converge\n",
      "  warn('The line search algorithm did not converge', LineSearchWarning)\n",
      "/Library/Frameworks/Python.framework/Versions/3.9/lib/python3.9/site-packages/scipy/optimize/linesearch.py:437: LineSearchWarning: Rounding errors prevent the line search from converging\n",
      "  warn(msg, LineSearchWarning)\n",
      "/Library/Frameworks/Python.framework/Versions/3.9/lib/python3.9/site-packages/sklearn/utils/optimize.py:195: UserWarning: Line Search failed\n",
      "  warnings.warn('Line Search failed')\n",
      "/Library/Frameworks/Python.framework/Versions/3.9/lib/python3.9/site-packages/sklearn/utils/validation.py:63: FutureWarning: Arrays of bytes/strings is being converted to decimal numbers if dtype='numeric'. This behavior is deprecated in 0.24 and will be removed in 1.1 (renaming of 0.26). Please convert your data to numeric values explicitly instead.\n",
      "  return f(*args, **kwargs)\n",
      "/Library/Frameworks/Python.framework/Versions/3.9/lib/python3.9/site-packages/sklearn/metrics/_classification.py:1248: UndefinedMetricWarning: Precision and F-score are ill-defined and being set to 0.0 in labels with no predicted samples. Use `zero_division` parameter to control this behavior.\n",
      "  _warn_prf(average, modifier, msg_start, len(result))\n",
      "/Library/Frameworks/Python.framework/Versions/3.9/lib/python3.9/site-packages/sklearn/metrics/_classification.py:1248: UndefinedMetricWarning: Precision and F-score are ill-defined and being set to 0.0 in labels with no predicted samples. Use `zero_division` parameter to control this behavior.\n",
      "  _warn_prf(average, modifier, msg_start, len(result))\n",
      "/Library/Frameworks/Python.framework/Versions/3.9/lib/python3.9/site-packages/sklearn/metrics/_classification.py:1248: UndefinedMetricWarning: Precision and F-score are ill-defined and being set to 0.0 in labels with no predicted samples. Use `zero_division` parameter to control this behavior.\n",
      "  _warn_prf(average, modifier, msg_start, len(result))\n"
     ]
    }
   ],
   "source": [
    "X = df_test.drop(['Leave', 'Remove', 'newClass', 'Tasmim'], axis=1) \n",
    "y = df_test['newClass']\n",
    "#y=y.astype('object')\n",
    "\n",
    "print(\"Columns for training:\", list(X.columns.values)) \n",
    "\n",
    "X_train, X_test, y_train, y_test = sklearn.model_selection.train_test_split(X, y, test_size = 0.20, random_state = 5)\n",
    "print(X_train.shape)\n",
    "print(X_test.shape)\n",
    "print(y_train.shape)\n",
    "print(y_test.shape)\n",
    "\n",
    "model1 = LogisticRegression(random_state=0, multi_class='multinomial', penalty='none', solver='newton-cg').fit(X_train, y_train)\n",
    "preds = model1.predict(X_test)\n",
    "\n",
    "#print the tunable parameters (They were not tuned in this example, everything kept as default)\n",
    "params = model1.get_params()\n",
    "print(params)\n",
    "\n",
    "#Print model parameters\n",
    "#print('Intercept: \\n', model1.intercept_)\n",
    "#print('Coefficients: \\n', model1.coef_)\n",
    "\n",
    "#Create a confusion matrix\n",
    "#y_test as first argument and the preds as second argument \n",
    "confusion_matrix(y_test, preds)\n",
    "\n",
    "#transform confusion matrix into array\n",
    "#the matrix is stored in a vaiable called confmtrx\n",
    "confmtrx = np.array(confusion_matrix(y_test, preds))\n",
    "\n",
    "#Accuracy statistics\n",
    "\n",
    "print('Accuracy Score:', metrics.accuracy_score(y_test, preds))  \n",
    "\n",
    "#Create classification report\n",
    "class_report=classification_report(y_test, preds)\n",
    "print(class_report)"
   ]
  },
  {
   "cell_type": "code",
   "execution_count": 67,
   "metadata": {},
   "outputs": [
    {
     "name": "stdout",
     "output_type": "stream",
     "text": [
      "              precision    recall  f1-score   support\n",
      "\n",
      "           0       0.99      1.00      1.00       676\n",
      "       Leave       0.50      0.50      0.50         2\n",
      "      Remove       0.00      0.00      0.00         3\n",
      "\n",
      "    accuracy                           0.99       681\n",
      "   macro avg       0.50      0.50      0.50       681\n",
      "weighted avg       0.99      0.99      0.99       681\n",
      "\n",
      "[[675   1   0]\n",
      " [  1   1   0]\n",
      " [  3   0   0]]\n"
     ]
    },
    {
     "name": "stderr",
     "output_type": "stream",
     "text": [
      "/Library/Frameworks/Python.framework/Versions/3.9/lib/python3.9/site-packages/sklearn/metrics/_classification.py:1248: UndefinedMetricWarning: Precision and F-score are ill-defined and being set to 0.0 in labels with no predicted samples. Use `zero_division` parameter to control this behavior.\n",
      "  _warn_prf(average, modifier, msg_start, len(result))\n",
      "/Library/Frameworks/Python.framework/Versions/3.9/lib/python3.9/site-packages/sklearn/metrics/_classification.py:1248: UndefinedMetricWarning: Precision and F-score are ill-defined and being set to 0.0 in labels with no predicted samples. Use `zero_division` parameter to control this behavior.\n",
      "  _warn_prf(average, modifier, msg_start, len(result))\n",
      "/Library/Frameworks/Python.framework/Versions/3.9/lib/python3.9/site-packages/sklearn/metrics/_classification.py:1248: UndefinedMetricWarning: Precision and F-score are ill-defined and being set to 0.0 in labels with no predicted samples. Use `zero_division` parameter to control this behavior.\n",
      "  _warn_prf(average, modifier, msg_start, len(result))\n"
     ]
    }
   ],
   "source": [
    "from sklearn.tree import DecisionTreeClassifier\n",
    "\n",
    "X = df_test.drop(['Leave', 'Remove', 'newClass', 'Tasmim', 'ID'], axis=1) \n",
    "y = df_test['newClass']\n",
    "#y=y.astype('object')\n",
    "\n",
    "print(\"Columns for training:\", list(X.columns.values)) \n",
    "\n",
    "X_train, X_test, y_train, y_test = sklearn.model_selection.train_test_split(X, y, test_size = 0.20, random_state = 5)\n",
    "print(X_train.shape)\n",
    "print(X_test.shape)\n",
    "print(y_train.shape)\n",
    "print(y_test.shape)\n",
    "\n",
    "dtree = DecisionTreeClassifier()\n",
    "dtree.fit(X_train,y_train)\n",
    "predictions = dtree.predict(X_test)\n",
    "\n",
    "print(classification_report(y_test,predictions))\n",
    "print(confusion_matrix(y_test,predictions))"
   ]
  },
  {
   "cell_type": "code",
   "execution_count": 91,
   "metadata": {},
   "outputs": [
    {
     "name": "stdout",
     "output_type": "stream",
     "text": [
      "Columns for training: ['Boomi', 'Sen', 'Maghtah', 'Doreh', 'Meliyat', 'Vaziyattahol', 'Farzandan', 'Komakmali', 'Jensiyat', 'Leave', 'Remove']\n"
     ]
    },
    {
     "data": {
      "image/png": "[encoded data removed]",
      "text/plain": [
       "<Figure size 432x288 with 1 Axes>"
      ]
     },
     "metadata": {
      "needs_background": "light"
     },
     "output_type": "display_data"
    },
    {
     "data": {
      "image/png": "[encoded data removed]",
      "text/plain": [
       "<Figure size 360x360 with 1 Axes>"
      ]
     },
     "metadata": {
      "needs_background": "light"
     },
     "output_type": "display_data"
    }
   ],
   "source": [
    "import tensorflow as tf\n",
    "\n",
    "X = df_test.drop(['newClass', 'ID', 'Sal', 'Tasmim','Moadel'], axis=1) \n",
    "#X = df_test[['Leave', 'Remove']]\n",
    "y = df_test['Moadel']\n",
    "#y=y.astype('object')\n",
    "\n",
    "print(\"Columns for training:\", list(X.columns.values)) \n",
    "\n",
    "X_train, X_test, y_train, y_test = sklearn.model_selection.train_test_split(X, y, test_size = 0.20, random_state = 5)\n",
    "\n",
    "from sklearn.linear_model import LinearRegression\n",
    "lm = LinearRegression()\n",
    "lm.fit(X_train,y_train)\n",
    "\n",
    "predictions = lm.predict(X_test)\n",
    "plt.scatter(y_test,predictions)\n",
    "plt.xlabel('Y Test')\n",
    "plt.ylabel('Predicted Y')\n",
    "#plt.plot(y_test,y_test,'r')\n",
    "\n",
    "sns.displot((y_test-predictions),bins=50, kde=True);\n",
    "\n"
   ]
  },
  {
   "cell_type": "code",
   "execution_count": 87,
   "metadata": {},
   "outputs": [
    {
     "data": {
      "text/html": [
       "<div>\n",
       "<style scoped>\n",
       "    .dataframe tbody tr th:only-of-type {\n",
       "        vertical-align: middle;\n",
       "    }\n",
       "\n",
       "    .dataframe tbody tr th {\n",
       "        vertical-align: top;\n",
       "    }\n",
       "\n",
       "    .dataframe thead th {\n",
       "        text-align: right;\n",
       "    }\n",
       "</style>\n",
       "<table border=\"1\" class=\"dataframe\">\n",
       "  <thead>\n",
       "    <tr style=\"text-align: right;\">\n",
       "      <th></th>\n",
       "      <th>Coefficient</th>\n",
       "    </tr>\n",
       "  </thead>\n",
       "  <tbody>\n",
       "    <tr>\n",
       "      <th>Boomi</th>\n",
       "      <td>0.140288</td>\n",
       "    </tr>\n",
       "    <tr>\n",
       "      <th>Sen</th>\n",
       "      <td>-0.044686</td>\n",
       "    </tr>\n",
       "    <tr>\n",
       "      <th>Maghtah</th>\n",
       "      <td>-1.260935</td>\n",
       "    </tr>\n",
       "    <tr>\n",
       "      <th>Doreh</th>\n",
       "      <td>-0.536000</td>\n",
       "    </tr>\n",
       "    <tr>\n",
       "      <th>Meliyat</th>\n",
       "      <td>-0.767138</td>\n",
       "    </tr>\n",
       "    <tr>\n",
       "      <th>Vaziyattahol</th>\n",
       "      <td>-0.023706</td>\n",
       "    </tr>\n",
       "    <tr>\n",
       "      <th>Farzandan</th>\n",
       "      <td>0.076800</td>\n",
       "    </tr>\n",
       "    <tr>\n",
       "      <th>Komakmali</th>\n",
       "      <td>0.289787</td>\n",
       "    </tr>\n",
       "    <tr>\n",
       "      <th>Jensiyat</th>\n",
       "      <td>0.271232</td>\n",
       "    </tr>\n",
       "    <tr>\n",
       "      <th>Leave</th>\n",
       "      <td>0.231680</td>\n",
       "    </tr>\n",
       "    <tr>\n",
       "      <th>Remove</th>\n",
       "      <td>0.453706</td>\n",
       "    </tr>\n",
       "  </tbody>\n",
       "</table>\n",
       "</div>"
      ],
      "text/plain": [
       "              Coefficient\n",
       "Boomi            0.140288\n",
       "Sen             -0.044686\n",
       "Maghtah         -1.260935\n",
       "Doreh           -0.536000\n",
       "Meliyat         -0.767138\n",
       "Vaziyattahol    -0.023706\n",
       "Farzandan        0.076800\n",
       "Komakmali        0.289787\n",
       "Jensiyat         0.271232\n",
       "Leave            0.231680\n",
       "Remove           0.453706"
      ]
     },
     "execution_count": 87,
     "metadata": {},
     "output_type": "execute_result"
    }
   ],
   "source": [
    "coeff_df = pd.DataFrame(lm.coef_,index=X.columns,columns=['Coefficient'])\n",
    "coeff_df"
   ]
  },
  {
   "cell_type": "code",
   "execution_count": 89,
   "metadata": {},
   "outputs": [
    {
     "name": "stdout",
     "output_type": "stream",
     "text": [
      "MAE: 1.1246044942196982\n",
      "MSE: 2.066897210562791\n",
      "RMSE: 1.4376707587493012\n"
     ]
    }
   ],
   "source": [
    "# calculate these metrics by hand!\n",
    "from sklearn import metrics\n",
    "\n",
    "print('MAE:', metrics.mean_absolute_error(y_test, predictions))\n",
    "print('MSE:', metrics.mean_squared_error(y_test, predictions))\n",
    "print('RMSE:', np.sqrt(metrics.mean_squared_error(y_test, predictions)))"
   ]
  },
  {
   "cell_type": "code",
   "execution_count": 96,
   "metadata": {},
   "outputs": [
    {
     "data": {
      "text/plain": [
       "<tensorflow.python.keras.callbacks.History at 0x7fba7bc34bb0>"
      ]
     },
     "execution_count": 96,
     "metadata": {},
     "output_type": "execute_result"
    }
   ],
   "source": [
    "from tensorflow.keras.models import Sequential\n",
    "from tensorflow.keras.layers import Dense, Activation\n",
    "from tensorflow.keras.optimizers import Adam\n",
    "\n",
    "model = Sequential()\n",
    "\n",
    "model.add(Dense(11,activation='relu'))\n",
    "model.add(Dense(11,activation='relu'))\n",
    "model.add(Dense(11,activation='relu'))\n",
    "model.add(Dense(1))\n",
    "\n",
    "model.compile(optimizer='adam',loss='mse')\n",
    "model.fit(x=X_train,y=y_train.values,\n",
    "          validation_data=(X_test,y_test.values),\n",
    "          batch_size=128,epochs=400, verbose=False)\n"
   ]
  },
  {
   "cell_type": "code",
   "execution_count": 97,
   "metadata": {},
   "outputs": [
    {
     "data": {
      "text/plain": [
       "<AxesSubplot:>"
      ]
     },
     "execution_count": 97,
     "metadata": {},
     "output_type": "execute_result"
    },
    {
     "data": {
      "image/png": "[encoded data removed]",
      "text/plain": [
       "<Figure size 432x288 with 1 Axes>"
      ]
     },
     "metadata": {
      "needs_background": "light"
     },
     "output_type": "display_data"
    }
   ],
   "source": [
    "losses = pd.DataFrame(model.history.history)\n",
    "losses.plot()"
   ]
  },
  {
   "cell_type": "code",
   "execution_count": 98,
   "metadata": {},
   "outputs": [
    {
     "data": {
      "text/plain": [
       "Text(0, 0.5, 'Predicted Y')"
      ]
     },
     "execution_count": 98,
     "metadata": {},
     "output_type": "execute_result"
    },
    {
     "data": {
      "image/png": "[encoded data removed]",
      "text/plain": [
       "<Figure size 432x288 with 1 Axes>"
      ]
     },
     "metadata": {
      "needs_background": "light"
     },
     "output_type": "display_data"
    }
   ],
   "source": [
    "predictions = model.predict(X_test)\n",
    "plt.scatter(y_test,predictions)\n",
    "plt.xlabel('Y Test')\n",
    "plt.ylabel('Predicted Y')\n",
    "#plt.plot(y_test,y_test,'r')\n",
    "\n",
    "#sns.displot((y_test-predictions),bins=50, kde=True);"
   ]
  }
 ],
 "metadata": {
  "kernelspec": {
   "display_name": "Python 3",
   "language": "python",
   "name": "python3"
  },
  "language_info": {
   "codemirror_mode": {
    "name": "ipython",
    "version": 3
   },
   "file_extension": ".py",
   "mimetype": "text/x-python",
   "name": "python",
   "nbconvert_exporter": "python",
   "pygments_lexer": "ipython3",
   "version": "3.9.1"
  }
 },
 "nbformat": 4,
 "nbformat_minor": 1
}
