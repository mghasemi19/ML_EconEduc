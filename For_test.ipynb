{
 "cells": [
  {
   "cell_type": "code",
   "execution_count": 211,
   "metadata": {},
   "outputs": [],
   "source": [
    "#load all necessary libraries\n",
    "import pandas as pd \n",
    "import numpy as np \n",
    "import scipy as scp\n",
    "import seaborn as sns\n",
    "import random\n",
    "import sklearn\n",
    "#import statsmodels.api as sm\n",
    "import matplotlib.pyplot as plt\n",
    "\n",
    "from sklearn.model_selection import train_test_split\n",
    "from sklearn.linear_model import LogisticRegression\n",
    "from sklearn.metrics import classification_report\n",
    "from sklearn import metrics \n",
    "from sklearn.metrics import confusion_matrix"
   ]
  },
  {
   "cell_type": "code",
   "execution_count": 212,
   "metadata": {},
   "outputs": [
    {
     "data": {
      "text/html": [
       "<div>\n",
       "<style scoped>\n",
       "    .dataframe tbody tr th:only-of-type {\n",
       "        vertical-align: middle;\n",
       "    }\n",
       "\n",
       "    .dataframe tbody tr th {\n",
       "        vertical-align: top;\n",
       "    }\n",
       "\n",
       "    .dataframe thead th {\n",
       "        text-align: right;\n",
       "    }\n",
       "</style>\n",
       "<table border=\"1\" class=\"dataframe\">\n",
       "  <thead>\n",
       "    <tr style=\"text-align: right;\">\n",
       "      <th></th>\n",
       "      <th>Danshkadeh</th>\n",
       "      <th>Sen</th>\n",
       "      <th>Maghtah</th>\n",
       "      <th>Type</th>\n",
       "      <th>Moadel</th>\n",
       "      <th>Meliyat</th>\n",
       "      <th>Vaziyat Tahol</th>\n",
       "      <th>Farzandan</th>\n",
       "      <th>Sal</th>\n",
       "      <th>Komak Mali</th>\n",
       "      <th>Jensiyat</th>\n",
       "      <th>Eteghal</th>\n",
       "      <th>Enseraf</th>\n",
       "      <th>Hazf</th>\n",
       "      <th>Morakhasi</th>\n",
       "      <th>Tagher Reshteh</th>\n",
       "      <th>Mehman</th>\n",
       "      <th>Mantagheh</th>\n",
       "      <th>GDP</th>\n",
       "    </tr>\n",
       "  </thead>\n",
       "  <tbody>\n",
       "    <tr>\n",
       "      <th>0</th>\n",
       "      <td>1</td>\n",
       "      <td>21</td>\n",
       "      <td>0</td>\n",
       "      <td>0</td>\n",
       "      <td>14.00</td>\n",
       "      <td>1</td>\n",
       "      <td>1</td>\n",
       "      <td>0</td>\n",
       "      <td>6</td>\n",
       "      <td>1</td>\n",
       "      <td>1</td>\n",
       "      <td>0</td>\n",
       "      <td>0</td>\n",
       "      <td>0</td>\n",
       "      <td>0</td>\n",
       "      <td>0</td>\n",
       "      <td>0</td>\n",
       "      <td>3</td>\n",
       "      <td>5</td>\n",
       "    </tr>\n",
       "    <tr>\n",
       "      <th>1</th>\n",
       "      <td>1</td>\n",
       "      <td>21</td>\n",
       "      <td>0</td>\n",
       "      <td>0</td>\n",
       "      <td>14.00</td>\n",
       "      <td>1</td>\n",
       "      <td>1</td>\n",
       "      <td>0</td>\n",
       "      <td>6</td>\n",
       "      <td>1</td>\n",
       "      <td>1</td>\n",
       "      <td>0</td>\n",
       "      <td>0</td>\n",
       "      <td>0</td>\n",
       "      <td>0</td>\n",
       "      <td>0</td>\n",
       "      <td>0</td>\n",
       "      <td>5</td>\n",
       "      <td>2</td>\n",
       "    </tr>\n",
       "    <tr>\n",
       "      <th>2</th>\n",
       "      <td>1</td>\n",
       "      <td>21</td>\n",
       "      <td>0</td>\n",
       "      <td>0</td>\n",
       "      <td>12.61</td>\n",
       "      <td>1</td>\n",
       "      <td>1</td>\n",
       "      <td>0</td>\n",
       "      <td>6</td>\n",
       "      <td>1</td>\n",
       "      <td>0</td>\n",
       "      <td>0</td>\n",
       "      <td>0</td>\n",
       "      <td>0</td>\n",
       "      <td>0</td>\n",
       "      <td>0</td>\n",
       "      <td>0</td>\n",
       "      <td>1</td>\n",
       "      <td>1</td>\n",
       "    </tr>\n",
       "    <tr>\n",
       "      <th>3</th>\n",
       "      <td>1</td>\n",
       "      <td>22</td>\n",
       "      <td>0</td>\n",
       "      <td>0</td>\n",
       "      <td>13.93</td>\n",
       "      <td>1</td>\n",
       "      <td>1</td>\n",
       "      <td>0</td>\n",
       "      <td>6</td>\n",
       "      <td>1</td>\n",
       "      <td>1</td>\n",
       "      <td>0</td>\n",
       "      <td>0</td>\n",
       "      <td>0</td>\n",
       "      <td>0</td>\n",
       "      <td>0</td>\n",
       "      <td>0</td>\n",
       "      <td>1</td>\n",
       "      <td>1</td>\n",
       "    </tr>\n",
       "    <tr>\n",
       "      <th>4</th>\n",
       "      <td>1</td>\n",
       "      <td>20</td>\n",
       "      <td>0</td>\n",
       "      <td>0</td>\n",
       "      <td>999.00</td>\n",
       "      <td>1</td>\n",
       "      <td>1</td>\n",
       "      <td>0</td>\n",
       "      <td>6</td>\n",
       "      <td>1</td>\n",
       "      <td>1</td>\n",
       "      <td>0</td>\n",
       "      <td>0</td>\n",
       "      <td>0</td>\n",
       "      <td>0</td>\n",
       "      <td>0</td>\n",
       "      <td>0</td>\n",
       "      <td>1</td>\n",
       "      <td>1</td>\n",
       "    </tr>\n",
       "  </tbody>\n",
       "</table>\n",
       "</div>"
      ],
      "text/plain": [
       "   Danshkadeh  Sen  Maghtah  Type  Moadel  Meliyat  Vaziyat Tahol  Farzandan   \\\n",
       "0           1   21        0     0   14.00        1              1           0   \n",
       "1           1   21        0     0   14.00        1              1           0   \n",
       "2           1   21        0     0   12.61        1              1           0   \n",
       "3           1   22        0     0   13.93        1              1           0   \n",
       "4           1   20        0     0  999.00        1              1           0   \n",
       "\n",
       "   Sal  Komak Mali     Jensiyat  Eteghal  Enseraf  Hazf   Morakhasi  \\\n",
       "0    6              1         1        0        0      0          0   \n",
       "1    6              1         1        0        0      0          0   \n",
       "2    6              1         0        0        0      0          0   \n",
       "3    6              1         1        0        0      0          0   \n",
       "4    6              1         1        0        0      0          0   \n",
       "\n",
       "   Tagher Reshteh   Mehman  Mantagheh  GDP   \n",
       "0                0       0          3     5  \n",
       "1                0       0          5     2  \n",
       "2                0       0          1     1  \n",
       "3                0       0          1     1  \n",
       "4                0       0          1     1  "
      ]
     },
     "execution_count": 212,
     "metadata": {},
     "output_type": "execute_result"
    }
   ],
   "source": [
    "df_test = pd.read_excel('data/data_w_origin/GHOMOYAT.xlsx')\n",
    "import re\n",
    "def remove_tags(string):\n",
    "    result = re.sub('<.*?>','',string)\n",
    "    return result\n",
    "\n",
    "df_test['Sen']=df_test['Sen'].apply(lambda cw : remove_tags(cw))\n",
    "#df_test.head()\n",
    "def age_calc(string):\n",
    "    year, month, day = string.split(\"/\")\n",
    "    year = 1401 - int(year)\n",
    "    return year\n",
    "\n",
    "df_test['Sen']=df_test['Sen'].apply(lambda cw : age_calc(cw))\n",
    "df_test.head()"
   ]
  },
  {
   "cell_type": "code",
   "execution_count": 213,
   "metadata": {},
   "outputs": [],
   "source": [
    "cols = ['Danshkadeh', 'Sen', 'Maghtah', 'Type', 'Moadel', 'Meliyat',\n",
    "       'Vaziyat Tahol', 'Farzandan', 'Sal', 'Komak Mali', 'Jensiyat',\n",
    "       'Eteghal', 'Enseraf', 'Hazf', 'Morakhasi', 'Tagher Reshteh', 'Mehman',\n",
    "       'Mantagheh', 'GDP']\n",
    "df_test.columns = cols\n",
    "df_test.columns\n",
    "df_test = df_test.loc[~(df_test == 999).any(axis=1)]"
   ]
  },
  {
   "cell_type": "code",
   "execution_count": 215,
   "metadata": {},
   "outputs": [
    {
     "data": {
      "text/plain": [
       "<AxesSubplot:>"
      ]
     },
     "execution_count": 215,
     "metadata": {},
     "output_type": "execute_result"
    },
    {
     "data": {
      "image/png": "[encoded data removed]",
      "text/plain": [
       "<Figure size 432x288 with 2 Axes>"
      ]
     },
     "metadata": {
      "needs_background": "light"
     },
     "output_type": "display_data"
    }
   ],
   "source": [
    "sns.heatmap(df_test.corr(), annot=False)\n"
   ]
  },
  {
   "cell_type": "code",
   "execution_count": 216,
   "metadata": {},
   "outputs": [
    {
     "data": {
      "text/plain": [
       "Danshkadeh        0\n",
       "Sen               0\n",
       "Maghtah           0\n",
       "Type              0\n",
       "Moadel            0\n",
       "Meliyat           0\n",
       "Vaziyat Tahol     0\n",
       "Farzandan         0\n",
       "Sal               0\n",
       "Komak Mali        0\n",
       "Jensiyat          0\n",
       "Eteghal           0\n",
       "Enseraf           0\n",
       "Hazf              0\n",
       "Morakhasi         0\n",
       "Tagher Reshteh    0\n",
       "Mehman            0\n",
       "Mantagheh         0\n",
       "GDP               0\n",
       "dtype: int64"
      ]
     },
     "execution_count": 216,
     "metadata": {},
     "output_type": "execute_result"
    }
   ],
   "source": [
    "df_test.dropna(inplace=True)\n",
    "df_test.isna().sum()"
   ]
  },
  {
   "cell_type": "code",
   "execution_count": 217,
   "metadata": {},
   "outputs": [
    {
     "name": "stdout",
     "output_type": "stream",
     "text": [
      "Columns for training: ['Danshkadeh', 'Sen', 'Maghtah', 'Type', 'Meliyat', 'Vaziyat Tahol', 'Farzandan', 'Sal', 'Komak Mali', 'Jensiyat', 'Eteghal', 'Enseraf', 'Hazf', 'Morakhasi', 'Tagher Reshteh', 'Mehman', 'Mantagheh', 'GDP']\n"
     ]
    },
    {
     "data": {
      "image/png": "[encoded data removed]",
      "text/plain": [
       "<Figure size 432x288 with 1 Axes>"
      ]
     },
     "metadata": {
      "needs_background": "light"
     },
     "output_type": "display_data"
    },
    {
     "data": {
      "image/png": "[encoded data removed]",
      "text/plain": [
       "<Figure size 360x360 with 1 Axes>"
      ]
     },
     "metadata": {
      "needs_background": "light"
     },
     "output_type": "display_data"
    }
   ],
   "source": [
    "X = df_test.drop(['Moadel'], axis=1) \n",
    "#X = df_test[['Leave', 'Remove']]\n",
    "y = df_test['Moadel']\n",
    "#y=y.astype('object')\n",
    "\n",
    "print(\"Columns for training:\", list(X.columns.values)) \n",
    "\n",
    "X_train, X_test, y_train, y_test = sklearn.model_selection.train_test_split(X, y, test_size = 0.20, random_state = 5)\n",
    "scaler = MinMaxScaler()\n",
    "X_train= scaler.fit_transform(X_train)\n",
    "X_test = scaler.transform(X_test)\n",
    "\n",
    "from sklearn.linear_model import LinearRegression\n",
    "lm = LinearRegression()\n",
    "lm.fit(X_train,y_train)\n",
    "\n",
    "predictions = lm.predict(X_test)\n",
    "plt.scatter(y_test,predictions)\n",
    "plt.xlabel('Y Test')\n",
    "plt.ylabel('Predicted Y')\n",
    "#plt.plot(y_test,y_test,'r')\n",
    "\n",
    "sns.displot((y_test-predictions),bins=50, kde=True);"
   ]
  },
  {
   "cell_type": "code",
   "execution_count": 218,
   "metadata": {},
   "outputs": [
    {
     "data": {
      "text/html": [
       "<div>\n",
       "<style scoped>\n",
       "    .dataframe tbody tr th:only-of-type {\n",
       "        vertical-align: middle;\n",
       "    }\n",
       "\n",
       "    .dataframe tbody tr th {\n",
       "        vertical-align: top;\n",
       "    }\n",
       "\n",
       "    .dataframe thead th {\n",
       "        text-align: right;\n",
       "    }\n",
       "</style>\n",
       "<table border=\"1\" class=\"dataframe\">\n",
       "  <thead>\n",
       "    <tr style=\"text-align: right;\">\n",
       "      <th></th>\n",
       "      <th>Coefficient</th>\n",
       "    </tr>\n",
       "  </thead>\n",
       "  <tbody>\n",
       "    <tr>\n",
       "      <th>Danshkadeh</th>\n",
       "      <td>1.037870</td>\n",
       "    </tr>\n",
       "    <tr>\n",
       "      <th>Sen</th>\n",
       "      <td>-0.645342</td>\n",
       "    </tr>\n",
       "    <tr>\n",
       "      <th>Maghtah</th>\n",
       "      <td>2.137230</td>\n",
       "    </tr>\n",
       "    <tr>\n",
       "      <th>Type</th>\n",
       "      <td>0.335020</td>\n",
       "    </tr>\n",
       "    <tr>\n",
       "      <th>Meliyat</th>\n",
       "      <td>0.970664</td>\n",
       "    </tr>\n",
       "    <tr>\n",
       "      <th>Vaziyat Tahol</th>\n",
       "      <td>0.040465</td>\n",
       "    </tr>\n",
       "    <tr>\n",
       "      <th>Farzandan</th>\n",
       "      <td>0.940894</td>\n",
       "    </tr>\n",
       "    <tr>\n",
       "      <th>Sal</th>\n",
       "      <td>0.258722</td>\n",
       "    </tr>\n",
       "    <tr>\n",
       "      <th>Komak Mali</th>\n",
       "      <td>-0.390285</td>\n",
       "    </tr>\n",
       "    <tr>\n",
       "      <th>Jensiyat</th>\n",
       "      <td>-0.835886</td>\n",
       "    </tr>\n",
       "    <tr>\n",
       "      <th>Eteghal</th>\n",
       "      <td>-1.551476</td>\n",
       "    </tr>\n",
       "    <tr>\n",
       "      <th>Enseraf</th>\n",
       "      <td>-1.427737</td>\n",
       "    </tr>\n",
       "    <tr>\n",
       "      <th>Hazf</th>\n",
       "      <td>-0.676621</td>\n",
       "    </tr>\n",
       "    <tr>\n",
       "      <th>Morakhasi</th>\n",
       "      <td>-0.635365</td>\n",
       "    </tr>\n",
       "    <tr>\n",
       "      <th>Tagher Reshteh</th>\n",
       "      <td>0.722633</td>\n",
       "    </tr>\n",
       "    <tr>\n",
       "      <th>Mehman</th>\n",
       "      <td>-0.359894</td>\n",
       "    </tr>\n",
       "    <tr>\n",
       "      <th>Mantagheh</th>\n",
       "      <td>0.110659</td>\n",
       "    </tr>\n",
       "    <tr>\n",
       "      <th>GDP</th>\n",
       "      <td>-0.036997</td>\n",
       "    </tr>\n",
       "  </tbody>\n",
       "</table>\n",
       "</div>"
      ],
      "text/plain": [
       "                Coefficient\n",
       "Danshkadeh         1.037870\n",
       "Sen               -0.645342\n",
       "Maghtah            2.137230\n",
       "Type               0.335020\n",
       "Meliyat            0.970664\n",
       "Vaziyat Tahol      0.040465\n",
       "Farzandan          0.940894\n",
       "Sal                0.258722\n",
       "Komak Mali        -0.390285\n",
       "Jensiyat          -0.835886\n",
       "Eteghal           -1.551476\n",
       "Enseraf           -1.427737\n",
       "Hazf              -0.676621\n",
       "Morakhasi         -0.635365\n",
       "Tagher Reshteh     0.722633\n",
       "Mehman            -0.359894\n",
       "Mantagheh          0.110659\n",
       "GDP               -0.036997"
      ]
     },
     "execution_count": 218,
     "metadata": {},
     "output_type": "execute_result"
    }
   ],
   "source": [
    "coeff_df = pd.DataFrame(lm.coef_,index=X.columns,columns=['Coefficient'])\n",
    "coeff_df"
   ]
  },
  {
   "cell_type": "code",
   "execution_count": 219,
   "metadata": {},
   "outputs": [
    {
     "name": "stdout",
     "output_type": "stream",
     "text": [
      "MAE: 1.3122378301887818\n",
      "MSE: 2.811726456553451\n",
      "RMSE: 1.6768203411676075\n"
     ]
    }
   ],
   "source": [
    "# calculate these metrics by hand!\n",
    "from sklearn import metrics\n",
    "\n",
    "print('MAE:', metrics.mean_absolute_error(y_test, predictions))\n",
    "print('MSE:', metrics.mean_squared_error(y_test, predictions))\n",
    "print('RMSE:', np.sqrt(metrics.mean_squared_error(y_test, predictions)))"
   ]
  },
  {
   "cell_type": "code",
   "execution_count": 220,
   "metadata": {},
   "outputs": [
    {
     "data": {
      "text/plain": [
       "<tensorflow.python.keras.callbacks.History at 0x7fba507d2b80>"
      ]
     },
     "execution_count": 220,
     "metadata": {},
     "output_type": "execute_result"
    }
   ],
   "source": [
    "from tensorflow.keras.models import Sequential\n",
    "from tensorflow.keras.layers import Dense, Activation\n",
    "from tensorflow.keras.optimizers import Adam\n",
    "\n",
    "model = Sequential()\n",
    "\n",
    "model.add(Dense(11,activation='relu'))\n",
    "model.add(Dense(11,activation='relu'))\n",
    "model.add(Dense(11,activation='relu'))\n",
    "model.add(Dense(1))\n",
    "\n",
    "model.compile(optimizer='adam',loss='mse')\n",
    "model.fit(x=X_train,y=y_train.values,\n",
    "          validation_data=(X_test,y_test.values),\n",
    "          batch_size=128,epochs=400, verbose=False)"
   ]
  },
  {
   "cell_type": "code",
   "execution_count": 221,
   "metadata": {},
   "outputs": [
    {
     "data": {
      "text/plain": [
       "<AxesSubplot:>"
      ]
     },
     "execution_count": 221,
     "metadata": {},
     "output_type": "execute_result"
    },
    {
     "data": {
      "image/png": "[encoded data removed]",
      "text/plain": [
       "<Figure size 432x288 with 1 Axes>"
      ]
     },
     "metadata": {
      "needs_background": "light"
     },
     "output_type": "display_data"
    }
   ],
   "source": [
    "losses = pd.DataFrame(model.history.history)\n",
    "losses.plot()"
   ]
  },
  {
   "cell_type": "code",
   "execution_count": 222,
   "metadata": {},
   "outputs": [
    {
     "data": {
      "image/png": "[encoded data removed]",
      "text/plain": [
       "<Figure size 432x288 with 1 Axes>"
      ]
     },
     "metadata": {
      "needs_background": "light"
     },
     "output_type": "display_data"
    },
    {
     "data": {
      "image/png": "[encoded data removed]",
      "text/plain": [
       "<Figure size 360x360 with 1 Axes>"
      ]
     },
     "metadata": {
      "needs_background": "light"
     },
     "output_type": "display_data"
    }
   ],
   "source": [
    "predictions = model.predict(X_test)\n",
    "predictions = predictions.reshape(predictions.shape[0])\n",
    "plt.scatter(y_test,predictions)\n",
    "plt.xlabel('Y Test')\n",
    "plt.ylabel('Predicted Y')\n",
    "#plt.plot(y_test,y_test,'r')\n",
    "sns.displot((y_test-predictions),bins=50, kde=True);"
   ]
  },
  {
   "cell_type": "code",
   "execution_count": 223,
   "metadata": {},
   "outputs": [
    {
     "data": {
      "text/plain": [
       "<AxesSubplot:>"
      ]
     },
     "execution_count": 223,
     "metadata": {},
     "output_type": "execute_result"
    },
    {
     "data": {
      "image/png": "[encoded data removed]",
      "text/plain": [
       "<Figure size 432x288 with 1 Axes>"
      ]
     },
     "metadata": {
      "needs_background": "light"
     },
     "output_type": "display_data"
    }
   ],
   "source": [
    "df_test.corr()['Jensiyat'].sort_values()[:-1].plot(kind='bar')"
   ]
  },
  {
   "cell_type": "code",
   "execution_count": 224,
   "metadata": {},
   "outputs": [
    {
     "name": "stdout",
     "output_type": "stream",
     "text": [
      "Columns for training: ['Danshkadeh', 'Sen', 'Maghtah', 'Type', 'Moadel', 'Meliyat', 'Vaziyat Tahol', 'Farzandan', 'Sal', 'Komak Mali', 'Eteghal', 'Enseraf', 'Hazf', 'Morakhasi', 'Tagher Reshteh', 'Mehman', 'Mantagheh', 'GDP']\n",
      "(10712, 18)\n",
      "(2678, 18)\n",
      "(10712,)\n",
      "(2678,)\n",
      "{'C': 1.0, 'class_weight': None, 'dual': False, 'fit_intercept': True, 'intercept_scaling': 1, 'l1_ratio': None, 'max_iter': 100, 'multi_class': 'multinomial', 'n_jobs': None, 'penalty': 'none', 'random_state': 0, 'solver': 'newton-cg', 'tol': 0.0001, 'verbose': 0, 'warm_start': False}\n",
      "Accuracy Score: 0.6366691560866318\n",
      "              precision    recall  f1-score   support\n",
      "\n",
      "           0       0.59      0.38      0.46      1104\n",
      "           1       0.65      0.82      0.73      1574\n",
      "\n",
      "    accuracy                           0.64      2678\n",
      "   macro avg       0.62      0.60      0.59      2678\n",
      "weighted avg       0.63      0.64      0.62      2678\n",
      "\n",
      "0.6366691560866318\n",
      "0.6494585511575803\n"
     ]
    },
    {
     "name": "stderr",
     "output_type": "stream",
     "text": [
      "/Library/Frameworks/Python.framework/Versions/3.9/lib/python3.9/site-packages/sklearn/linear_model/_logistic.py:763: ConvergenceWarning: lbfgs failed to converge (status=1):\n",
      "STOP: TOTAL NO. of ITERATIONS REACHED LIMIT.\n",
      "\n",
      "Increase the number of iterations (max_iter) or scale the data as shown in:\n",
      "    https://scikit-learn.org/stable/modules/preprocessing.html\n",
      "Please also refer to the documentation for alternative solver options:\n",
      "    https://scikit-learn.org/stable/modules/linear_model.html#logistic-regression\n",
      "  n_iter_i = _check_optimize_result(\n"
     ]
    }
   ],
   "source": [
    "X = df_test.drop(['Jensiyat'], axis=1) \n",
    "y = df_test['Jensiyat']\n",
    "#y=y.astype('object')\n",
    "\n",
    "print(\"Columns for training:\", list(X.columns.values)) \n",
    "\n",
    "X_train, X_test, y_train, y_test = sklearn.model_selection.train_test_split(X, y, test_size = 0.20, random_state = 5)\n",
    "print(X_train.shape)\n",
    "print(X_test.shape)\n",
    "print(y_train.shape)\n",
    "print(y_test.shape)\n",
    "\n",
    "logmodel = LogisticRegression()\n",
    "logmodel.fit(X_train, y_train)\n",
    "preds = logmodel.predict(X_test)\n",
    "\n",
    "#print the tunable parameters (They were not tuned in this example, everything kept as default)\n",
    "params = model1.get_params()\n",
    "print(params)\n",
    "\n",
    "#Print model parameters\n",
    "#print('Intercept: \\n', model1.intercept_)\n",
    "#print('Coefficients: \\n', model1.coef_)\n",
    "\n",
    "#Create a confusion matrix\n",
    "#y_test as first argument and the preds as second argument \n",
    "confusion_matrix(y_test, preds)\n",
    "\n",
    "#transform confusion matrix into array\n",
    "#the matrix is stored in a vaiable called confmtrx\n",
    "confmtrx = np.array(confusion_matrix(y_test, preds))\n",
    "\n",
    "#Accuracy statistics\n",
    "\n",
    "print('Accuracy Score:', metrics.accuracy_score(y_test, preds))  \n",
    "\n",
    "#Create classification report\n",
    "class_report=classification_report(y_test, preds)\n",
    "print(class_report)\n",
    "\n",
    "print(logmodel.score(X_test, y_test))\n",
    "print(logmodel.score(X_train, y_train))"
   ]
  },
  {
   "cell_type": "code",
   "execution_count": 225,
   "metadata": {},
   "outputs": [
    {
     "name": "stdout",
     "output_type": "stream",
     "text": [
      "Epoch 1/300\n",
      "335/335 [==============================] - 1s 1ms/step - loss: 0.6927 - accuracy: 0.5848 - val_loss: 0.6780 - val_accuracy: 0.5721\n",
      "Epoch 2/300\n",
      "335/335 [==============================] - 1s 2ms/step - loss: 0.6551 - accuracy: 0.6257 - val_loss: 0.6660 - val_accuracy: 0.5926\n",
      "Epoch 3/300\n",
      "335/335 [==============================] - 1s 2ms/step - loss: 0.6497 - accuracy: 0.6267 - val_loss: 0.6518 - val_accuracy: 0.6225\n",
      "Epoch 4/300\n",
      "335/335 [==============================] - 0s 948us/step - loss: 0.6438 - accuracy: 0.6300 - val_loss: 0.6534 - val_accuracy: 0.6299\n",
      "Epoch 5/300\n",
      "335/335 [==============================] - 0s 965us/step - loss: 0.6413 - accuracy: 0.6388 - val_loss: 0.6449 - val_accuracy: 0.6318\n",
      "Epoch 6/300\n",
      "335/335 [==============================] - 0s 955us/step - loss: 0.6415 - accuracy: 0.6407 - val_loss: 0.6496 - val_accuracy: 0.6329\n",
      "Epoch 7/300\n",
      "335/335 [==============================] - 0s 927us/step - loss: 0.6383 - accuracy: 0.6416 - val_loss: 0.6670 - val_accuracy: 0.6266\n",
      "Epoch 8/300\n",
      "335/335 [==============================] - 0s 928us/step - loss: 0.6394 - accuracy: 0.6389 - val_loss: 0.6435 - val_accuracy: 0.6337\n",
      "Epoch 9/300\n",
      "335/335 [==============================] - 1s 2ms/step - loss: 0.6364 - accuracy: 0.6477 - val_loss: 0.6571 - val_accuracy: 0.6135\n",
      "Epoch 10/300\n",
      "335/335 [==============================] - 1s 2ms/step - loss: 0.6351 - accuracy: 0.6462 - val_loss: 0.6453 - val_accuracy: 0.6341\n",
      "Epoch 11/300\n",
      "335/335 [==============================] - 0s 1ms/step - loss: 0.6356 - accuracy: 0.6450 - val_loss: 0.6417 - val_accuracy: 0.6344\n",
      "Epoch 12/300\n",
      "335/335 [==============================] - 0s 1ms/step - loss: 0.6354 - accuracy: 0.6452 - val_loss: 0.6423 - val_accuracy: 0.6329\n",
      "Epoch 13/300\n",
      "335/335 [==============================] - 0s 1ms/step - loss: 0.6368 - accuracy: 0.6442 - val_loss: 0.6437 - val_accuracy: 0.6326\n",
      "Epoch 14/300\n",
      "335/335 [==============================] - 0s 1ms/step - loss: 0.6317 - accuracy: 0.6511 - val_loss: 0.6448 - val_accuracy: 0.6348\n",
      "Epoch 15/300\n",
      "335/335 [==============================] - 1s 2ms/step - loss: 0.6326 - accuracy: 0.6510 - val_loss: 0.6489 - val_accuracy: 0.6318\n",
      "Epoch 16/300\n",
      "335/335 [==============================] - 0s 1ms/step - loss: 0.6315 - accuracy: 0.6536 - val_loss: 0.6455 - val_accuracy: 0.6285\n",
      "Epoch 17/300\n",
      "335/335 [==============================] - 0s 1ms/step - loss: 0.6313 - accuracy: 0.6491 - val_loss: 0.6490 - val_accuracy: 0.6352\n",
      "Epoch 18/300\n",
      "335/335 [==============================] - 1s 2ms/step - loss: 0.6302 - accuracy: 0.6509 - val_loss: 0.6473 - val_accuracy: 0.6341\n",
      "Epoch 19/300\n",
      "335/335 [==============================] - 0s 1ms/step - loss: 0.6300 - accuracy: 0.6535 - val_loss: 0.6379 - val_accuracy: 0.6378\n",
      "Epoch 20/300\n",
      "335/335 [==============================] - 0s 1ms/step - loss: 0.6287 - accuracy: 0.6551 - val_loss: 0.6364 - val_accuracy: 0.6370\n",
      "Epoch 21/300\n",
      "335/335 [==============================] - 0s 935us/step - loss: 0.6295 - accuracy: 0.6545 - val_loss: 0.6453 - val_accuracy: 0.6370\n",
      "Epoch 22/300\n",
      "335/335 [==============================] - 0s 907us/step - loss: 0.6279 - accuracy: 0.6575 - val_loss: 0.6351 - val_accuracy: 0.6490\n",
      "Epoch 23/300\n",
      "335/335 [==============================] - 0s 914us/step - loss: 0.6273 - accuracy: 0.6560 - val_loss: 0.6390 - val_accuracy: 0.6374\n",
      "Epoch 24/300\n",
      "335/335 [==============================] - 0s 922us/step - loss: 0.6248 - accuracy: 0.6584 - val_loss: 0.6393 - val_accuracy: 0.6482\n",
      "Epoch 25/300\n",
      "335/335 [==============================] - 0s 1ms/step - loss: 0.6230 - accuracy: 0.6604 - val_loss: 0.6320 - val_accuracy: 0.6527\n",
      "Epoch 26/300\n",
      "335/335 [==============================] - 0s 932us/step - loss: 0.6209 - accuracy: 0.6679 - val_loss: 0.6325 - val_accuracy: 0.6520\n",
      "Epoch 27/300\n",
      "335/335 [==============================] - 0s 936us/step - loss: 0.6201 - accuracy: 0.6647 - val_loss: 0.6289 - val_accuracy: 0.6576\n",
      "Epoch 28/300\n",
      "335/335 [==============================] - 0s 1ms/step - loss: 0.6183 - accuracy: 0.6708 - val_loss: 0.6281 - val_accuracy: 0.6572\n",
      "Epoch 29/300\n",
      "335/335 [==============================] - 0s 1ms/step - loss: 0.6175 - accuracy: 0.6690 - val_loss: 0.6266 - val_accuracy: 0.6624\n",
      "Epoch 30/300\n",
      "335/335 [==============================] - 0s 949us/step - loss: 0.6152 - accuracy: 0.6727 - val_loss: 0.6247 - val_accuracy: 0.6639\n",
      "Epoch 31/300\n",
      "335/335 [==============================] - 0s 1ms/step - loss: 0.6151 - accuracy: 0.6736 - val_loss: 0.6255 - val_accuracy: 0.6650\n",
      "Epoch 32/300\n",
      "335/335 [==============================] - 0s 987us/step - loss: 0.6146 - accuracy: 0.6787 - val_loss: 0.6225 - val_accuracy: 0.6699\n",
      "Epoch 33/300\n",
      "335/335 [==============================] - 0s 922us/step - loss: 0.6117 - accuracy: 0.6776 - val_loss: 0.6252 - val_accuracy: 0.6617\n",
      "Epoch 34/300\n",
      "335/335 [==============================] - 0s 951us/step - loss: 0.6102 - accuracy: 0.6826 - val_loss: 0.6191 - val_accuracy: 0.6770\n",
      "Epoch 35/300\n",
      "335/335 [==============================] - 0s 936us/step - loss: 0.6131 - accuracy: 0.6794 - val_loss: 0.6254 - val_accuracy: 0.6688\n",
      "Epoch 36/300\n",
      "335/335 [==============================] - 0s 1ms/step - loss: 0.6099 - accuracy: 0.6822 - val_loss: 0.6187 - val_accuracy: 0.6736\n",
      "Epoch 37/300\n",
      "335/335 [==============================] - 0s 952us/step - loss: 0.6088 - accuracy: 0.6872 - val_loss: 0.6172 - val_accuracy: 0.6733\n",
      "Epoch 38/300\n",
      "335/335 [==============================] - 0s 1ms/step - loss: 0.6101 - accuracy: 0.6847 - val_loss: 0.6220 - val_accuracy: 0.6699\n",
      "Epoch 39/300\n",
      "335/335 [==============================] - 0s 954us/step - loss: 0.6083 - accuracy: 0.6813 - val_loss: 0.6204 - val_accuracy: 0.6755\n",
      "Epoch 40/300\n",
      "335/335 [==============================] - 0s 931us/step - loss: 0.6094 - accuracy: 0.6823 - val_loss: 0.6251 - val_accuracy: 0.6553\n",
      "Epoch 41/300\n",
      "335/335 [==============================] - 0s 932us/step - loss: 0.6078 - accuracy: 0.6825 - val_loss: 0.6176 - val_accuracy: 0.6766\n",
      "Epoch 42/300\n",
      "335/335 [==============================] - 0s 929us/step - loss: 0.6079 - accuracy: 0.6851 - val_loss: 0.6178 - val_accuracy: 0.6815\n",
      "Epoch 43/300\n",
      "335/335 [==============================] - 0s 922us/step - loss: 0.6063 - accuracy: 0.6836 - val_loss: 0.6175 - val_accuracy: 0.6733\n",
      "Epoch 44/300\n",
      "335/335 [==============================] - 0s 1ms/step - loss: 0.6083 - accuracy: 0.6837 - val_loss: 0.6155 - val_accuracy: 0.6766\n",
      "Epoch 45/300\n",
      "335/335 [==============================] - 0s 932us/step - loss: 0.6071 - accuracy: 0.6844 - val_loss: 0.6201 - val_accuracy: 0.6748\n",
      "Epoch 46/300\n",
      "335/335 [==============================] - 0s 918us/step - loss: 0.6083 - accuracy: 0.6819 - val_loss: 0.6160 - val_accuracy: 0.6729\n",
      "Epoch 47/300\n",
      "335/335 [==============================] - 0s 925us/step - loss: 0.6075 - accuracy: 0.6832 - val_loss: 0.6161 - val_accuracy: 0.6733\n",
      "Epoch 48/300\n",
      "335/335 [==============================] - 0s 950us/step - loss: 0.6066 - accuracy: 0.6856 - val_loss: 0.6152 - val_accuracy: 0.6781\n",
      "Epoch 49/300\n",
      "335/335 [==============================] - 0s 926us/step - loss: 0.6064 - accuracy: 0.6833 - val_loss: 0.6174 - val_accuracy: 0.6695\n",
      "Epoch 50/300\n",
      "335/335 [==============================] - 1s 2ms/step - loss: 0.6072 - accuracy: 0.6860 - val_loss: 0.6183 - val_accuracy: 0.6725\n",
      "Epoch 51/300\n",
      "335/335 [==============================] - 1s 2ms/step - loss: 0.6060 - accuracy: 0.6866 - val_loss: 0.6175 - val_accuracy: 0.6733\n",
      "Epoch 52/300\n",
      "335/335 [==============================] - 0s 971us/step - loss: 0.6078 - accuracy: 0.6860 - val_loss: 0.6215 - val_accuracy: 0.6714\n",
      "Epoch 53/300\n",
      "335/335 [==============================] - 0s 932us/step - loss: 0.6064 - accuracy: 0.6844 - val_loss: 0.6152 - val_accuracy: 0.6796\n",
      "Epoch 54/300\n",
      "335/335 [==============================] - 0s 925us/step - loss: 0.6061 - accuracy: 0.6825 - val_loss: 0.6398 - val_accuracy: 0.6621\n",
      "Epoch 55/300\n",
      "335/335 [==============================] - 1s 2ms/step - loss: 0.6060 - accuracy: 0.6857 - val_loss: 0.6166 - val_accuracy: 0.6781\n",
      "Epoch 56/300\n",
      "335/335 [==============================] - 1s 2ms/step - loss: 0.6047 - accuracy: 0.6867 - val_loss: 0.6186 - val_accuracy: 0.6744\n",
      "Epoch 57/300\n",
      "335/335 [==============================] - 0s 1ms/step - loss: 0.6052 - accuracy: 0.6862 - val_loss: 0.6134 - val_accuracy: 0.6800\n",
      "Epoch 58/300\n",
      "335/335 [==============================] - 0s 951us/step - loss: 0.6062 - accuracy: 0.6844 - val_loss: 0.6153 - val_accuracy: 0.6699\n",
      "Epoch 59/300\n",
      "335/335 [==============================] - 0s 987us/step - loss: 0.6051 - accuracy: 0.6822 - val_loss: 0.6147 - val_accuracy: 0.6819\n",
      "Epoch 60/300\n",
      "335/335 [==============================] - 0s 940us/step - loss: 0.6063 - accuracy: 0.6846 - val_loss: 0.6272 - val_accuracy: 0.6721\n",
      "Epoch 61/300\n",
      "335/335 [==============================] - 0s 1ms/step - loss: 0.6061 - accuracy: 0.6845 - val_loss: 0.6260 - val_accuracy: 0.6763\n",
      "Epoch 62/300\n",
      "335/335 [==============================] - 0s 1ms/step - loss: 0.6061 - accuracy: 0.6872 - val_loss: 0.6141 - val_accuracy: 0.6785\n",
      "Epoch 63/300\n",
      "335/335 [==============================] - 0s 1ms/step - loss: 0.6041 - accuracy: 0.6853 - val_loss: 0.6237 - val_accuracy: 0.6662\n",
      "Epoch 64/300\n",
      "335/335 [==============================] - 0s 932us/step - loss: 0.6043 - accuracy: 0.6867 - val_loss: 0.6293 - val_accuracy: 0.6650\n",
      "Epoch 65/300\n",
      "335/335 [==============================] - 0s 1ms/step - loss: 0.6064 - accuracy: 0.6851 - val_loss: 0.6146 - val_accuracy: 0.6796\n",
      "Epoch 66/300\n",
      "335/335 [==============================] - 1s 2ms/step - loss: 0.6055 - accuracy: 0.6905 - val_loss: 0.6193 - val_accuracy: 0.6774\n",
      "Epoch 67/300\n",
      "335/335 [==============================] - 0s 934us/step - loss: 0.6047 - accuracy: 0.6878 - val_loss: 0.6197 - val_accuracy: 0.6740\n",
      "Epoch 68/300\n",
      "335/335 [==============================] - 0s 942us/step - loss: 0.6045 - accuracy: 0.6866 - val_loss: 0.6152 - val_accuracy: 0.6800\n",
      "Epoch 69/300\n",
      "335/335 [==============================] - 0s 918us/step - loss: 0.6060 - accuracy: 0.6846 - val_loss: 0.6156 - val_accuracy: 0.6796\n",
      "Epoch 70/300\n",
      "335/335 [==============================] - 0s 1ms/step - loss: 0.6046 - accuracy: 0.6863 - val_loss: 0.6146 - val_accuracy: 0.6770\n",
      "Epoch 71/300\n",
      "335/335 [==============================] - 1s 2ms/step - loss: 0.6048 - accuracy: 0.6874 - val_loss: 0.6164 - val_accuracy: 0.6845\n",
      "Epoch 72/300\n",
      "335/335 [==============================] - 0s 1ms/step - loss: 0.6048 - accuracy: 0.6862 - val_loss: 0.6194 - val_accuracy: 0.6744\n",
      "Epoch 73/300\n",
      "335/335 [==============================] - 0s 969us/step - loss: 0.6035 - accuracy: 0.6850 - val_loss: 0.6205 - val_accuracy: 0.6725\n",
      "Epoch 74/300\n",
      "335/335 [==============================] - 0s 981us/step - loss: 0.6033 - accuracy: 0.6885 - val_loss: 0.6143 - val_accuracy: 0.6826\n",
      "Epoch 75/300\n",
      "335/335 [==============================] - 1s 2ms/step - loss: 0.6049 - accuracy: 0.6852 - val_loss: 0.6259 - val_accuracy: 0.6759\n",
      "Epoch 76/300\n",
      "335/335 [==============================] - 0s 1ms/step - loss: 0.6038 - accuracy: 0.6881 - val_loss: 0.6134 - val_accuracy: 0.6800\n",
      "Epoch 77/300\n",
      "335/335 [==============================] - 1s 2ms/step - loss: 0.6040 - accuracy: 0.6893 - val_loss: 0.6143 - val_accuracy: 0.6792\n",
      "Epoch 78/300\n",
      "335/335 [==============================] - 0s 1ms/step - loss: 0.6048 - accuracy: 0.6862 - val_loss: 0.6145 - val_accuracy: 0.6740\n",
      "Epoch 79/300\n",
      "335/335 [==============================] - 0s 1ms/step - loss: 0.6058 - accuracy: 0.6878 - val_loss: 0.6187 - val_accuracy: 0.6733\n",
      "Epoch 80/300\n",
      "335/335 [==============================] - 1s 2ms/step - loss: 0.6037 - accuracy: 0.6873 - val_loss: 0.6196 - val_accuracy: 0.6748\n",
      "Epoch 81/300\n",
      "335/335 [==============================] - 1s 2ms/step - loss: 0.6036 - accuracy: 0.6856 - val_loss: 0.6231 - val_accuracy: 0.6695\n",
      "Epoch 82/300\n",
      "335/335 [==============================] - 0s 1ms/step - loss: 0.6040 - accuracy: 0.6860 - val_loss: 0.6263 - val_accuracy: 0.6740\n",
      "Epoch 00082: early stopping\n"
     ]
    },
    {
     "data": {
      "text/plain": [
       "<tensorflow.python.keras.callbacks.History at 0x7fba59dd5130>"
      ]
     },
     "execution_count": 225,
     "metadata": {},
     "output_type": "execute_result"
    }
   ],
   "source": [
    "from tensorflow.keras.callbacks import EarlyStopping\n",
    "\n",
    "model = Sequential()\n",
    "model.add(Dense(20, activation='relu'))\n",
    "model.add(Dense(15, activation='relu'))\n",
    "# Binary classification\n",
    "model.add(Dense(1, activation='sigmoid'))\n",
    "model.compile(loss='binary_crossentropy', optimizer='adam', metrics=['accuracy'])\n",
    "early_stop = EarlyStopping(monitor='val_loss', mode='min', verbose=1, patience=25)\n",
    "model.fit(x=X_train, y=y_train, epochs=300, validation_data=(X_test, y_test), verbose=1, callbacks=[early_stop])\n",
    "#model.fit(x=X_train, y=y_train, epochs=600, validation_data=(X_test, y_test), verbose=1)"
   ]
  },
  {
   "cell_type": "code",
   "execution_count": 226,
   "metadata": {},
   "outputs": [
    {
     "data": {
      "text/plain": [
       "<AxesSubplot:>"
      ]
     },
     "execution_count": 226,
     "metadata": {},
     "output_type": "execute_result"
    },
    {
     "data": {
      "image/png": "[encoded data removed]",
      "text/plain": [
       "<Figure size 432x288 with 1 Axes>"
      ]
     },
     "metadata": {
      "needs_background": "light"
     },
     "output_type": "display_data"
    },
    {
     "data": {
      "image/png": "[encoded data removed]",
      "text/plain": [
       "<Figure size 432x288 with 1 Axes>"
      ]
     },
     "metadata": {
      "needs_background": "light"
     },
     "output_type": "display_data"
    }
   ],
   "source": [
    "model_loss = pd.DataFrame(model.history.history)\n",
    "loss = model_loss[['loss', 'val_loss']]\n",
    "acc = model_loss[['accuracy', 'val_accuracy']]\n",
    "loss.plot()\n",
    "acc.plot()"
   ]
  },
  {
   "cell_type": "code",
   "execution_count": 227,
   "metadata": {},
   "outputs": [
    {
     "name": "stdout",
     "output_type": "stream",
     "text": [
      "              precision    recall  f1-score   support\n",
      "\n",
      "           0       0.66      0.43      0.52      1104\n",
      "           1       0.68      0.84      0.75      1574\n",
      "\n",
      "    accuracy                           0.67      2678\n",
      "   macro avg       0.67      0.64      0.64      2678\n",
      "weighted avg       0.67      0.67      0.66      2678\n",
      "\n",
      "[[ 475  629]\n",
      " [ 244 1330]]\n"
     ]
    },
    {
     "name": "stderr",
     "output_type": "stream",
     "text": [
      "/Library/Frameworks/Python.framework/Versions/3.9/lib/python3.9/site-packages/tensorflow/python/keras/engine/sequential.py:455: UserWarning: `model.predict_classes()` is deprecated and will be removed after 2021-01-01. Please use instead:* `np.argmax(model.predict(x), axis=-1)`,   if your model does multi-class classification   (e.g. if it uses a `softmax` last-layer activation).* `(model.predict(x) > 0.5).astype(\"int32\")`,   if your model does binary classification   (e.g. if it uses a `sigmoid` last-layer activation).\n",
      "  'will be removed after 2021-01-01. '\n"
     ]
    }
   ],
   "source": [
    "predictions = model.predict_classes(X_test)\n",
    "print(classification_report(y_test,predictions))\n",
    "print(confusion_matrix(y_test,predictions))"
   ]
  },
  {
   "cell_type": "code",
   "execution_count": 228,
   "metadata": {},
   "outputs": [
    {
     "name": "stdout",
     "output_type": "stream",
     "text": [
      "              precision    recall  f1-score   support\n",
      "\n",
      "           0       0.50      0.49      0.50      1104\n",
      "           1       0.65      0.66      0.65      1574\n",
      "\n",
      "    accuracy                           0.59      2678\n",
      "   macro avg       0.58      0.58      0.58      2678\n",
      "weighted avg       0.59      0.59      0.59      2678\n",
      "\n",
      "[[ 545  559]\n",
      " [ 539 1035]]\n",
      "              precision    recall  f1-score   support\n",
      "\n",
      "           0       0.56      0.51      0.53      1104\n",
      "           1       0.68      0.71      0.69      1574\n",
      "\n",
      "    accuracy                           0.63      2678\n",
      "   macro avg       0.62      0.61      0.61      2678\n",
      "weighted avg       0.63      0.63      0.63      2678\n",
      "\n",
      "[[ 567  537]\n",
      " [ 453 1121]]\n"
     ]
    }
   ],
   "source": [
    "from sklearn.tree import DecisionTreeClassifier\n",
    "from sklearn.ensemble import RandomForestClassifier\n",
    "\n",
    "dtree = DecisionTreeClassifier()\n",
    "dtree.fit(X_train,y_train)\n",
    "predictions = dtree.predict(X_test)\n",
    "\n",
    "print(classification_report(y_test,predictions))\n",
    "print(confusion_matrix(y_test,predictions))\n",
    "\n",
    "rfc = RandomForestClassifier(n_estimators=100)\n",
    "rfc.fit(X_train, y_train)\n",
    "\n",
    "rfc_pred = rfc.predict(X_test)\n",
    "print(classification_report(y_test,rfc_pred))\n",
    "print(confusion_matrix(y_test,rfc_pred))"
   ]
  },
  {
   "cell_type": "code",
   "execution_count": null,
   "metadata": {},
   "outputs": [],
   "source": []
  }
 ],
 "metadata": {
  "kernelspec": {
   "display_name": "Python 3",
   "language": "python",
   "name": "python3"
  },
  "language_info": {
   "codemirror_mode": {
    "name": "ipython",
    "version": 3
   },
   "file_extension": ".py",
   "mimetype": "text/x-python",
   "name": "python",
   "nbconvert_exporter": "python",
   "pygments_lexer": "ipython3",
   "version": "3.9.1"
  }
 },
 "nbformat": 4,
 "nbformat_minor": 1
}
