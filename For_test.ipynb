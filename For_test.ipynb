{
 "cells": [
  {
   "cell_type": "code",
   "execution_count": 116,
   "metadata": {},
   "outputs": [
    {
     "data": {
      "text/html": [
       "<div>\n",
       "<style scoped>\n",
       "    .dataframe tbody tr th:only-of-type {\n",
       "        vertical-align: middle;\n",
       "    }\n",
       "\n",
       "    .dataframe tbody tr th {\n",
       "        vertical-align: top;\n",
       "    }\n",
       "\n",
       "    .dataframe thead th {\n",
       "        text-align: right;\n",
       "    }\n",
       "</style>\n",
       "<table border=\"1\" class=\"dataframe\">\n",
       "  <thead>\n",
       "    <tr style=\"text-align: right;\">\n",
       "      <th></th>\n",
       "      <th>ID</th>\n",
       "      <th>Boomi</th>\n",
       "      <th>Sen</th>\n",
       "      <th>Maghtah</th>\n",
       "      <th>Moadel</th>\n",
       "      <th>Doreh</th>\n",
       "      <th>Meliyat</th>\n",
       "      <th>Vaziyattahol</th>\n",
       "      <th>Farzandan</th>\n",
       "      <th>Sal</th>\n",
       "      <th>Komakmali</th>\n",
       "      <th>Jensiyat</th>\n",
       "      <th>Leave</th>\n",
       "      <th>Remove</th>\n",
       "      <th>Tasmim</th>\n",
       "    </tr>\n",
       "  </thead>\n",
       "  <tbody>\n",
       "    <tr>\n",
       "      <th>0</th>\n",
       "      <td>810100001.0</td>\n",
       "      <td>0.0</td>\n",
       "      <td>29.0</td>\n",
       "      <td>PhD</td>\n",
       "      <td>14.86</td>\n",
       "      <td>Rozaneh</td>\n",
       "      <td>Irari</td>\n",
       "      <td>Mojarad</td>\n",
       "      <td>0.0</td>\n",
       "      <td>1400</td>\n",
       "      <td>Bedon-Komak</td>\n",
       "      <td>Mard</td>\n",
       "      <td>No</td>\n",
       "      <td>No</td>\n",
       "      <td>No</td>\n",
       "    </tr>\n",
       "    <tr>\n",
       "      <th>1</th>\n",
       "      <td>810100004.0</td>\n",
       "      <td>Boomi</td>\n",
       "      <td>37.0</td>\n",
       "      <td>PhD</td>\n",
       "      <td>16.04</td>\n",
       "      <td>Shabaneh</td>\n",
       "      <td>Irari</td>\n",
       "      <td>Motahel</td>\n",
       "      <td>1.0</td>\n",
       "      <td>1400</td>\n",
       "      <td>Bedon-Komak</td>\n",
       "      <td>Mard</td>\n",
       "      <td>No</td>\n",
       "      <td>No</td>\n",
       "      <td>No</td>\n",
       "    </tr>\n",
       "    <tr>\n",
       "      <th>2</th>\n",
       "      <td>810100005.0</td>\n",
       "      <td>0.0</td>\n",
       "      <td>29.0</td>\n",
       "      <td>PhD</td>\n",
       "      <td>14.51</td>\n",
       "      <td>Rozaneh</td>\n",
       "      <td>Irari</td>\n",
       "      <td>Mojarad</td>\n",
       "      <td>0.0</td>\n",
       "      <td>1400</td>\n",
       "      <td>Bedon-Komak</td>\n",
       "      <td>Zan</td>\n",
       "      <td>No</td>\n",
       "      <td>No</td>\n",
       "      <td>No</td>\n",
       "    </tr>\n",
       "    <tr>\n",
       "      <th>3</th>\n",
       "      <td>810100006.0</td>\n",
       "      <td>Boomi</td>\n",
       "      <td>31.0</td>\n",
       "      <td>PhD</td>\n",
       "      <td>17.92</td>\n",
       "      <td>Shabaneh</td>\n",
       "      <td>Irari</td>\n",
       "      <td>Motahel</td>\n",
       "      <td>0.0</td>\n",
       "      <td>1400</td>\n",
       "      <td>Bedon-Komak</td>\n",
       "      <td>Mard</td>\n",
       "      <td>No</td>\n",
       "      <td>No</td>\n",
       "      <td>No</td>\n",
       "    </tr>\n",
       "    <tr>\n",
       "      <th>4</th>\n",
       "      <td>810100008.0</td>\n",
       "      <td>Boomi</td>\n",
       "      <td>35.0</td>\n",
       "      <td>PhD</td>\n",
       "      <td>17.51</td>\n",
       "      <td>Rozaneh</td>\n",
       "      <td>Irari</td>\n",
       "      <td>Motahel</td>\n",
       "      <td>2.0</td>\n",
       "      <td>1400</td>\n",
       "      <td>Bedon-Komak</td>\n",
       "      <td>Zan</td>\n",
       "      <td>No</td>\n",
       "      <td>No</td>\n",
       "      <td>No</td>\n",
       "    </tr>\n",
       "  </tbody>\n",
       "</table>\n",
       "</div>"
      ],
      "text/plain": [
       "            ID  Boomi   Sen Maghtah  Moadel     Doreh Meliyat Vaziyattahol  \\\n",
       "0  810100001.0    0.0  29.0     PhD   14.86   Rozaneh   Irari      Mojarad   \n",
       "1  810100004.0  Boomi  37.0     PhD   16.04  Shabaneh   Irari      Motahel   \n",
       "2  810100005.0    0.0  29.0     PhD   14.51   Rozaneh   Irari      Mojarad   \n",
       "3  810100006.0  Boomi  31.0     PhD   17.92  Shabaneh   Irari      Motahel   \n",
       "4  810100008.0  Boomi  35.0     PhD   17.51   Rozaneh   Irari      Motahel   \n",
       "\n",
       "   Farzandan   Sal    Komakmali Jensiyat Leave Remove Tasmim  \n",
       "0        0.0  1400  Bedon-Komak     Mard    No     No     No  \n",
       "1        1.0  1400  Bedon-Komak     Mard    No     No     No  \n",
       "2        0.0  1400  Bedon-Komak      Zan    No     No     No  \n",
       "3        0.0  1400  Bedon-Komak     Mard    No     No     No  \n",
       "4        2.0  1400  Bedon-Komak      Zan    No     No     No  "
      ]
     },
     "execution_count": 116,
     "metadata": {},
     "output_type": "execute_result"
    }
   ],
   "source": [
    "#load all necessary libraries\n",
    "import pandas as pd \n",
    "import numpy as np \n",
    "import scipy as scp\n",
    "import seaborn as sns\n",
    "import random\n",
    "import sklearn\n",
    "#import statsmodels.api as sm\n",
    "import matplotlib.pyplot as plt\n",
    "\n",
    "from sklearn.model_selection import train_test_split\n",
    "from sklearn.linear_model import LogisticRegression\n",
    "from sklearn.metrics import classification_report\n",
    "from sklearn import metrics \n",
    "from sklearn.metrics import confusion_matrix\n",
    "\n",
    "df_test = pd.read_spss('data/newdata/مهندسی.sav')\n",
    "df_test.head()"
   ]
  },
  {
   "cell_type": "code",
   "execution_count": 163,
   "metadata": {},
   "outputs": [
    {
     "data": {
      "text/plain": [
       "['1400', '1395', '1396', '1397', '1398', '1399']\n",
       "Categories (6, object): ['1400', '1395', '1396', '1397', '1398', '1399']"
      ]
     },
     "execution_count": 163,
     "metadata": {},
     "output_type": "execute_result"
    }
   ],
   "source": [
    "df_test['Sal'].unique()"
   ]
  },
  {
   "cell_type": "code",
   "execution_count": 117,
   "metadata": {},
   "outputs": [
    {
     "name": "stdout",
     "output_type": "stream",
     "text": [
      "  Column1 Column2 Column3\n",
      "0       A       X     Yes\n",
      "1       B       Y      No\n",
      "2       C       X     Yes\n",
      "3       A       Z     Yes\n",
      "   Column1  Column2  Column3\n",
      "0        0        0        0\n",
      "1        1        1        1\n",
      "2        2        0        0\n",
      "3        0        2        0\n"
     ]
    }
   ],
   "source": [
    "import pandas as pd\n",
    "\n",
    "# create a sample data frame\n",
    "df = pd.DataFrame({\n",
    "    'Column1': ['A', 'B', 'C', 'A'],\n",
    "    'Column2': ['X', 'Y', 'X', 'Z'],\n",
    "    'Column3': ['Yes', 'No', 'Yes', 'Yes']\n",
    "})\n",
    "print(df)\n",
    "# create a dictionary to map unique values to numbers\n",
    "mapping_dict = {}\n",
    "for col in df.columns:\n",
    "    unique_values = df[col].unique()\n",
    "    mapping_dict[col] = {value: i for i, value in enumerate(unique_values)}\n",
    "\n",
    "# replace values in data frame with mapped values\n",
    "df.replace(mapping_dict, inplace=True)\n",
    "\n",
    "print(df)\n"
   ]
  },
  {
   "cell_type": "code",
   "execution_count": 118,
   "metadata": {},
   "outputs": [
    {
     "data": {
      "text/html": [
       "<div>\n",
       "<style scoped>\n",
       "    .dataframe tbody tr th:only-of-type {\n",
       "        vertical-align: middle;\n",
       "    }\n",
       "\n",
       "    .dataframe tbody tr th {\n",
       "        vertical-align: top;\n",
       "    }\n",
       "\n",
       "    .dataframe thead th {\n",
       "        text-align: right;\n",
       "    }\n",
       "</style>\n",
       "<table border=\"1\" class=\"dataframe\">\n",
       "  <thead>\n",
       "    <tr style=\"text-align: right;\">\n",
       "      <th></th>\n",
       "      <th>ID</th>\n",
       "      <th>Boomi</th>\n",
       "      <th>Sen</th>\n",
       "      <th>Maghtah</th>\n",
       "      <th>Moadel</th>\n",
       "      <th>Doreh</th>\n",
       "      <th>Meliyat</th>\n",
       "      <th>Vaziyattahol</th>\n",
       "      <th>Farzandan</th>\n",
       "      <th>Sal</th>\n",
       "      <th>Komakmali</th>\n",
       "      <th>Jensiyat</th>\n",
       "      <th>Leave</th>\n",
       "      <th>Remove</th>\n",
       "      <th>Tasmim</th>\n",
       "    </tr>\n",
       "  </thead>\n",
       "  <tbody>\n",
       "    <tr>\n",
       "      <th>0</th>\n",
       "      <td>810100001.0</td>\n",
       "      <td>0</td>\n",
       "      <td>29.0</td>\n",
       "      <td>0</td>\n",
       "      <td>14.86</td>\n",
       "      <td>0</td>\n",
       "      <td>0</td>\n",
       "      <td>0</td>\n",
       "      <td>0.0</td>\n",
       "      <td>1400</td>\n",
       "      <td>0</td>\n",
       "      <td>0</td>\n",
       "      <td>0</td>\n",
       "      <td>0</td>\n",
       "      <td>0</td>\n",
       "    </tr>\n",
       "    <tr>\n",
       "      <th>1</th>\n",
       "      <td>810100004.0</td>\n",
       "      <td>1</td>\n",
       "      <td>37.0</td>\n",
       "      <td>0</td>\n",
       "      <td>16.04</td>\n",
       "      <td>1</td>\n",
       "      <td>0</td>\n",
       "      <td>1</td>\n",
       "      <td>1.0</td>\n",
       "      <td>1400</td>\n",
       "      <td>0</td>\n",
       "      <td>0</td>\n",
       "      <td>0</td>\n",
       "      <td>0</td>\n",
       "      <td>0</td>\n",
       "    </tr>\n",
       "    <tr>\n",
       "      <th>2</th>\n",
       "      <td>810100005.0</td>\n",
       "      <td>0</td>\n",
       "      <td>29.0</td>\n",
       "      <td>0</td>\n",
       "      <td>14.51</td>\n",
       "      <td>0</td>\n",
       "      <td>0</td>\n",
       "      <td>0</td>\n",
       "      <td>0.0</td>\n",
       "      <td>1400</td>\n",
       "      <td>0</td>\n",
       "      <td>1</td>\n",
       "      <td>0</td>\n",
       "      <td>0</td>\n",
       "      <td>0</td>\n",
       "    </tr>\n",
       "    <tr>\n",
       "      <th>3</th>\n",
       "      <td>810100006.0</td>\n",
       "      <td>1</td>\n",
       "      <td>31.0</td>\n",
       "      <td>0</td>\n",
       "      <td>17.92</td>\n",
       "      <td>1</td>\n",
       "      <td>0</td>\n",
       "      <td>1</td>\n",
       "      <td>0.0</td>\n",
       "      <td>1400</td>\n",
       "      <td>0</td>\n",
       "      <td>0</td>\n",
       "      <td>0</td>\n",
       "      <td>0</td>\n",
       "      <td>0</td>\n",
       "    </tr>\n",
       "    <tr>\n",
       "      <th>4</th>\n",
       "      <td>810100008.0</td>\n",
       "      <td>1</td>\n",
       "      <td>35.0</td>\n",
       "      <td>0</td>\n",
       "      <td>17.51</td>\n",
       "      <td>0</td>\n",
       "      <td>0</td>\n",
       "      <td>1</td>\n",
       "      <td>2.0</td>\n",
       "      <td>1400</td>\n",
       "      <td>0</td>\n",
       "      <td>1</td>\n",
       "      <td>0</td>\n",
       "      <td>0</td>\n",
       "      <td>0</td>\n",
       "    </tr>\n",
       "  </tbody>\n",
       "</table>\n",
       "</div>"
      ],
      "text/plain": [
       "            ID  Boomi   Sen  Maghtah  Moadel  Doreh  Meliyat  Vaziyattahol  \\\n",
       "0  810100001.0      0  29.0        0   14.86      0        0             0   \n",
       "1  810100004.0      1  37.0        0   16.04      1        0             1   \n",
       "2  810100005.0      0  29.0        0   14.51      0        0             0   \n",
       "3  810100006.0      1  31.0        0   17.92      1        0             1   \n",
       "4  810100008.0      1  35.0        0   17.51      0        0             1   \n",
       "\n",
       "   Farzandan   Sal  Komakmali  Jensiyat  Leave  Remove  Tasmim  \n",
       "0        0.0  1400          0         0      0       0       0  \n",
       "1        1.0  1400          0         0      0       0       0  \n",
       "2        0.0  1400          0         1      0       0       0  \n",
       "3        0.0  1400          0         0      0       0       0  \n",
       "4        2.0  1400          0         1      0       0       0  "
      ]
     },
     "execution_count": 118,
     "metadata": {},
     "output_type": "execute_result"
    }
   ],
   "source": [
    "# create a dictionary to map unique values to numbers\n",
    "mapping_dict = {}\n",
    "variables = list(set(df_test.columns) - {\"ID\", \"Sen\", \"Moadel\", \"Farzandan\", \"Sal\"})\n",
    "for col in variables:\n",
    "    unique_values = df_test[col].unique()\n",
    "    mapping_dict[col] = {value: i for i, value in enumerate(unique_values)}\n",
    "\n",
    "# replace values in data frame with mapped values\n",
    "df_test.replace(mapping_dict, inplace=True)\n",
    "df_test.head()"
   ]
  },
  {
   "cell_type": "code",
   "execution_count": 119,
   "metadata": {},
   "outputs": [
    {
     "name": "stdout",
     "output_type": "stream",
     "text": [
      "(7, 15)\n",
      "(6, 15)\n",
      "(3494, 15)\n"
     ]
    }
   ],
   "source": [
    "print(df_test[df_test['Leave'] == 1].shape)\n",
    "print(df_test[df_test['Remove'] == 1].shape)\n",
    "#print(df_test[df_test['Tasmim'] == 1].shape)\n",
    "print(df_test.shape)"
   ]
  },
  {
   "cell_type": "code",
   "execution_count": 120,
   "metadata": {},
   "outputs": [
    {
     "data": {
      "image/png": "[encoded data removed]",
      "text/plain": [
       "<Figure size 432x288 with 1 Axes>"
      ]
     },
     "metadata": {},
     "output_type": "display_data"
    }
   ],
   "source": [
    "Leave = df_test[df_test['Leave'] == 1].shape[0]\n",
    "Remove = df_test[df_test['Remove'] == 1].shape[0]\n",
    "Remained = df_test.shape[0] - Leave - Leave\n",
    "plt.pie([Leave, Remove, Remained], shadow=True, labels=['Leave ','Remove', 'Rest'], textprops={'color':\"w\"}, autopct='%1.1f%%');"
   ]
  },
  {
   "cell_type": "code",
   "execution_count": 142,
   "metadata": {},
   "outputs": [
    {
     "data": {
      "text/plain": [
       "<AxesSubplot:>"
      ]
     },
     "execution_count": 142,
     "metadata": {},
     "output_type": "execute_result"
    },
    {
     "data": {
      "image/png": "[encoded data removed]",
      "text/plain": [
       "<Figure size 432x288 with 2 Axes>"
      ]
     },
     "metadata": {
      "needs_background": "light"
     },
     "output_type": "display_data"
    }
   ],
   "source": [
    "sns.heatmap(df_test.corr(), annot=False)\n"
   ]
  },
  {
   "cell_type": "code",
   "execution_count": 121,
   "metadata": {},
   "outputs": [],
   "source": [
    "def dummy_fill(df):\n",
    "    SL = df['Leave']\n",
    "    CF = df['Remove']\n",
    "\n",
    "    if SL == 1:\n",
    "        return 'Leave'\n",
    "    if CF == 1:\n",
    "        return 'Remove'\n",
    "    else: \n",
    "        return '0'       \n",
    "\n",
    "df_test['newClass'] = df_test.apply(dummy_fill, axis=1)"
   ]
  },
  {
   "cell_type": "code",
   "execution_count": 122,
   "metadata": {},
   "outputs": [
    {
     "name": "stdout",
     "output_type": "stream",
     "text": [
      "non zero percentage: 0.3720663995420721\n"
     ]
    }
   ],
   "source": [
    "df_test.head()\n",
    "print(\"non zero percentage:\", 100*len(df_test[(df_test['newClass'] != '0')]) / len(df_test))"
   ]
  },
  {
   "cell_type": "code",
   "execution_count": 123,
   "metadata": {},
   "outputs": [
    {
     "data": {
      "text/plain": [
       "ID              0\n",
       "Boomi           0\n",
       "Sen             0\n",
       "Maghtah         0\n",
       "Moadel          0\n",
       "Doreh           0\n",
       "Meliyat         0\n",
       "Vaziyattahol    0\n",
       "Farzandan       0\n",
       "Sal             0\n",
       "Komakmali       0\n",
       "Jensiyat        0\n",
       "Leave           0\n",
       "Remove          0\n",
       "Tasmim          0\n",
       "newClass        0\n",
       "dtype: int64"
      ]
     },
     "execution_count": 123,
     "metadata": {},
     "output_type": "execute_result"
    }
   ],
   "source": [
    "df_test.dropna(inplace=True)\n",
    "df_test.isna().sum()"
   ]
  },
  {
   "cell_type": "code",
   "execution_count": 124,
   "metadata": {},
   "outputs": [
    {
     "name": "stdout",
     "output_type": "stream",
     "text": [
      "Columns for training: ['ID', 'Boomi', 'Sen', 'Maghtah', 'Moadel', 'Doreh', 'Meliyat', 'Vaziyattahol', 'Farzandan', 'Sal', 'Komakmali', 'Jensiyat']\n",
      "(2723, 12)\n",
      "(681, 12)\n",
      "(2723,)\n",
      "(681,)\n",
      "{'C': 1.0, 'class_weight': None, 'dual': False, 'fit_intercept': True, 'intercept_scaling': 1, 'l1_ratio': None, 'max_iter': 100, 'multi_class': 'multinomial', 'n_jobs': None, 'penalty': 'none', 'random_state': 0, 'solver': 'newton-cg', 'tol': 0.0001, 'verbose': 0, 'warm_start': False}\n",
      "Accuracy Score: 0.9926578560939795\n",
      "              precision    recall  f1-score   support\n",
      "\n",
      "           0       0.99      1.00      1.00       676\n",
      "       Leave       0.00      0.00      0.00         2\n",
      "      Remove       0.00      0.00      0.00         3\n",
      "\n",
      "    accuracy                           0.99       681\n",
      "   macro avg       0.33      0.33      0.33       681\n",
      "weighted avg       0.99      0.99      0.99       681\n",
      "\n"
     ]
    },
    {
     "name": "stderr",
     "output_type": "stream",
     "text": [
      "/Library/Frameworks/Python.framework/Versions/3.9/lib/python3.9/site-packages/scipy/optimize/linesearch.py:478: LineSearchWarning: The line search algorithm did not converge\n",
      "  warn('The line search algorithm did not converge', LineSearchWarning)\n",
      "/Library/Frameworks/Python.framework/Versions/3.9/lib/python3.9/site-packages/scipy/optimize/linesearch.py:327: LineSearchWarning: The line search algorithm did not converge\n",
      "  warn('The line search algorithm did not converge', LineSearchWarning)\n",
      "/Library/Frameworks/Python.framework/Versions/3.9/lib/python3.9/site-packages/scipy/optimize/linesearch.py:437: LineSearchWarning: Rounding errors prevent the line search from converging\n",
      "  warn(msg, LineSearchWarning)\n",
      "/Library/Frameworks/Python.framework/Versions/3.9/lib/python3.9/site-packages/sklearn/utils/optimize.py:195: UserWarning: Line Search failed\n",
      "  warnings.warn('Line Search failed')\n",
      "/Library/Frameworks/Python.framework/Versions/3.9/lib/python3.9/site-packages/sklearn/utils/validation.py:63: FutureWarning: Arrays of bytes/strings is being converted to decimal numbers if dtype='numeric'. This behavior is deprecated in 0.24 and will be removed in 1.1 (renaming of 0.26). Please convert your data to numeric values explicitly instead.\n",
      "  return f(*args, **kwargs)\n",
      "/Library/Frameworks/Python.framework/Versions/3.9/lib/python3.9/site-packages/sklearn/metrics/_classification.py:1248: UndefinedMetricWarning: Precision and F-score are ill-defined and being set to 0.0 in labels with no predicted samples. Use `zero_division` parameter to control this behavior.\n",
      "  _warn_prf(average, modifier, msg_start, len(result))\n",
      "/Library/Frameworks/Python.framework/Versions/3.9/lib/python3.9/site-packages/sklearn/metrics/_classification.py:1248: UndefinedMetricWarning: Precision and F-score are ill-defined and being set to 0.0 in labels with no predicted samples. Use `zero_division` parameter to control this behavior.\n",
      "  _warn_prf(average, modifier, msg_start, len(result))\n",
      "/Library/Frameworks/Python.framework/Versions/3.9/lib/python3.9/site-packages/sklearn/metrics/_classification.py:1248: UndefinedMetricWarning: Precision and F-score are ill-defined and being set to 0.0 in labels with no predicted samples. Use `zero_division` parameter to control this behavior.\n",
      "  _warn_prf(average, modifier, msg_start, len(result))\n"
     ]
    }
   ],
   "source": [
    "X = df_test.drop(['Leave', 'Remove', 'newClass', 'Tasmim'], axis=1) \n",
    "y = df_test['newClass']\n",
    "#y=y.astype('object')\n",
    "\n",
    "print(\"Columns for training:\", list(X.columns.values)) \n",
    "\n",
    "X_train, X_test, y_train, y_test = sklearn.model_selection.train_test_split(X, y, test_size = 0.20, random_state = 5)\n",
    "print(X_train.shape)\n",
    "print(X_test.shape)\n",
    "print(y_train.shape)\n",
    "print(y_test.shape)\n",
    "\n",
    "model1 = LogisticRegression(random_state=0, multi_class='multinomial', penalty='none', solver='newton-cg').fit(X_train, y_train)\n",
    "preds = model1.predict(X_test)\n",
    "\n",
    "#print the tunable parameters (They were not tuned in this example, everything kept as default)\n",
    "params = model1.get_params()\n",
    "print(params)\n",
    "\n",
    "#Print model parameters\n",
    "#print('Intercept: \\n', model1.intercept_)\n",
    "#print('Coefficients: \\n', model1.coef_)\n",
    "\n",
    "#Create a confusion matrix\n",
    "#y_test as first argument and the preds as second argument \n",
    "confusion_matrix(y_test, preds)\n",
    "\n",
    "#transform confusion matrix into array\n",
    "#the matrix is stored in a vaiable called confmtrx\n",
    "confmtrx = np.array(confusion_matrix(y_test, preds))\n",
    "\n",
    "#Accuracy statistics\n",
    "\n",
    "print('Accuracy Score:', metrics.accuracy_score(y_test, preds))  \n",
    "\n",
    "#Create classification report\n",
    "class_report=classification_report(y_test, preds)\n",
    "print(class_report)"
   ]
  },
  {
   "cell_type": "code",
   "execution_count": 125,
   "metadata": {},
   "outputs": [
    {
     "name": "stdout",
     "output_type": "stream",
     "text": [
      "Columns for training: ['Boomi', 'Sen', 'Maghtah', 'Moadel', 'Doreh', 'Meliyat', 'Vaziyattahol', 'Farzandan', 'Sal', 'Komakmali', 'Jensiyat']\n",
      "(2723, 11)\n",
      "(681, 11)\n",
      "(2723,)\n",
      "(681,)\n",
      "              precision    recall  f1-score   support\n",
      "\n",
      "           0       0.99      1.00      0.99       676\n",
      "       Leave       0.00      0.00      0.00         2\n",
      "      Remove       0.00      0.00      0.00         3\n",
      "\n",
      "    accuracy                           0.99       681\n",
      "   macro avg       0.33      0.33      0.33       681\n",
      "weighted avg       0.99      0.99      0.99       681\n",
      "\n",
      "[[673   2   1]\n",
      " [  2   0   0]\n",
      " [  3   0   0]]\n"
     ]
    }
   ],
   "source": [
    "from sklearn.tree import DecisionTreeClassifier\n",
    "\n",
    "X = df_test.drop(['Leave', 'Remove', 'newClass', 'Tasmim', 'ID'], axis=1) \n",
    "y = df_test['newClass']\n",
    "#y=y.astype('object')\n",
    "\n",
    "print(\"Columns for training:\", list(X.columns.values)) \n",
    "\n",
    "X_train, X_test, y_train, y_test = sklearn.model_selection.train_test_split(X, y, test_size = 0.20, random_state = 5)\n",
    "print(X_train.shape)\n",
    "print(X_test.shape)\n",
    "print(y_train.shape)\n",
    "print(y_test.shape)\n",
    "\n",
    "dtree = DecisionTreeClassifier()\n",
    "dtree.fit(X_train,y_train)\n",
    "predictions = dtree.predict(X_test)\n",
    "\n",
    "print(classification_report(y_test,predictions))\n",
    "print(confusion_matrix(y_test,predictions))"
   ]
  },
  {
   "cell_type": "code",
   "execution_count": 135,
   "metadata": {},
   "outputs": [
    {
     "name": "stdout",
     "output_type": "stream",
     "text": [
      "Columns for training: ['Boomi', 'Sen', 'Maghtah', 'Doreh', 'Meliyat', 'Vaziyattahol', 'Farzandan', 'Komakmali', 'Jensiyat', 'Leave', 'Remove']\n"
     ]
    },
    {
     "data": {
      "image/png": "[encoded data removed]",
      "text/plain": [
       "<Figure size 432x288 with 1 Axes>"
      ]
     },
     "metadata": {
      "needs_background": "light"
     },
     "output_type": "display_data"
    },
    {
     "data": {
      "image/png": "[encoded data removed]",
      "text/plain": [
       "<Figure size 360x360 with 1 Axes>"
      ]
     },
     "metadata": {
      "needs_background": "light"
     },
     "output_type": "display_data"
    }
   ],
   "source": [
    "X = df_test.drop(['newClass', 'ID', 'Sal', 'Tasmim','Moadel'], axis=1) \n",
    "#X = df_test[['Leave', 'Remove']]\n",
    "y = df_test['Moadel']\n",
    "#y=y.astype('object')\n",
    "\n",
    "print(\"Columns for training:\", list(X.columns.values)) \n",
    "\n",
    "X_train, X_test, y_train, y_test = sklearn.model_selection.train_test_split(X, y, test_size = 0.20, random_state = 5)\n",
    "scaler = MinMaxScaler()\n",
    "X_train= scaler.fit_transform(X_train)\n",
    "X_test = scaler.transform(X_test)\n",
    "\n",
    "from sklearn.linear_model import LinearRegression\n",
    "lm = LinearRegression()\n",
    "lm.fit(X_train,y_train)\n",
    "\n",
    "predictions = lm.predict(X_test)\n",
    "plt.scatter(y_test,predictions)\n",
    "plt.xlabel('Y Test')\n",
    "plt.ylabel('Predicted Y')\n",
    "#plt.plot(y_test,y_test,'r')\n",
    "\n",
    "sns.displot((y_test-predictions),bins=50, kde=True);"
   ]
  },
  {
   "cell_type": "code",
   "execution_count": 136,
   "metadata": {},
   "outputs": [
    {
     "data": {
      "text/html": [
       "<div>\n",
       "<style scoped>\n",
       "    .dataframe tbody tr th:only-of-type {\n",
       "        vertical-align: middle;\n",
       "    }\n",
       "\n",
       "    .dataframe tbody tr th {\n",
       "        vertical-align: top;\n",
       "    }\n",
       "\n",
       "    .dataframe thead th {\n",
       "        text-align: right;\n",
       "    }\n",
       "</style>\n",
       "<table border=\"1\" class=\"dataframe\">\n",
       "  <thead>\n",
       "    <tr style=\"text-align: right;\">\n",
       "      <th></th>\n",
       "      <th>Coefficient</th>\n",
       "    </tr>\n",
       "  </thead>\n",
       "  <tbody>\n",
       "    <tr>\n",
       "      <th>Boomi</th>\n",
       "      <td>0.140288</td>\n",
       "    </tr>\n",
       "    <tr>\n",
       "      <th>Sen</th>\n",
       "      <td>-1.385269</td>\n",
       "    </tr>\n",
       "    <tr>\n",
       "      <th>Maghtah</th>\n",
       "      <td>-1.260935</td>\n",
       "    </tr>\n",
       "    <tr>\n",
       "      <th>Doreh</th>\n",
       "      <td>-0.536000</td>\n",
       "    </tr>\n",
       "    <tr>\n",
       "      <th>Meliyat</th>\n",
       "      <td>-0.767138</td>\n",
       "    </tr>\n",
       "    <tr>\n",
       "      <th>Vaziyattahol</th>\n",
       "      <td>-0.023706</td>\n",
       "    </tr>\n",
       "    <tr>\n",
       "      <th>Farzandan</th>\n",
       "      <td>0.691198</td>\n",
       "    </tr>\n",
       "    <tr>\n",
       "      <th>Komakmali</th>\n",
       "      <td>0.289787</td>\n",
       "    </tr>\n",
       "    <tr>\n",
       "      <th>Jensiyat</th>\n",
       "      <td>0.271232</td>\n",
       "    </tr>\n",
       "    <tr>\n",
       "      <th>Leave</th>\n",
       "      <td>0.231680</td>\n",
       "    </tr>\n",
       "    <tr>\n",
       "      <th>Remove</th>\n",
       "      <td>0.453706</td>\n",
       "    </tr>\n",
       "  </tbody>\n",
       "</table>\n",
       "</div>"
      ],
      "text/plain": [
       "              Coefficient\n",
       "Boomi            0.140288\n",
       "Sen             -1.385269\n",
       "Maghtah         -1.260935\n",
       "Doreh           -0.536000\n",
       "Meliyat         -0.767138\n",
       "Vaziyattahol    -0.023706\n",
       "Farzandan        0.691198\n",
       "Komakmali        0.289787\n",
       "Jensiyat         0.271232\n",
       "Leave            0.231680\n",
       "Remove           0.453706"
      ]
     },
     "execution_count": 136,
     "metadata": {},
     "output_type": "execute_result"
    }
   ],
   "source": [
    "coeff_df = pd.DataFrame(lm.coef_,index=X.columns,columns=['Coefficient'])\n",
    "coeff_df"
   ]
  },
  {
   "cell_type": "code",
   "execution_count": 137,
   "metadata": {},
   "outputs": [
    {
     "name": "stdout",
     "output_type": "stream",
     "text": [
      "MAE: 1.1246044942196982\n",
      "MSE: 2.0668972105627903\n",
      "RMSE: 1.4376707587493007\n"
     ]
    }
   ],
   "source": [
    "# calculate these metrics by hand!\n",
    "from sklearn import metrics\n",
    "\n",
    "print('MAE:', metrics.mean_absolute_error(y_test, predictions))\n",
    "print('MSE:', metrics.mean_squared_error(y_test, predictions))\n",
    "print('RMSE:', np.sqrt(metrics.mean_squared_error(y_test, predictions)))"
   ]
  },
  {
   "cell_type": "code",
   "execution_count": 138,
   "metadata": {},
   "outputs": [
    {
     "data": {
      "text/plain": [
       "<tensorflow.python.keras.callbacks.History at 0x7fba99700340>"
      ]
     },
     "execution_count": 138,
     "metadata": {},
     "output_type": "execute_result"
    }
   ],
   "source": [
    "from tensorflow.keras.models import Sequential\n",
    "from tensorflow.keras.layers import Dense, Activation\n",
    "from tensorflow.keras.optimizers import Adam\n",
    "\n",
    "model = Sequential()\n",
    "\n",
    "model.add(Dense(11,activation='relu'))\n",
    "model.add(Dense(11,activation='relu'))\n",
    "model.add(Dense(11,activation='relu'))\n",
    "model.add(Dense(1))\n",
    "\n",
    "model.compile(optimizer='adam',loss='mse')\n",
    "model.fit(x=X_train,y=y_train.values,\n",
    "          validation_data=(X_test,y_test.values),\n",
    "          batch_size=128,epochs=400, verbose=False)"
   ]
  },
  {
   "cell_type": "code",
   "execution_count": 139,
   "metadata": {},
   "outputs": [
    {
     "data": {
      "text/plain": [
       "<AxesSubplot:>"
      ]
     },
     "execution_count": 139,
     "metadata": {},
     "output_type": "execute_result"
    },
    {
     "data": {
      "image/png": "[encoded data removed]",
      "text/plain": [
       "<Figure size 432x288 with 1 Axes>"
      ]
     },
     "metadata": {
      "needs_background": "light"
     },
     "output_type": "display_data"
    }
   ],
   "source": [
    "losses = pd.DataFrame(model.history.history)\n",
    "losses.plot()"
   ]
  },
  {
   "cell_type": "code",
   "execution_count": 140,
   "metadata": {},
   "outputs": [
    {
     "data": {
      "text/plain": [
       "Text(0, 0.5, 'Predicted Y')"
      ]
     },
     "execution_count": 140,
     "metadata": {},
     "output_type": "execute_result"
    },
    {
     "data": {
      "image/png": "[encoded data removed]",
      "text/plain": [
       "<Figure size 432x288 with 1 Axes>"
      ]
     },
     "metadata": {
      "needs_background": "light"
     },
     "output_type": "display_data"
    }
   ],
   "source": [
    "predictions = model.predict(X_test)\n",
    "plt.scatter(y_test,predictions)\n",
    "plt.xlabel('Y Test')\n",
    "plt.ylabel('Predicted Y')\n",
    "#plt.plot(y_test,y_test,'r')\n",
    "\n",
    "#sns.displot((y_test-predictions),bins=50, kde=True);"
   ]
  },
  {
   "cell_type": "code",
   "execution_count": 152,
   "metadata": {},
   "outputs": [
    {
     "data": {
      "text/plain": [
       "<AxesSubplot:>"
      ]
     },
     "execution_count": 152,
     "metadata": {},
     "output_type": "execute_result"
    },
    {
     "data": {
      "image/png": "[encoded data removed]",
      "text/plain": [
       "<Figure size 432x288 with 1 Axes>"
      ]
     },
     "metadata": {
      "needs_background": "light"
     },
     "output_type": "display_data"
    }
   ],
   "source": [
    "df_test.corr()['Jensiyat'].sort_values()[:-1].plot(kind='bar')"
   ]
  },
  {
   "cell_type": "code",
   "execution_count": 155,
   "metadata": {},
   "outputs": [
    {
     "name": "stdout",
     "output_type": "stream",
     "text": [
      "Columns for training: ['Boomi', 'Sen', 'Maghtah', 'Moadel', 'Doreh', 'Meliyat', 'Vaziyattahol', 'Farzandan', 'Komakmali', 'Leave', 'Remove']\n",
      "(2723, 11)\n",
      "(681, 11)\n",
      "(2723,)\n",
      "(681,)\n",
      "{'C': 1.0, 'class_weight': None, 'dual': False, 'fit_intercept': True, 'intercept_scaling': 1, 'l1_ratio': None, 'max_iter': 100, 'multi_class': 'multinomial', 'n_jobs': None, 'penalty': 'none', 'random_state': 0, 'solver': 'newton-cg', 'tol': 0.0001, 'verbose': 0, 'warm_start': False}\n",
      "Accuracy Score: 0.6886930983847284\n",
      "              precision    recall  f1-score   support\n",
      "\n",
      "           0       0.69      1.00      0.81       468\n",
      "           1       0.60      0.01      0.03       213\n",
      "\n",
      "    accuracy                           0.69       681\n",
      "   macro avg       0.64      0.50      0.42       681\n",
      "weighted avg       0.66      0.69      0.57       681\n",
      "\n",
      "0.6886930983847284\n",
      "0.7029012118986412\n"
     ]
    }
   ],
   "source": [
    "X = df_test.drop(['newClass', 'ID', 'Sal', 'Tasmim','Jensiyat'], axis=1) \n",
    "y = df_test['Jensiyat']\n",
    "#y=y.astype('object')\n",
    "\n",
    "print(\"Columns for training:\", list(X.columns.values)) \n",
    "\n",
    "X_train, X_test, y_train, y_test = sklearn.model_selection.train_test_split(X, y, test_size = 0.20, random_state = 5)\n",
    "print(X_train.shape)\n",
    "print(X_test.shape)\n",
    "print(y_train.shape)\n",
    "print(y_test.shape)\n",
    "\n",
    "logmodel = LogisticRegression()\n",
    "logmodel.fit(X_train, y_train)\n",
    "preds = logmodel.predict(X_test)\n",
    "\n",
    "#print the tunable parameters (They were not tuned in this example, everything kept as default)\n",
    "params = model1.get_params()\n",
    "print(params)\n",
    "\n",
    "#Print model parameters\n",
    "#print('Intercept: \\n', model1.intercept_)\n",
    "#print('Coefficients: \\n', model1.coef_)\n",
    "\n",
    "#Create a confusion matrix\n",
    "#y_test as first argument and the preds as second argument \n",
    "confusion_matrix(y_test, preds)\n",
    "\n",
    "#transform confusion matrix into array\n",
    "#the matrix is stored in a vaiable called confmtrx\n",
    "confmtrx = np.array(confusion_matrix(y_test, preds))\n",
    "\n",
    "#Accuracy statistics\n",
    "\n",
    "print('Accuracy Score:', metrics.accuracy_score(y_test, preds))  \n",
    "\n",
    "#Create classification report\n",
    "class_report=classification_report(y_test, preds)\n",
    "print(class_report)\n",
    "\n",
    "print(logmodel.score(X_test, y_test))\n",
    "print(logmodel.score(X_train, y_train))"
   ]
  },
  {
   "cell_type": "code",
   "execution_count": 159,
   "metadata": {},
   "outputs": [
    {
     "name": "stdout",
     "output_type": "stream",
     "text": [
      "Epoch 1/600\n",
      "86/86 [==============================] - 1s 3ms/step - loss: 0.6224 - accuracy: 0.6948 - val_loss: 0.6297 - val_accuracy: 0.6872\n",
      "Epoch 2/600\n",
      "86/86 [==============================] - 0s 2ms/step - loss: 0.6122 - accuracy: 0.7022 - val_loss: 0.6235 - val_accuracy: 0.6872\n",
      "Epoch 3/600\n",
      "86/86 [==============================] - 0s 2ms/step - loss: 0.6095 - accuracy: 0.7022 - val_loss: 0.6231 - val_accuracy: 0.6872\n",
      "Epoch 4/600\n",
      "86/86 [==============================] - 0s 2ms/step - loss: 0.6091 - accuracy: 0.7022 - val_loss: 0.6216 - val_accuracy: 0.6872\n",
      "Epoch 5/600\n",
      "86/86 [==============================] - 0s 1ms/step - loss: 0.6092 - accuracy: 0.7022 - val_loss: 0.6220 - val_accuracy: 0.6872\n",
      "Epoch 6/600\n",
      "86/86 [==============================] - 0s 2ms/step - loss: 0.6077 - accuracy: 0.7022 - val_loss: 0.6223 - val_accuracy: 0.6872\n",
      "Epoch 7/600\n",
      "86/86 [==============================] - 0s 2ms/step - loss: 0.6061 - accuracy: 0.7022 - val_loss: 0.6217 - val_accuracy: 0.6872\n",
      "Epoch 8/600\n",
      "86/86 [==============================] - 0s 3ms/step - loss: 0.6065 - accuracy: 0.7022 - val_loss: 0.6218 - val_accuracy: 0.6872\n",
      "Epoch 9/600\n",
      "86/86 [==============================] - 0s 1ms/step - loss: 0.6054 - accuracy: 0.7022 - val_loss: 0.6227 - val_accuracy: 0.6872\n",
      "Epoch 10/600\n",
      "86/86 [==============================] - 0s 2ms/step - loss: 0.6041 - accuracy: 0.7025 - val_loss: 0.6193 - val_accuracy: 0.6872\n",
      "Epoch 11/600\n",
      "86/86 [==============================] - 0s 1ms/step - loss: 0.6043 - accuracy: 0.7025 - val_loss: 0.6181 - val_accuracy: 0.6872\n",
      "Epoch 12/600\n",
      "86/86 [==============================] - 0s 2ms/step - loss: 0.6046 - accuracy: 0.7025 - val_loss: 0.6259 - val_accuracy: 0.6872\n",
      "Epoch 13/600\n",
      "86/86 [==============================] - 0s 1ms/step - loss: 0.6066 - accuracy: 0.7029 - val_loss: 0.6255 - val_accuracy: 0.6872\n",
      "Epoch 14/600\n",
      "86/86 [==============================] - 0s 1ms/step - loss: 0.6035 - accuracy: 0.7036 - val_loss: 0.6185 - val_accuracy: 0.6872\n",
      "Epoch 15/600\n",
      "86/86 [==============================] - 0s 2ms/step - loss: 0.6038 - accuracy: 0.7040 - val_loss: 0.6191 - val_accuracy: 0.6872\n",
      "Epoch 16/600\n",
      "86/86 [==============================] - 0s 1ms/step - loss: 0.6055 - accuracy: 0.7033 - val_loss: 0.6210 - val_accuracy: 0.6872\n",
      "Epoch 17/600\n",
      "86/86 [==============================] - 0s 1ms/step - loss: 0.6025 - accuracy: 0.7025 - val_loss: 0.6176 - val_accuracy: 0.6872\n",
      "Epoch 18/600\n",
      "86/86 [==============================] - 0s 1ms/step - loss: 0.6025 - accuracy: 0.7029 - val_loss: 0.6210 - val_accuracy: 0.6872\n",
      "Epoch 19/600\n",
      "86/86 [==============================] - 0s 1ms/step - loss: 0.6044 - accuracy: 0.7040 - val_loss: 0.6171 - val_accuracy: 0.6931\n",
      "Epoch 20/600\n",
      "86/86 [==============================] - 0s 1ms/step - loss: 0.6036 - accuracy: 0.7040 - val_loss: 0.6173 - val_accuracy: 0.6902\n",
      "Epoch 21/600\n",
      "86/86 [==============================] - 0s 1ms/step - loss: 0.6051 - accuracy: 0.7025 - val_loss: 0.6170 - val_accuracy: 0.6946\n",
      "Epoch 22/600\n",
      "86/86 [==============================] - 0s 1ms/step - loss: 0.6019 - accuracy: 0.7036 - val_loss: 0.6168 - val_accuracy: 0.6902\n",
      "Epoch 23/600\n",
      "86/86 [==============================] - 0s 1ms/step - loss: 0.6023 - accuracy: 0.7029 - val_loss: 0.6164 - val_accuracy: 0.6931\n",
      "Epoch 24/600\n",
      "86/86 [==============================] - 0s 1ms/step - loss: 0.6030 - accuracy: 0.7044 - val_loss: 0.6207 - val_accuracy: 0.6887\n",
      "Epoch 25/600\n",
      "86/86 [==============================] - 0s 1ms/step - loss: 0.6028 - accuracy: 0.7044 - val_loss: 0.6160 - val_accuracy: 0.6960\n",
      "Epoch 26/600\n",
      "86/86 [==============================] - 0s 1ms/step - loss: 0.6029 - accuracy: 0.7033 - val_loss: 0.6180 - val_accuracy: 0.6887\n",
      "Epoch 27/600\n",
      "86/86 [==============================] - 0s 1ms/step - loss: 0.6022 - accuracy: 0.7036 - val_loss: 0.6179 - val_accuracy: 0.6902\n",
      "Epoch 28/600\n",
      "86/86 [==============================] - 0s 1ms/step - loss: 0.6016 - accuracy: 0.7033 - val_loss: 0.6222 - val_accuracy: 0.6814\n",
      "Epoch 29/600\n",
      "86/86 [==============================] - 0s 1ms/step - loss: 0.6103 - accuracy: 0.6981 - val_loss: 0.6159 - val_accuracy: 0.6946\n",
      "Epoch 30/600\n",
      "86/86 [==============================] - 0s 1ms/step - loss: 0.6018 - accuracy: 0.7033 - val_loss: 0.6212 - val_accuracy: 0.6887\n",
      "Epoch 31/600\n",
      "86/86 [==============================] - 0s 1ms/step - loss: 0.6033 - accuracy: 0.7044 - val_loss: 0.6167 - val_accuracy: 0.6946\n",
      "Epoch 32/600\n",
      "86/86 [==============================] - 0s 1ms/step - loss: 0.6018 - accuracy: 0.7040 - val_loss: 0.6159 - val_accuracy: 0.6946\n",
      "Epoch 33/600\n",
      "86/86 [==============================] - 0s 1ms/step - loss: 0.6016 - accuracy: 0.7033 - val_loss: 0.6161 - val_accuracy: 0.6916\n",
      "Epoch 34/600\n",
      "86/86 [==============================] - 0s 3ms/step - loss: 0.6033 - accuracy: 0.7007 - val_loss: 0.6215 - val_accuracy: 0.6828\n",
      "Epoch 35/600\n",
      "86/86 [==============================] - 0s 1ms/step - loss: 0.6011 - accuracy: 0.7018 - val_loss: 0.6157 - val_accuracy: 0.6960\n",
      "Epoch 36/600\n",
      "86/86 [==============================] - 0s 1ms/step - loss: 0.6015 - accuracy: 0.7044 - val_loss: 0.6324 - val_accuracy: 0.6887\n",
      "Epoch 37/600\n",
      "86/86 [==============================] - 0s 3ms/step - loss: 0.6048 - accuracy: 0.7044 - val_loss: 0.6185 - val_accuracy: 0.6931\n",
      "Epoch 38/600\n",
      "86/86 [==============================] - 0s 2ms/step - loss: 0.6013 - accuracy: 0.7036 - val_loss: 0.6155 - val_accuracy: 0.6975\n",
      "Epoch 39/600\n",
      "86/86 [==============================] - 0s 3ms/step - loss: 0.6043 - accuracy: 0.7000 - val_loss: 0.6194 - val_accuracy: 0.6931\n",
      "Epoch 40/600\n",
      "86/86 [==============================] - 0s 2ms/step - loss: 0.6011 - accuracy: 0.7033 - val_loss: 0.6154 - val_accuracy: 0.6975\n",
      "Epoch 41/600\n",
      "86/86 [==============================] - 0s 1ms/step - loss: 0.6024 - accuracy: 0.7033 - val_loss: 0.6220 - val_accuracy: 0.6902\n",
      "Epoch 42/600\n",
      "86/86 [==============================] - 0s 1ms/step - loss: 0.6017 - accuracy: 0.7036 - val_loss: 0.6186 - val_accuracy: 0.6931\n",
      "Epoch 43/600\n",
      "86/86 [==============================] - 0s 1ms/step - loss: 0.6003 - accuracy: 0.7040 - val_loss: 0.6169 - val_accuracy: 0.6931\n",
      "Epoch 44/600\n",
      "86/86 [==============================] - 0s 1ms/step - loss: 0.6015 - accuracy: 0.7047 - val_loss: 0.6154 - val_accuracy: 0.6946\n",
      "Epoch 45/600\n",
      "86/86 [==============================] - 0s 1ms/step - loss: 0.6010 - accuracy: 0.7044 - val_loss: 0.6186 - val_accuracy: 0.6946\n",
      "Epoch 46/600\n",
      "86/86 [==============================] - 0s 1ms/step - loss: 0.6007 - accuracy: 0.7040 - val_loss: 0.6160 - val_accuracy: 0.6946\n",
      "Epoch 47/600\n",
      "86/86 [==============================] - 0s 1ms/step - loss: 0.6003 - accuracy: 0.7044 - val_loss: 0.6150 - val_accuracy: 0.6975\n",
      "Epoch 48/600\n",
      "86/86 [==============================] - 0s 1ms/step - loss: 0.6004 - accuracy: 0.7033 - val_loss: 0.6150 - val_accuracy: 0.6975\n",
      "Epoch 49/600\n",
      "86/86 [==============================] - 0s 1ms/step - loss: 0.6004 - accuracy: 0.7058 - val_loss: 0.6150 - val_accuracy: 0.6975\n",
      "Epoch 50/600\n",
      "86/86 [==============================] - 0s 2ms/step - loss: 0.6017 - accuracy: 0.7029 - val_loss: 0.6164 - val_accuracy: 0.6946\n",
      "Epoch 51/600\n",
      "86/86 [==============================] - 0s 1ms/step - loss: 0.6008 - accuracy: 0.7025 - val_loss: 0.6151 - val_accuracy: 0.6960\n",
      "Epoch 52/600\n",
      "86/86 [==============================] - 0s 1ms/step - loss: 0.5999 - accuracy: 0.7055 - val_loss: 0.6233 - val_accuracy: 0.6931\n",
      "Epoch 53/600\n",
      "86/86 [==============================] - 0s 1ms/step - loss: 0.6052 - accuracy: 0.7036 - val_loss: 0.6167 - val_accuracy: 0.6946\n",
      "Epoch 54/600\n",
      "86/86 [==============================] - 0s 1ms/step - loss: 0.6006 - accuracy: 0.7058 - val_loss: 0.6149 - val_accuracy: 0.6916\n",
      "Epoch 55/600\n",
      "86/86 [==============================] - 0s 1ms/step - loss: 0.6010 - accuracy: 0.7051 - val_loss: 0.6148 - val_accuracy: 0.6946\n",
      "Epoch 56/600\n",
      "86/86 [==============================] - 0s 1ms/step - loss: 0.6013 - accuracy: 0.7055 - val_loss: 0.6204 - val_accuracy: 0.6916\n",
      "Epoch 57/600\n",
      "86/86 [==============================] - 0s 1ms/step - loss: 0.6016 - accuracy: 0.7033 - val_loss: 0.6148 - val_accuracy: 0.6931\n",
      "Epoch 58/600\n",
      "86/86 [==============================] - 0s 1ms/step - loss: 0.6001 - accuracy: 0.7077 - val_loss: 0.6144 - val_accuracy: 0.6990\n",
      "Epoch 59/600\n",
      "86/86 [==============================] - 0s 1ms/step - loss: 0.6007 - accuracy: 0.7044 - val_loss: 0.6202 - val_accuracy: 0.6843\n",
      "Epoch 60/600\n",
      "86/86 [==============================] - 0s 1ms/step - loss: 0.6043 - accuracy: 0.7055 - val_loss: 0.6144 - val_accuracy: 0.6960\n",
      "Epoch 61/600\n",
      "86/86 [==============================] - 0s 1ms/step - loss: 0.6012 - accuracy: 0.7036 - val_loss: 0.6149 - val_accuracy: 0.6931\n",
      "Epoch 62/600\n",
      "86/86 [==============================] - 0s 1ms/step - loss: 0.6013 - accuracy: 0.7040 - val_loss: 0.6153 - val_accuracy: 0.6931\n",
      "Epoch 63/600\n",
      "86/86 [==============================] - 0s 1ms/step - loss: 0.6002 - accuracy: 0.7040 - val_loss: 0.6153 - val_accuracy: 0.6872\n",
      "Epoch 64/600\n",
      "86/86 [==============================] - 0s 1ms/step - loss: 0.6023 - accuracy: 0.7051 - val_loss: 0.6177 - val_accuracy: 0.6843\n",
      "Epoch 65/600\n",
      "86/86 [==============================] - 0s 1ms/step - loss: 0.5994 - accuracy: 0.7044 - val_loss: 0.6169 - val_accuracy: 0.6931\n",
      "Epoch 66/600\n",
      "86/86 [==============================] - 0s 1ms/step - loss: 0.5995 - accuracy: 0.7051 - val_loss: 0.6174 - val_accuracy: 0.6931\n",
      "Epoch 67/600\n",
      "86/86 [==============================] - 0s 1ms/step - loss: 0.6011 - accuracy: 0.7055 - val_loss: 0.6134 - val_accuracy: 0.6990\n",
      "Epoch 68/600\n",
      "86/86 [==============================] - 0s 1ms/step - loss: 0.6011 - accuracy: 0.7033 - val_loss: 0.6141 - val_accuracy: 0.6960\n",
      "Epoch 69/600\n",
      "86/86 [==============================] - 0s 1ms/step - loss: 0.5990 - accuracy: 0.7058 - val_loss: 0.6138 - val_accuracy: 0.6902\n",
      "Epoch 70/600\n",
      "86/86 [==============================] - 0s 1ms/step - loss: 0.5997 - accuracy: 0.7044 - val_loss: 0.6148 - val_accuracy: 0.6931\n",
      "Epoch 71/600\n",
      "86/86 [==============================] - 0s 1ms/step - loss: 0.6016 - accuracy: 0.7029 - val_loss: 0.6150 - val_accuracy: 0.6931\n",
      "Epoch 72/600\n",
      "86/86 [==============================] - 0s 1ms/step - loss: 0.5988 - accuracy: 0.7044 - val_loss: 0.6145 - val_accuracy: 0.6931\n",
      "Epoch 73/600\n",
      "86/86 [==============================] - 0s 1ms/step - loss: 0.5991 - accuracy: 0.7062 - val_loss: 0.6189 - val_accuracy: 0.6931\n",
      "Epoch 74/600\n",
      "86/86 [==============================] - 0s 1ms/step - loss: 0.5998 - accuracy: 0.7058 - val_loss: 0.6165 - val_accuracy: 0.6931\n",
      "Epoch 75/600\n",
      "86/86 [==============================] - 0s 1ms/step - loss: 0.5995 - accuracy: 0.7058 - val_loss: 0.6133 - val_accuracy: 0.6975\n",
      "Epoch 76/600\n",
      "86/86 [==============================] - 0s 1ms/step - loss: 0.6002 - accuracy: 0.7033 - val_loss: 0.6133 - val_accuracy: 0.6990\n",
      "Epoch 77/600\n",
      "86/86 [==============================] - 0s 1ms/step - loss: 0.6001 - accuracy: 0.7055 - val_loss: 0.6128 - val_accuracy: 0.6916\n",
      "Epoch 78/600\n",
      "86/86 [==============================] - 0s 3ms/step - loss: 0.5991 - accuracy: 0.7066 - val_loss: 0.6228 - val_accuracy: 0.6931\n",
      "Epoch 79/600\n",
      "86/86 [==============================] - 0s 1ms/step - loss: 0.6034 - accuracy: 0.7036 - val_loss: 0.6170 - val_accuracy: 0.6931\n",
      "Epoch 80/600\n",
      "86/86 [==============================] - 0s 1ms/step - loss: 0.5993 - accuracy: 0.7088 - val_loss: 0.6128 - val_accuracy: 0.6975\n",
      "Epoch 81/600\n",
      "86/86 [==============================] - 0s 1ms/step - loss: 0.5990 - accuracy: 0.7055 - val_loss: 0.6153 - val_accuracy: 0.6946\n",
      "Epoch 82/600\n",
      "86/86 [==============================] - 0s 2ms/step - loss: 0.5994 - accuracy: 0.7069 - val_loss: 0.6160 - val_accuracy: 0.6931\n",
      "Epoch 83/600\n",
      "86/86 [==============================] - 0s 1ms/step - loss: 0.6009 - accuracy: 0.7058 - val_loss: 0.6152 - val_accuracy: 0.6960\n",
      "Epoch 84/600\n",
      "86/86 [==============================] - 0s 1ms/step - loss: 0.5985 - accuracy: 0.7058 - val_loss: 0.6127 - val_accuracy: 0.6975\n",
      "Epoch 85/600\n",
      "86/86 [==============================] - 0s 1ms/step - loss: 0.6000 - accuracy: 0.7055 - val_loss: 0.6125 - val_accuracy: 0.6975\n",
      "Epoch 86/600\n",
      "86/86 [==============================] - 0s 1ms/step - loss: 0.5999 - accuracy: 0.7018 - val_loss: 0.6178 - val_accuracy: 0.6828\n",
      "Epoch 87/600\n",
      "86/86 [==============================] - 0s 1ms/step - loss: 0.6001 - accuracy: 0.7040 - val_loss: 0.6129 - val_accuracy: 0.6902\n",
      "Epoch 88/600\n",
      "86/86 [==============================] - 0s 1ms/step - loss: 0.5998 - accuracy: 0.7055 - val_loss: 0.6149 - val_accuracy: 0.6931\n",
      "Epoch 89/600\n",
      "86/86 [==============================] - 0s 1ms/step - loss: 0.5996 - accuracy: 0.7073 - val_loss: 0.6136 - val_accuracy: 0.6946\n",
      "Epoch 90/600\n",
      "86/86 [==============================] - 0s 1ms/step - loss: 0.5994 - accuracy: 0.7047 - val_loss: 0.6139 - val_accuracy: 0.6946\n",
      "Epoch 91/600\n",
      "86/86 [==============================] - 0s 1ms/step - loss: 0.5989 - accuracy: 0.7058 - val_loss: 0.6121 - val_accuracy: 0.6946\n",
      "Epoch 92/600\n",
      "86/86 [==============================] - 0s 1ms/step - loss: 0.6005 - accuracy: 0.7080 - val_loss: 0.6118 - val_accuracy: 0.6960\n",
      "Epoch 93/600\n",
      "86/86 [==============================] - 0s 1ms/step - loss: 0.5995 - accuracy: 0.7047 - val_loss: 0.6135 - val_accuracy: 0.6858\n",
      "Epoch 94/600\n",
      "86/86 [==============================] - 0s 2ms/step - loss: 0.6003 - accuracy: 0.7062 - val_loss: 0.6123 - val_accuracy: 0.6887\n",
      "Epoch 95/600\n",
      "86/86 [==============================] - 0s 2ms/step - loss: 0.5985 - accuracy: 0.7069 - val_loss: 0.6133 - val_accuracy: 0.6946\n",
      "Epoch 96/600\n",
      "86/86 [==============================] - 0s 2ms/step - loss: 0.5975 - accuracy: 0.7077 - val_loss: 0.6284 - val_accuracy: 0.6931\n",
      "Epoch 97/600\n",
      "86/86 [==============================] - 0s 1ms/step - loss: 0.6018 - accuracy: 0.7033 - val_loss: 0.6119 - val_accuracy: 0.6960\n",
      "Epoch 98/600\n",
      "86/86 [==============================] - 0s 1ms/step - loss: 0.5988 - accuracy: 0.7055 - val_loss: 0.6138 - val_accuracy: 0.6872\n",
      "Epoch 99/600\n",
      "86/86 [==============================] - 0s 2ms/step - loss: 0.5981 - accuracy: 0.7058 - val_loss: 0.6126 - val_accuracy: 0.6960\n",
      "Epoch 100/600\n",
      "86/86 [==============================] - 0s 982us/step - loss: 0.5985 - accuracy: 0.7077 - val_loss: 0.6163 - val_accuracy: 0.6931\n",
      "Epoch 101/600\n",
      "86/86 [==============================] - 0s 992us/step - loss: 0.5977 - accuracy: 0.7062 - val_loss: 0.6191 - val_accuracy: 0.6931\n",
      "Epoch 102/600\n",
      "86/86 [==============================] - 0s 977us/step - loss: 0.5992 - accuracy: 0.7044 - val_loss: 0.6117 - val_accuracy: 0.6946\n",
      "Epoch 103/600\n",
      "86/86 [==============================] - 0s 988us/step - loss: 0.5981 - accuracy: 0.7058 - val_loss: 0.6143 - val_accuracy: 0.6931\n",
      "Epoch 104/600\n",
      "86/86 [==============================] - 0s 999us/step - loss: 0.5999 - accuracy: 0.7062 - val_loss: 0.6420 - val_accuracy: 0.6931\n",
      "Epoch 105/600\n",
      "86/86 [==============================] - 0s 990us/step - loss: 0.6020 - accuracy: 0.7069 - val_loss: 0.6223 - val_accuracy: 0.6931\n",
      "Epoch 106/600\n",
      "86/86 [==============================] - 0s 990us/step - loss: 0.5981 - accuracy: 0.7066 - val_loss: 0.6116 - val_accuracy: 0.6946\n",
      "Epoch 107/600\n",
      "86/86 [==============================] - 0s 1ms/step - loss: 0.5974 - accuracy: 0.7077 - val_loss: 0.6193 - val_accuracy: 0.6931\n",
      "Epoch 108/600\n",
      "86/86 [==============================] - 0s 957us/step - loss: 0.5982 - accuracy: 0.7073 - val_loss: 0.6113 - val_accuracy: 0.6946\n",
      "Epoch 109/600\n",
      "86/86 [==============================] - 0s 1ms/step - loss: 0.5980 - accuracy: 0.7069 - val_loss: 0.6113 - val_accuracy: 0.6946\n",
      "Epoch 110/600\n",
      "86/86 [==============================] - 0s 999us/step - loss: 0.5982 - accuracy: 0.7062 - val_loss: 0.6116 - val_accuracy: 0.6902\n",
      "Epoch 111/600\n",
      "86/86 [==============================] - 0s 986us/step - loss: 0.5985 - accuracy: 0.7073 - val_loss: 0.6138 - val_accuracy: 0.6931\n",
      "Epoch 112/600\n",
      "86/86 [==============================] - 0s 998us/step - loss: 0.5979 - accuracy: 0.7055 - val_loss: 0.6112 - val_accuracy: 0.6931\n",
      "Epoch 113/600\n",
      "86/86 [==============================] - 0s 978us/step - loss: 0.5990 - accuracy: 0.7091 - val_loss: 0.6189 - val_accuracy: 0.6931\n",
      "Epoch 114/600\n",
      "86/86 [==============================] - 0s 1ms/step - loss: 0.5972 - accuracy: 0.7066 - val_loss: 0.6109 - val_accuracy: 0.6931\n",
      "Epoch 115/600\n",
      "86/86 [==============================] - 0s 998us/step - loss: 0.5994 - accuracy: 0.7088 - val_loss: 0.6110 - val_accuracy: 0.6931\n",
      "Epoch 116/600\n",
      "86/86 [==============================] - 0s 986us/step - loss: 0.5989 - accuracy: 0.7069 - val_loss: 0.6111 - val_accuracy: 0.6946\n",
      "Epoch 117/600\n",
      "86/86 [==============================] - 0s 1ms/step - loss: 0.5981 - accuracy: 0.7066 - val_loss: 0.6155 - val_accuracy: 0.6931\n",
      "Epoch 118/600\n",
      "86/86 [==============================] - 0s 1ms/step - loss: 0.5981 - accuracy: 0.7062 - val_loss: 0.6134 - val_accuracy: 0.6931\n",
      "Epoch 119/600\n",
      "86/86 [==============================] - 0s 2ms/step - loss: 0.6019 - accuracy: 0.7069 - val_loss: 0.6139 - val_accuracy: 0.6931\n",
      "Epoch 120/600\n",
      "86/86 [==============================] - 0s 1ms/step - loss: 0.5977 - accuracy: 0.7069 - val_loss: 0.6119 - val_accuracy: 0.6931\n",
      "Epoch 121/600\n",
      "86/86 [==============================] - 0s 1ms/step - loss: 0.5985 - accuracy: 0.7055 - val_loss: 0.6111 - val_accuracy: 0.6931\n",
      "Epoch 122/600\n",
      "86/86 [==============================] - 0s 3ms/step - loss: 0.5987 - accuracy: 0.7088 - val_loss: 0.6129 - val_accuracy: 0.6931\n",
      "Epoch 123/600\n",
      "86/86 [==============================] - 0s 1ms/step - loss: 0.5978 - accuracy: 0.7066 - val_loss: 0.6190 - val_accuracy: 0.6931\n",
      "Epoch 124/600\n",
      "86/86 [==============================] - 0s 1ms/step - loss: 0.5982 - accuracy: 0.7062 - val_loss: 0.6127 - val_accuracy: 0.6946\n",
      "Epoch 125/600\n",
      "86/86 [==============================] - 0s 1ms/step - loss: 0.5992 - accuracy: 0.7044 - val_loss: 0.6097 - val_accuracy: 0.6946\n",
      "Epoch 126/600\n",
      "86/86 [==============================] - 0s 1ms/step - loss: 0.5978 - accuracy: 0.7084 - val_loss: 0.6104 - val_accuracy: 0.6916\n",
      "Epoch 127/600\n",
      "86/86 [==============================] - 0s 1ms/step - loss: 0.5978 - accuracy: 0.7062 - val_loss: 0.6115 - val_accuracy: 0.6916\n",
      "Epoch 128/600\n",
      "86/86 [==============================] - 0s 1ms/step - loss: 0.5965 - accuracy: 0.7080 - val_loss: 0.6116 - val_accuracy: 0.6946\n",
      "Epoch 129/600\n",
      "86/86 [==============================] - 0s 1ms/step - loss: 0.5973 - accuracy: 0.7055 - val_loss: 0.6129 - val_accuracy: 0.6931\n",
      "Epoch 130/600\n",
      "86/86 [==============================] - 0s 1ms/step - loss: 0.5978 - accuracy: 0.7051 - val_loss: 0.6141 - val_accuracy: 0.6931\n",
      "Epoch 131/600\n",
      "86/86 [==============================] - 0s 1ms/step - loss: 0.5985 - accuracy: 0.7080 - val_loss: 0.6121 - val_accuracy: 0.6946\n",
      "Epoch 132/600\n",
      "86/86 [==============================] - 0s 1ms/step - loss: 0.5987 - accuracy: 0.7058 - val_loss: 0.6105 - val_accuracy: 0.6887\n",
      "Epoch 133/600\n",
      "86/86 [==============================] - 0s 1ms/step - loss: 0.5971 - accuracy: 0.7091 - val_loss: 0.6122 - val_accuracy: 0.6931\n",
      "Epoch 134/600\n",
      "86/86 [==============================] - 0s 1ms/step - loss: 0.5970 - accuracy: 0.7088 - val_loss: 0.6097 - val_accuracy: 0.6960\n",
      "Epoch 135/600\n",
      "86/86 [==============================] - 0s 1ms/step - loss: 0.5980 - accuracy: 0.7095 - val_loss: 0.6106 - val_accuracy: 0.6946\n",
      "Epoch 136/600\n",
      "86/86 [==============================] - 0s 1ms/step - loss: 0.5976 - accuracy: 0.7058 - val_loss: 0.6124 - val_accuracy: 0.6946\n",
      "Epoch 137/600\n",
      "86/86 [==============================] - 0s 1ms/step - loss: 0.5966 - accuracy: 0.7110 - val_loss: 0.6092 - val_accuracy: 0.6902\n",
      "Epoch 138/600\n",
      "86/86 [==============================] - 0s 1ms/step - loss: 0.5965 - accuracy: 0.7091 - val_loss: 0.6179 - val_accuracy: 0.6946\n",
      "Epoch 139/600\n",
      "86/86 [==============================] - 0s 1ms/step - loss: 0.5966 - accuracy: 0.7110 - val_loss: 0.6101 - val_accuracy: 0.6916\n",
      "Epoch 140/600\n",
      "86/86 [==============================] - 0s 3ms/step - loss: 0.5957 - accuracy: 0.7095 - val_loss: 0.6088 - val_accuracy: 0.6946\n",
      "Epoch 141/600\n",
      "86/86 [==============================] - 0s 1ms/step - loss: 0.5968 - accuracy: 0.7102 - val_loss: 0.6177 - val_accuracy: 0.6960\n",
      "Epoch 142/600\n",
      "86/86 [==============================] - 0s 1ms/step - loss: 0.5979 - accuracy: 0.7080 - val_loss: 0.6145 - val_accuracy: 0.6946\n",
      "Epoch 143/600\n",
      "86/86 [==============================] - 0s 3ms/step - loss: 0.5954 - accuracy: 0.7095 - val_loss: 0.6100 - val_accuracy: 0.6931\n",
      "Epoch 144/600\n",
      "86/86 [==============================] - 0s 1ms/step - loss: 0.5955 - accuracy: 0.7110 - val_loss: 0.6092 - val_accuracy: 0.6946\n",
      "Epoch 145/600\n",
      "86/86 [==============================] - 0s 1ms/step - loss: 0.5946 - accuracy: 0.7080 - val_loss: 0.6223 - val_accuracy: 0.6946\n",
      "Epoch 146/600\n",
      "86/86 [==============================] - 0s 1ms/step - loss: 0.5970 - accuracy: 0.7095 - val_loss: 0.6092 - val_accuracy: 0.6902\n",
      "Epoch 147/600\n",
      "86/86 [==============================] - 0s 1ms/step - loss: 0.5975 - accuracy: 0.7084 - val_loss: 0.6102 - val_accuracy: 0.6931\n",
      "Epoch 148/600\n",
      "86/86 [==============================] - 0s 1ms/step - loss: 0.5952 - accuracy: 0.7121 - val_loss: 0.6112 - val_accuracy: 0.6931\n",
      "Epoch 149/600\n",
      "86/86 [==============================] - 0s 1ms/step - loss: 0.5955 - accuracy: 0.7106 - val_loss: 0.6090 - val_accuracy: 0.6872\n",
      "Epoch 150/600\n",
      "86/86 [==============================] - 0s 1ms/step - loss: 0.5967 - accuracy: 0.7080 - val_loss: 0.6095 - val_accuracy: 0.6946\n",
      "Epoch 151/600\n",
      "86/86 [==============================] - 0s 1ms/step - loss: 0.5972 - accuracy: 0.7117 - val_loss: 0.6083 - val_accuracy: 0.6902\n",
      "Epoch 152/600\n",
      "86/86 [==============================] - 0s 1ms/step - loss: 0.5952 - accuracy: 0.7099 - val_loss: 0.6146 - val_accuracy: 0.6931\n",
      "Epoch 153/600\n",
      "86/86 [==============================] - 0s 1ms/step - loss: 0.5966 - accuracy: 0.7073 - val_loss: 0.6110 - val_accuracy: 0.6946\n",
      "Epoch 154/600\n",
      "86/86 [==============================] - 0s 1ms/step - loss: 0.5941 - accuracy: 0.7099 - val_loss: 0.6099 - val_accuracy: 0.6960\n",
      "Epoch 155/600\n",
      "86/86 [==============================] - 0s 1ms/step - loss: 0.5940 - accuracy: 0.7099 - val_loss: 0.6080 - val_accuracy: 0.6887\n",
      "Epoch 156/600\n",
      "86/86 [==============================] - 0s 1ms/step - loss: 0.5943 - accuracy: 0.7095 - val_loss: 0.6152 - val_accuracy: 0.6946\n",
      "Epoch 157/600\n",
      "86/86 [==============================] - 0s 1ms/step - loss: 0.5946 - accuracy: 0.7117 - val_loss: 0.6166 - val_accuracy: 0.6946\n",
      "Epoch 158/600\n",
      "86/86 [==============================] - 0s 1ms/step - loss: 0.5948 - accuracy: 0.7084 - val_loss: 0.6089 - val_accuracy: 0.6931\n",
      "Epoch 159/600\n",
      "86/86 [==============================] - 0s 1ms/step - loss: 0.5948 - accuracy: 0.7099 - val_loss: 0.6068 - val_accuracy: 0.6916\n",
      "Epoch 160/600\n",
      "86/86 [==============================] - 0s 1ms/step - loss: 0.5965 - accuracy: 0.7110 - val_loss: 0.6074 - val_accuracy: 0.6946\n",
      "Epoch 161/600\n",
      "86/86 [==============================] - 0s 1ms/step - loss: 0.5943 - accuracy: 0.7124 - val_loss: 0.6091 - val_accuracy: 0.6931\n",
      "Epoch 162/600\n",
      "86/86 [==============================] - 0s 1ms/step - loss: 0.5964 - accuracy: 0.7062 - val_loss: 0.6109 - val_accuracy: 0.6946\n",
      "Epoch 163/600\n",
      "86/86 [==============================] - 0s 1ms/step - loss: 0.5945 - accuracy: 0.7080 - val_loss: 0.6073 - val_accuracy: 0.6931\n",
      "Epoch 164/600\n",
      "86/86 [==============================] - 0s 3ms/step - loss: 0.5933 - accuracy: 0.7106 - val_loss: 0.6070 - val_accuracy: 0.6887\n",
      "Epoch 165/600\n",
      "86/86 [==============================] - 0s 1ms/step - loss: 0.5958 - accuracy: 0.7091 - val_loss: 0.6088 - val_accuracy: 0.6946\n",
      "Epoch 166/600\n",
      "86/86 [==============================] - 0s 1ms/step - loss: 0.5939 - accuracy: 0.7117 - val_loss: 0.6082 - val_accuracy: 0.6946\n",
      "Epoch 167/600\n",
      "86/86 [==============================] - 0s 1ms/step - loss: 0.5934 - accuracy: 0.7132 - val_loss: 0.6079 - val_accuracy: 0.6916\n",
      "Epoch 168/600\n",
      "86/86 [==============================] - 0s 1ms/step - loss: 0.5930 - accuracy: 0.7124 - val_loss: 0.6085 - val_accuracy: 0.6916\n",
      "Epoch 169/600\n",
      "86/86 [==============================] - 0s 1ms/step - loss: 0.5928 - accuracy: 0.7117 - val_loss: 0.6096 - val_accuracy: 0.6960\n",
      "Epoch 170/600\n",
      "86/86 [==============================] - 0s 1ms/step - loss: 0.5953 - accuracy: 0.7117 - val_loss: 0.6134 - val_accuracy: 0.6931\n",
      "Epoch 171/600\n",
      "86/86 [==============================] - 0s 1ms/step - loss: 0.5925 - accuracy: 0.7136 - val_loss: 0.6082 - val_accuracy: 0.6916\n",
      "Epoch 172/600\n",
      "86/86 [==============================] - 0s 1ms/step - loss: 0.5956 - accuracy: 0.7095 - val_loss: 0.6064 - val_accuracy: 0.6916\n",
      "Epoch 173/600\n",
      "86/86 [==============================] - 0s 1ms/step - loss: 0.5938 - accuracy: 0.7128 - val_loss: 0.6129 - val_accuracy: 0.6916\n",
      "Epoch 174/600\n",
      "86/86 [==============================] - 0s 1ms/step - loss: 0.5942 - accuracy: 0.7121 - val_loss: 0.6085 - val_accuracy: 0.6916\n",
      "Epoch 175/600\n",
      "86/86 [==============================] - 0s 1ms/step - loss: 0.5931 - accuracy: 0.7128 - val_loss: 0.6083 - val_accuracy: 0.6931\n",
      "Epoch 176/600\n",
      "86/86 [==============================] - 0s 1ms/step - loss: 0.5944 - accuracy: 0.7124 - val_loss: 0.6085 - val_accuracy: 0.6902\n",
      "Epoch 177/600\n",
      "86/86 [==============================] - 0s 1ms/step - loss: 0.5923 - accuracy: 0.7106 - val_loss: 0.6093 - val_accuracy: 0.6887\n",
      "Epoch 178/600\n",
      "86/86 [==============================] - 0s 1ms/step - loss: 0.5927 - accuracy: 0.7117 - val_loss: 0.6077 - val_accuracy: 0.6902\n",
      "Epoch 179/600\n",
      "86/86 [==============================] - 0s 1ms/step - loss: 0.5932 - accuracy: 0.7102 - val_loss: 0.6086 - val_accuracy: 0.6916\n",
      "Epoch 180/600\n",
      "86/86 [==============================] - 0s 1ms/step - loss: 0.5918 - accuracy: 0.7124 - val_loss: 0.6111 - val_accuracy: 0.6931\n",
      "Epoch 181/600\n",
      "86/86 [==============================] - 0s 1ms/step - loss: 0.5925 - accuracy: 0.7132 - val_loss: 0.6071 - val_accuracy: 0.6916\n",
      "Epoch 182/600\n",
      "86/86 [==============================] - 0s 1ms/step - loss: 0.5921 - accuracy: 0.7132 - val_loss: 0.6070 - val_accuracy: 0.6916\n",
      "Epoch 183/600\n",
      "86/86 [==============================] - 0s 1ms/step - loss: 0.5938 - accuracy: 0.7117 - val_loss: 0.6080 - val_accuracy: 0.6931\n",
      "Epoch 184/600\n",
      "86/86 [==============================] - 0s 3ms/step - loss: 0.5958 - accuracy: 0.7099 - val_loss: 0.6079 - val_accuracy: 0.6916\n",
      "Epoch 185/600\n",
      "86/86 [==============================] - 0s 1ms/step - loss: 0.5927 - accuracy: 0.7139 - val_loss: 0.6083 - val_accuracy: 0.6946\n",
      "Epoch 186/600\n",
      "86/86 [==============================] - 0s 1ms/step - loss: 0.5927 - accuracy: 0.7128 - val_loss: 0.6084 - val_accuracy: 0.6916\n",
      "Epoch 187/600\n",
      "86/86 [==============================] - 0s 1ms/step - loss: 0.5917 - accuracy: 0.7128 - val_loss: 0.6098 - val_accuracy: 0.6887\n",
      "Epoch 188/600\n",
      "86/86 [==============================] - 0s 1ms/step - loss: 0.5921 - accuracy: 0.7143 - val_loss: 0.6074 - val_accuracy: 0.6931\n",
      "Epoch 189/600\n",
      "86/86 [==============================] - 0s 3ms/step - loss: 0.5911 - accuracy: 0.7124 - val_loss: 0.6088 - val_accuracy: 0.6916\n",
      "Epoch 190/600\n",
      "86/86 [==============================] - 0s 1ms/step - loss: 0.5919 - accuracy: 0.7147 - val_loss: 0.6083 - val_accuracy: 0.6902\n",
      "Epoch 191/600\n",
      "86/86 [==============================] - 0s 1ms/step - loss: 0.5910 - accuracy: 0.7117 - val_loss: 0.6113 - val_accuracy: 0.6946\n",
      "Epoch 192/600\n",
      "86/86 [==============================] - 0s 1ms/step - loss: 0.5921 - accuracy: 0.7121 - val_loss: 0.6081 - val_accuracy: 0.6916\n",
      "Epoch 193/600\n",
      "86/86 [==============================] - 0s 1ms/step - loss: 0.5911 - accuracy: 0.7132 - val_loss: 0.6074 - val_accuracy: 0.6916\n",
      "Epoch 194/600\n",
      "86/86 [==============================] - 0s 1ms/step - loss: 0.5906 - accuracy: 0.7132 - val_loss: 0.6084 - val_accuracy: 0.6887\n",
      "Epoch 195/600\n",
      "86/86 [==============================] - 0s 1ms/step - loss: 0.5905 - accuracy: 0.7132 - val_loss: 0.6071 - val_accuracy: 0.6946\n",
      "Epoch 196/600\n",
      "86/86 [==============================] - 0s 1ms/step - loss: 0.5912 - accuracy: 0.7132 - val_loss: 0.6095 - val_accuracy: 0.6916\n",
      "Epoch 197/600\n",
      "86/86 [==============================] - 0s 1ms/step - loss: 0.5926 - accuracy: 0.7121 - val_loss: 0.6098 - val_accuracy: 0.6916\n",
      "Epoch 00197: early stopping\n"
     ]
    },
    {
     "data": {
      "text/plain": [
       "<tensorflow.python.keras.callbacks.History at 0x7fba59a648b0>"
      ]
     },
     "execution_count": 159,
     "metadata": {},
     "output_type": "execute_result"
    }
   ],
   "source": [
    "from tensorflow.keras.callbacks import EarlyStopping\n",
    "\n",
    "model = Sequential()\n",
    "model.add(Dense(20, activation='relu'))\n",
    "model.add(Dense(15, activation='relu'))\n",
    "# Binary classification\n",
    "model.add(Dense(1, activation='sigmoid'))\n",
    "model.compile(loss='binary_crossentropy', optimizer='adam', metrics=['accuracy'])\n",
    "early_stop = EarlyStopping(monitor='val_loss', mode='min', verbose=1, patience=25)\n",
    "model.fit(x=X_train, y=y_train, epochs=600, validation_data=(X_test, y_test), verbose=1, callbacks=[early_stop])"
   ]
  },
  {
   "cell_type": "code",
   "execution_count": 160,
   "metadata": {},
   "outputs": [
    {
     "data": {
      "text/plain": [
       "<AxesSubplot:>"
      ]
     },
     "execution_count": 160,
     "metadata": {},
     "output_type": "execute_result"
    },
    {
     "data": {
      "image/png": "[encoded data removed]",
      "text/plain": [
       "<Figure size 432x288 with 1 Axes>"
      ]
     },
     "metadata": {
      "needs_background": "light"
     },
     "output_type": "display_data"
    },
    {
     "data": {
      "image/png": "[encoded data removed]",
      "text/plain": [
       "<Figure size 432x288 with 1 Axes>"
      ]
     },
     "metadata": {
      "needs_background": "light"
     },
     "output_type": "display_data"
    }
   ],
   "source": [
    "model_loss = pd.DataFrame(model.history.history)\n",
    "loss = model_loss[['loss', 'val_loss']]\n",
    "acc = model_loss[['accuracy', 'val_accuracy']]\n",
    "loss.plot()\n",
    "acc.plot()"
   ]
  },
  {
   "cell_type": "code",
   "execution_count": 161,
   "metadata": {},
   "outputs": [
    {
     "name": "stdout",
     "output_type": "stream",
     "text": [
      "              precision    recall  f1-score   support\n",
      "\n",
      "           0       0.70      0.97      0.81       468\n",
      "           1       0.56      0.07      0.12       213\n",
      "\n",
      "    accuracy                           0.69       681\n",
      "   macro avg       0.63      0.52      0.47       681\n",
      "weighted avg       0.65      0.69      0.60       681\n",
      "\n",
      "[[456  12]\n",
      " [198  15]]\n"
     ]
    },
    {
     "name": "stderr",
     "output_type": "stream",
     "text": [
      "/Library/Frameworks/Python.framework/Versions/3.9/lib/python3.9/site-packages/tensorflow/python/keras/engine/sequential.py:455: UserWarning: `model.predict_classes()` is deprecated and will be removed after 2021-01-01. Please use instead:* `np.argmax(model.predict(x), axis=-1)`,   if your model does multi-class classification   (e.g. if it uses a `softmax` last-layer activation).* `(model.predict(x) > 0.5).astype(\"int32\")`,   if your model does binary classification   (e.g. if it uses a `sigmoid` last-layer activation).\n",
      "  'will be removed after 2021-01-01. '\n"
     ]
    }
   ],
   "source": [
    "predictions = model.predict_classes(X_test)\n",
    "print(classification_report(y_test,predictions))\n",
    "print(confusion_matrix(y_test,predictions))"
   ]
  },
  {
   "cell_type": "code",
   "execution_count": null,
   "metadata": {},
   "outputs": [],
   "source": []
  }
 ],
 "metadata": {
  "kernelspec": {
   "display_name": "Python 3",
   "language": "python",
   "name": "python3"
  },
  "language_info": {
   "codemirror_mode": {
    "name": "ipython",
    "version": 3
   },
   "file_extension": ".py",
   "mimetype": "text/x-python",
   "name": "python",
   "nbconvert_exporter": "python",
   "pygments_lexer": "ipython3",
   "version": "3.9.1"
  }
 },
 "nbformat": 4,
 "nbformat_minor": 1
}
