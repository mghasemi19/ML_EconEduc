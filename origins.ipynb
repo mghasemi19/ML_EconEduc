{
 "cells": [
  {
   "cell_type": "code",
   "execution_count": 11,
   "metadata": {},
   "outputs": [
    {
     "data": {
      "text/html": [
       "<div>\n",
       "<style scoped>\n",
       "    .dataframe tbody tr th:only-of-type {\n",
       "        vertical-align: middle;\n",
       "    }\n",
       "\n",
       "    .dataframe tbody tr th {\n",
       "        vertical-align: top;\n",
       "    }\n",
       "\n",
       "    .dataframe thead th {\n",
       "        text-align: right;\n",
       "    }\n",
       "</style>\n",
       "<table border=\"1\" class=\"dataframe\">\n",
       "  <thead>\n",
       "    <tr style=\"text-align: right;\">\n",
       "      <th></th>\n",
       "      <th>جنس</th>\n",
       "      <th>مقطع</th>\n",
       "      <th>دوره</th>\n",
       "      <th>معدل كل</th>\n",
       "      <th>فرصت مطالعاتی بین المللی</th>\n",
       "      <th>حذف ترم</th>\n",
       "      <th>مرخصی</th>\n",
       "      <th>دين</th>\n",
       "      <th>وضعيت تاهل</th>\n",
       "      <th>تعداد فرزند</th>\n",
       "      <th>سن</th>\n",
       "      <th>استان محل تولد</th>\n",
       "      <th>تحت پوشش كميته امداد</th>\n",
       "    </tr>\n",
       "  </thead>\n",
       "  <tbody>\n",
       "    <tr>\n",
       "      <th>0</th>\n",
       "      <td>مرد</td>\n",
       "      <td>دكتري تخصصي PhD</td>\n",
       "      <td>روزانه</td>\n",
       "      <td>14.86</td>\n",
       "      <td>ندارد</td>\n",
       "      <td>ندارد</td>\n",
       "      <td>ندارد</td>\n",
       "      <td>اسلام</td>\n",
       "      <td>مجرد</td>\n",
       "      <td>0</td>\n",
       "      <td>30</td>\n",
       "      <td>قوم فارس</td>\n",
       "      <td>خير</td>\n",
       "    </tr>\n",
       "    <tr>\n",
       "      <th>1</th>\n",
       "      <td>مرد</td>\n",
       "      <td>دكتري تخصصي PhD</td>\n",
       "      <td>شهریه پرداز</td>\n",
       "      <td>16.04</td>\n",
       "      <td>ندارد</td>\n",
       "      <td>ندارد</td>\n",
       "      <td>ندارد</td>\n",
       "      <td>اسلام</td>\n",
       "      <td>متاهل</td>\n",
       "      <td>1</td>\n",
       "      <td>39</td>\n",
       "      <td>قوم کرد</td>\n",
       "      <td>خير</td>\n",
       "    </tr>\n",
       "    <tr>\n",
       "      <th>2</th>\n",
       "      <td>زن</td>\n",
       "      <td>دكتري تخصصي PhD</td>\n",
       "      <td>روزانه</td>\n",
       "      <td>14.51</td>\n",
       "      <td>ندارد</td>\n",
       "      <td>ندارد</td>\n",
       "      <td>ندارد</td>\n",
       "      <td>اسلام</td>\n",
       "      <td>مجرد</td>\n",
       "      <td>0</td>\n",
       "      <td>30</td>\n",
       "      <td>قوم مازنی</td>\n",
       "      <td>خير</td>\n",
       "    </tr>\n",
       "    <tr>\n",
       "      <th>3</th>\n",
       "      <td>مرد</td>\n",
       "      <td>دكتري تخصصي PhD</td>\n",
       "      <td>شهریه پرداز</td>\n",
       "      <td>17.92</td>\n",
       "      <td>ندارد</td>\n",
       "      <td>ندارد</td>\n",
       "      <td>ندارد</td>\n",
       "      <td>اسلام</td>\n",
       "      <td>متاهل</td>\n",
       "      <td>0</td>\n",
       "      <td>32</td>\n",
       "      <td>قوم کرد</td>\n",
       "      <td>خير</td>\n",
       "    </tr>\n",
       "    <tr>\n",
       "      <th>4</th>\n",
       "      <td>زن</td>\n",
       "      <td>دكتري تخصصي PhD</td>\n",
       "      <td>روزانه</td>\n",
       "      <td>17.51</td>\n",
       "      <td>ندارد</td>\n",
       "      <td>ندارد</td>\n",
       "      <td>ندارد</td>\n",
       "      <td>اسلام</td>\n",
       "      <td>متاهل</td>\n",
       "      <td>2</td>\n",
       "      <td>37</td>\n",
       "      <td>قوم عرب</td>\n",
       "      <td>خير</td>\n",
       "    </tr>\n",
       "  </tbody>\n",
       "</table>\n",
       "</div>"
      ],
      "text/plain": [
       "   جنس             مقطع         دوره  معدل كل فرصت مطالعاتی بین المللی  \\\n",
       "0  مرد  دكتري تخصصي PhD       روزانه    14.86                    ندارد   \n",
       "1  مرد  دكتري تخصصي PhD  شهریه پرداز    16.04                    ندارد   \n",
       "2   زن  دكتري تخصصي PhD       روزانه    14.51                    ندارد   \n",
       "3  مرد  دكتري تخصصي PhD  شهریه پرداز    17.92                    ندارد   \n",
       "4   زن  دكتري تخصصي PhD       روزانه    17.51                    ندارد   \n",
       "\n",
       "  حذف ترم  مرخصی    دين وضعيت تاهل  تعداد فرزند  سن استان محل تولد  \\\n",
       "0   ندارد  ندارد  اسلام       مجرد            0  30       قوم فارس   \n",
       "1   ندارد  ندارد  اسلام      متاهل            1  39        قوم کرد   \n",
       "2   ندارد  ندارد  اسلام       مجرد            0  30      قوم مازنی   \n",
       "3   ندارد  ندارد  اسلام      متاهل            0  32        قوم کرد   \n",
       "4   ندارد  ندارد  اسلام      متاهل            2  37        قوم عرب   \n",
       "\n",
       "  تحت پوشش كميته امداد  \n",
       "0                  خير  \n",
       "1                  خير  \n",
       "2                  خير  \n",
       "3                  خير  \n",
       "4                  خير  "
      ]
     },
     "execution_count": 11,
     "metadata": {},
     "output_type": "execute_result"
    }
   ],
   "source": [
    "#load all necessary libraries\n",
    "import pandas as pd \n",
    "import numpy as np \n",
    "import scipy as scp\n",
    "import seaborn as sns\n",
    "import random\n",
    "import sklearn\n",
    "#import statsmodels.api as sm\n",
    "import matplotlib.pyplot as plt\n",
    "\n",
    "from sklearn.model_selection import train_test_split\n",
    "from sklearn.linear_model import LogisticRegression\n",
    "from sklearn.metrics import classification_report\n",
    "from sklearn import metrics \n",
    "from sklearn.metrics import confusion_matrix\n",
    "\n",
    "df_test = pd.read_excel('data/data_w_origin/origins.xlsx')\n",
    "df_test.head()"
   ]
  },
  {
   "cell_type": "code",
   "execution_count": 14,
   "metadata": {},
   "outputs": [
    {
     "name": "stdout",
     "output_type": "stream",
     "text": [
      "قوم فارس     4637\n",
      "قوم ترک       743\n",
      "قوم مازنی     316\n",
      "قوم عرب       280\n",
      "قوم گیلک      216\n",
      "قوم لر        211\n",
      "قوم کرد       199\n",
      "999           181\n",
      "قوم ترکمن      70\n",
      "قوم بلوچ       23\n",
      "Name: استان محل تولد, dtype: int64\n"
     ]
    },
    {
     "data": {
      "image/png": "[encoded data removed]",
      "text/plain": [
       "<Figure size 432x288 with 1 Axes>"
      ]
     },
     "metadata": {
      "needs_background": "light"
     },
     "output_type": "display_data"
    }
   ],
   "source": [
    "sns.countplot(x='استان محل تولد', data=df_test)\n",
    "print(df_test['استان محل تولد'].value_counts())"
   ]
  },
  {
   "cell_type": "code",
   "execution_count": 3,
   "metadata": {},
   "outputs": [
    {
     "name": "stdout",
     "output_type": "stream",
     "text": [
      "  Column1 Column2 Column3\n",
      "0       A       X     Yes\n",
      "1       B       Y      No\n",
      "2       C       X     Yes\n",
      "3       A       Z     Yes\n",
      "   Column1  Column2  Column3\n",
      "0        0        0        0\n",
      "1        1        1        1\n",
      "2        2        0        0\n",
      "3        0        2        0\n"
     ]
    }
   ],
   "source": [
    "import pandas as pd\n",
    "\n",
    "# create a sample data frame\n",
    "df = pd.DataFrame({\n",
    "    'Column1': ['A', 'B', 'C', 'A'],\n",
    "    'Column2': ['X', 'Y', 'X', 'Z'],\n",
    "    'Column3': ['Yes', 'No', 'Yes', 'Yes']\n",
    "})\n",
    "print(df)\n",
    "# create a dictionary to map unique values to numbers\n",
    "mapping_dict = {}\n",
    "for col in df.columns:\n",
    "    unique_values = df[col].unique()\n",
    "    mapping_dict[col] = {value: i for i, value in enumerate(unique_values)}\n",
    "\n",
    "# replace values in data frame with mapped values\n",
    "df.replace(mapping_dict, inplace=True)\n",
    "\n",
    "print(df)\n"
   ]
  },
  {
   "cell_type": "code",
   "execution_count": 4,
   "metadata": {},
   "outputs": [
    {
     "data": {
      "text/html": [
       "<div>\n",
       "<style scoped>\n",
       "    .dataframe tbody tr th:only-of-type {\n",
       "        vertical-align: middle;\n",
       "    }\n",
       "\n",
       "    .dataframe tbody tr th {\n",
       "        vertical-align: top;\n",
       "    }\n",
       "\n",
       "    .dataframe thead th {\n",
       "        text-align: right;\n",
       "    }\n",
       "</style>\n",
       "<table border=\"1\" class=\"dataframe\">\n",
       "  <thead>\n",
       "    <tr style=\"text-align: right;\">\n",
       "      <th></th>\n",
       "      <th>جنس</th>\n",
       "      <th>مقطع</th>\n",
       "      <th>دوره</th>\n",
       "      <th>معدل كل</th>\n",
       "      <th>فرصت مطالعاتی بین المللی</th>\n",
       "      <th>حذف ترم</th>\n",
       "      <th>مرخصی</th>\n",
       "      <th>دين</th>\n",
       "      <th>وضعيت تاهل</th>\n",
       "      <th>تعداد فرزند</th>\n",
       "      <th>سن</th>\n",
       "      <th>استان محل تولد</th>\n",
       "      <th>تحت پوشش كميته امداد</th>\n",
       "    </tr>\n",
       "  </thead>\n",
       "  <tbody>\n",
       "    <tr>\n",
       "      <th>0</th>\n",
       "      <td>0</td>\n",
       "      <td>0</td>\n",
       "      <td>0</td>\n",
       "      <td>0.0</td>\n",
       "      <td>0</td>\n",
       "      <td>0</td>\n",
       "      <td>0</td>\n",
       "      <td>0</td>\n",
       "      <td>0</td>\n",
       "      <td>0</td>\n",
       "      <td>0</td>\n",
       "      <td>0</td>\n",
       "      <td>0</td>\n",
       "    </tr>\n",
       "    <tr>\n",
       "      <th>1</th>\n",
       "      <td>0</td>\n",
       "      <td>0</td>\n",
       "      <td>1</td>\n",
       "      <td>1.0</td>\n",
       "      <td>0</td>\n",
       "      <td>0</td>\n",
       "      <td>0</td>\n",
       "      <td>0</td>\n",
       "      <td>1</td>\n",
       "      <td>1</td>\n",
       "      <td>1</td>\n",
       "      <td>1</td>\n",
       "      <td>0</td>\n",
       "    </tr>\n",
       "    <tr>\n",
       "      <th>2</th>\n",
       "      <td>1</td>\n",
       "      <td>0</td>\n",
       "      <td>0</td>\n",
       "      <td>2.0</td>\n",
       "      <td>0</td>\n",
       "      <td>0</td>\n",
       "      <td>0</td>\n",
       "      <td>0</td>\n",
       "      <td>0</td>\n",
       "      <td>0</td>\n",
       "      <td>0</td>\n",
       "      <td>2</td>\n",
       "      <td>0</td>\n",
       "    </tr>\n",
       "    <tr>\n",
       "      <th>3</th>\n",
       "      <td>0</td>\n",
       "      <td>0</td>\n",
       "      <td>1</td>\n",
       "      <td>3.0</td>\n",
       "      <td>0</td>\n",
       "      <td>0</td>\n",
       "      <td>0</td>\n",
       "      <td>0</td>\n",
       "      <td>1</td>\n",
       "      <td>0</td>\n",
       "      <td>2</td>\n",
       "      <td>1</td>\n",
       "      <td>0</td>\n",
       "    </tr>\n",
       "    <tr>\n",
       "      <th>4</th>\n",
       "      <td>1</td>\n",
       "      <td>0</td>\n",
       "      <td>0</td>\n",
       "      <td>4.0</td>\n",
       "      <td>0</td>\n",
       "      <td>0</td>\n",
       "      <td>0</td>\n",
       "      <td>0</td>\n",
       "      <td>1</td>\n",
       "      <td>2</td>\n",
       "      <td>3</td>\n",
       "      <td>3</td>\n",
       "      <td>0</td>\n",
       "    </tr>\n",
       "  </tbody>\n",
       "</table>\n",
       "</div>"
      ],
      "text/plain": [
       "   جنس  مقطع  دوره  معدل كل  فرصت مطالعاتی بین المللی  حذف ترم  مرخصی  دين  \\\n",
       "0    0     0     0      0.0                         0        0      0    0   \n",
       "1    0     0     1      1.0                         0        0      0    0   \n",
       "2    1     0     0      2.0                         0        0      0    0   \n",
       "3    0     0     1      3.0                         0        0      0    0   \n",
       "4    1     0     0      4.0                         0        0      0    0   \n",
       "\n",
       "   وضعيت تاهل  تعداد فرزند  سن  استان محل تولد  تحت پوشش كميته امداد  \n",
       "0           0            0   0               0                     0  \n",
       "1           1            1   1               1                     0  \n",
       "2           0            0   0               2                     0  \n",
       "3           1            0   2               1                     0  \n",
       "4           1            2   3               3                     0  "
      ]
     },
     "execution_count": 4,
     "metadata": {},
     "output_type": "execute_result"
    }
   ],
   "source": [
    "# create a dictionary to map unique values to numbers\n",
    "mapping_dict = {}\n",
    "variables = list(set(df_test.columns) - {\"ID\", \"Sen\", \"Moadel\", \"Farzandan\", \"Sal\"})\n",
    "for col in variables:\n",
    "    unique_values = df_test[col].unique()\n",
    "    mapping_dict[col] = {value: i for i, value in enumerate(unique_values)}\n",
    "\n",
    "# replace values in data frame with mapped values\n",
    "df_test.replace(mapping_dict, inplace=True)\n",
    "df_test.head()"
   ]
  },
  {
   "cell_type": "code",
   "execution_count": 5,
   "metadata": {},
   "outputs": [
    {
     "data": {
      "text/plain": [
       "<Axes: >"
      ]
     },
     "execution_count": 5,
     "metadata": {},
     "output_type": "execute_result"
    },
    {
     "data": {
      "image/png": "[encoded data removed]",
      "text/plain": [
       "<Figure size 432x288 with 2 Axes>"
      ]
     },
     "metadata": {
      "needs_background": "light"
     },
     "output_type": "display_data"
    }
   ],
   "source": [
    "sns.heatmap(df_test.corr(), annot=False)"
   ]
  },
  {
   "cell_type": "code",
   "execution_count": 6,
   "metadata": {},
   "outputs": [
    {
     "data": {
      "text/plain": [
       "جنس                         0\n",
       "مقطع                        0\n",
       "دوره                        0\n",
       "معدل كل                     0\n",
       "فرصت مطالعاتی بین المللی    0\n",
       "حذف ترم                     0\n",
       "مرخصی                       0\n",
       "دين                         0\n",
       "وضعيت تاهل                  0\n",
       "تعداد فرزند                 0\n",
       "سن                          0\n",
       "استان محل تولد              0\n",
       "تحت پوشش كميته امداد        0\n",
       "dtype: int64"
      ]
     },
     "execution_count": 6,
     "metadata": {},
     "output_type": "execute_result"
    }
   ],
   "source": [
    "df_test.dropna(inplace=True)\n",
    "df_test.isna().sum()"
   ]
  },
  {
   "cell_type": "code",
   "execution_count": 8,
   "metadata": {},
   "outputs": [
    {
     "data": {
      "text/plain": [
       "Index(['جنس', 'مقطع', 'دوره', 'معدل كل', 'فرصت مطالعاتی بین المللی', 'حذف ترم',\n",
       "       'مرخصی', 'دين', 'وضعيت تاهل', 'تعداد فرزند', 'سن', 'استان محل تولد',\n",
       "       'تحت پوشش كميته امداد'],\n",
       "      dtype='object')"
      ]
     },
     "execution_count": 8,
     "metadata": {},
     "output_type": "execute_result"
    }
   ],
   "source": [
    "df_test.columns"
   ]
  },
  {
   "cell_type": "code",
   "execution_count": 9,
   "metadata": {},
   "outputs": [
    {
     "name": "stdout",
     "output_type": "stream",
     "text": [
      "Columns for training: ['جنس', 'مقطع', 'دوره', 'معدل كل', 'فرصت مطالعاتی بین المللی', 'حذف ترم', 'مرخصی', 'دين', 'وضعيت تاهل', 'تعداد فرزند', 'سن', 'تحت پوشش كميته امداد']\n",
      "(5500, 12)\n",
      "(1376, 12)\n",
      "(5500,)\n",
      "(1376,)\n",
      "{'C': 1.0, 'class_weight': None, 'dual': False, 'fit_intercept': True, 'intercept_scaling': 1, 'l1_ratio': None, 'max_iter': 100, 'multi_class': 'multinomial', 'n_jobs': None, 'penalty': 'none', 'random_state': 0, 'solver': 'newton-cg', 'tol': 0.0001, 'verbose': 0, 'warm_start': False}\n",
      "Accuracy Score: 0.6598837209302325\n",
      "              precision    recall  f1-score   support\n",
      "\n",
      "           0       0.66      1.00      0.80       910\n",
      "           1       0.00      0.00      0.00        35\n",
      "           2       0.00      0.00      0.00        59\n",
      "           3       0.00      0.00      0.00        48\n",
      "           4       0.00      0.00      0.00       173\n",
      "           5       0.00      0.00      0.00        56\n",
      "           6       0.00      0.00      0.00        13\n",
      "           7       0.00      0.00      0.00        34\n",
      "           8       0.00      0.00      0.00        45\n",
      "           9       0.00      0.00      0.00         3\n",
      "\n",
      "    accuracy                           0.66      1376\n",
      "   macro avg       0.07      0.10      0.08      1376\n",
      "weighted avg       0.44      0.66      0.53      1376\n",
      "\n"
     ]
    },
    {
     "name": "stderr",
     "output_type": "stream",
     "text": [
      "/Library/Frameworks/Python.framework/Versions/3.9/lib/python3.9/site-packages/sklearn/utils/optimize.py:202: ConvergenceWarning: newton-cg failed to converge. Increase the number of iterations.\n",
      "  warnings.warn(\"newton-cg failed to converge. Increase the \"\n",
      "/Library/Frameworks/Python.framework/Versions/3.9/lib/python3.9/site-packages/sklearn/metrics/_classification.py:1248: UndefinedMetricWarning: Precision and F-score are ill-defined and being set to 0.0 in labels with no predicted samples. Use `zero_division` parameter to control this behavior.\n",
      "  _warn_prf(average, modifier, msg_start, len(result))\n",
      "/Library/Frameworks/Python.framework/Versions/3.9/lib/python3.9/site-packages/sklearn/metrics/_classification.py:1248: UndefinedMetricWarning: Precision and F-score are ill-defined and being set to 0.0 in labels with no predicted samples. Use `zero_division` parameter to control this behavior.\n",
      "  _warn_prf(average, modifier, msg_start, len(result))\n",
      "/Library/Frameworks/Python.framework/Versions/3.9/lib/python3.9/site-packages/sklearn/metrics/_classification.py:1248: UndefinedMetricWarning: Precision and F-score are ill-defined and being set to 0.0 in labels with no predicted samples. Use `zero_division` parameter to control this behavior.\n",
      "  _warn_prf(average, modifier, msg_start, len(result))\n"
     ]
    }
   ],
   "source": [
    "X = df_test.drop(['استان محل تولد'], axis=1) \n",
    "y = df_test['استان محل تولد']\n",
    "#y=y.astype('object')\n",
    "\n",
    "print(\"Columns for training:\", list(X.columns.values)) \n",
    "\n",
    "X_train, X_test, y_train, y_test = sklearn.model_selection.train_test_split(X, y, test_size = 0.20, random_state = 5)\n",
    "print(X_train.shape)\n",
    "print(X_test.shape)\n",
    "print(y_train.shape)\n",
    "print(y_test.shape)\n",
    "\n",
    "model1 = LogisticRegression(random_state=0, multi_class='multinomial', penalty='none', solver='newton-cg').fit(X_train, y_train)\n",
    "preds = model1.predict(X_test)\n",
    "\n",
    "#print the tunable parameters (They were not tuned in this example, everything kept as default)\n",
    "params = model1.get_params()\n",
    "print(params)\n",
    "\n",
    "#Print model parameters\n",
    "#print('Intercept: \\n', model1.intercept_)\n",
    "#print('Coefficients: \\n', model1.coef_)\n",
    "\n",
    "#Create a confusion matrix\n",
    "#y_test as first argument and the preds as second argument \n",
    "confusion_matrix(y_test, preds)\n",
    "\n",
    "#transform confusion matrix into array\n",
    "#the matrix is stored in a vaiable called confmtrx\n",
    "confmtrx = np.array(confusion_matrix(y_test, preds))\n",
    "\n",
    "#Accuracy statistics\n",
    "\n",
    "print('Accuracy Score:', metrics.accuracy_score(y_test, preds))  \n",
    "\n",
    "#Create classification report\n",
    "class_report=classification_report(y_test, preds)\n",
    "print(class_report)"
   ]
  },
  {
   "cell_type": "code",
   "execution_count": 177,
   "metadata": {},
   "outputs": [
    {
     "name": "stdout",
     "output_type": "stream",
     "text": [
      "Columns for training: ['Boomi', 'Sen', 'Maghtah', 'Moadel', 'Doreh', 'Meliyat', 'Vaziyattahol', 'Farzandan', 'Sal', 'Komakmali', 'Jensiyat']\n",
      "(2723, 11)\n",
      "(681, 11)\n",
      "(2723,)\n",
      "(681,)\n",
      "              precision    recall  f1-score   support\n",
      "\n",
      "           0       0.99      1.00      0.99       676\n",
      "       Leave       0.00      0.00      0.00         2\n",
      "      Remove       0.00      0.00      0.00         3\n",
      "\n",
      "    accuracy                           0.99       681\n",
      "   macro avg       0.33      0.33      0.33       681\n",
      "weighted avg       0.99      0.99      0.99       681\n",
      "\n",
      "[[673   2   1]\n",
      " [  2   0   0]\n",
      " [  3   0   0]]\n"
     ]
    }
   ],
   "source": [
    "from sklearn.tree import DecisionTreeClassifier\n",
    "\n",
    "X = df_test.drop(['Leave', 'Remove', 'newClass', 'Tasmim', 'ID'], axis=1) \n",
    "y = df_test['newClass']\n",
    "#y=y.astype('object')\n",
    "\n",
    "print(\"Columns for training:\", list(X.columns.values)) \n",
    "\n",
    "X_train, X_test, y_train, y_test = sklearn.model_selection.train_test_split(X, y, test_size = 0.20, random_state = 5)\n",
    "print(X_train.shape)\n",
    "print(X_test.shape)\n",
    "print(y_train.shape)\n",
    "print(y_test.shape)\n",
    "\n",
    "dtree = DecisionTreeClassifier()\n",
    "dtree.fit(X_train,y_train)\n",
    "predictions = dtree.predict(X_test)\n",
    "\n",
    "print(classification_report(y_test,predictions))\n",
    "print(confusion_matrix(y_test,predictions))"
   ]
  },
  {
   "cell_type": "code",
   "execution_count": 178,
   "metadata": {},
   "outputs": [
    {
     "name": "stdout",
     "output_type": "stream",
     "text": [
      "Columns for training: ['Boomi', 'Sen', 'Maghtah', 'Doreh', 'Meliyat', 'Vaziyattahol', 'Farzandan', 'Komakmali', 'Jensiyat', 'Leave', 'Remove']\n"
     ]
    },
    {
     "data": {
      "image/png": "[encoded data removed]",
      "text/plain": [
       "<Figure size 432x288 with 1 Axes>"
      ]
     },
     "metadata": {
      "needs_background": "light"
     },
     "output_type": "display_data"
    },
    {
     "data": {
      "image/png": "[encoded data removed]",
      "text/plain": [
       "<Figure size 360x360 with 1 Axes>"
      ]
     },
     "metadata": {
      "needs_background": "light"
     },
     "output_type": "display_data"
    }
   ],
   "source": [
    "X = df_test.drop(['newClass', 'ID', 'Sal', 'Tasmim','Moadel'], axis=1) \n",
    "#X = df_test[['Leave', 'Remove']]\n",
    "y = df_test['Moadel']\n",
    "#y=y.astype('object')\n",
    "\n",
    "print(\"Columns for training:\", list(X.columns.values)) \n",
    "\n",
    "X_train, X_test, y_train, y_test = sklearn.model_selection.train_test_split(X, y, test_size = 0.20, random_state = 5)\n",
    "scaler = MinMaxScaler()\n",
    "X_train= scaler.fit_transform(X_train)\n",
    "X_test = scaler.transform(X_test)\n",
    "\n",
    "from sklearn.linear_model import LinearRegression\n",
    "lm = LinearRegression()\n",
    "lm.fit(X_train,y_train)\n",
    "\n",
    "predictions = lm.predict(X_test)\n",
    "plt.scatter(y_test,predictions)\n",
    "plt.xlabel('Y Test')\n",
    "plt.ylabel('Predicted Y')\n",
    "#plt.plot(y_test,y_test,'r')\n",
    "\n",
    "sns.displot((y_test-predictions),bins=50, kde=True);"
   ]
  },
  {
   "cell_type": "code",
   "execution_count": 179,
   "metadata": {},
   "outputs": [
    {
     "data": {
      "text/html": [
       "<div>\n",
       "<style scoped>\n",
       "    .dataframe tbody tr th:only-of-type {\n",
       "        vertical-align: middle;\n",
       "    }\n",
       "\n",
       "    .dataframe tbody tr th {\n",
       "        vertical-align: top;\n",
       "    }\n",
       "\n",
       "    .dataframe thead th {\n",
       "        text-align: right;\n",
       "    }\n",
       "</style>\n",
       "<table border=\"1\" class=\"dataframe\">\n",
       "  <thead>\n",
       "    <tr style=\"text-align: right;\">\n",
       "      <th></th>\n",
       "      <th>Coefficient</th>\n",
       "    </tr>\n",
       "  </thead>\n",
       "  <tbody>\n",
       "    <tr>\n",
       "      <th>Boomi</th>\n",
       "      <td>0.140288</td>\n",
       "    </tr>\n",
       "    <tr>\n",
       "      <th>Sen</th>\n",
       "      <td>-1.385269</td>\n",
       "    </tr>\n",
       "    <tr>\n",
       "      <th>Maghtah</th>\n",
       "      <td>-1.260935</td>\n",
       "    </tr>\n",
       "    <tr>\n",
       "      <th>Doreh</th>\n",
       "      <td>-0.536000</td>\n",
       "    </tr>\n",
       "    <tr>\n",
       "      <th>Meliyat</th>\n",
       "      <td>-0.767138</td>\n",
       "    </tr>\n",
       "    <tr>\n",
       "      <th>Vaziyattahol</th>\n",
       "      <td>-0.023706</td>\n",
       "    </tr>\n",
       "    <tr>\n",
       "      <th>Farzandan</th>\n",
       "      <td>0.691198</td>\n",
       "    </tr>\n",
       "    <tr>\n",
       "      <th>Komakmali</th>\n",
       "      <td>0.289787</td>\n",
       "    </tr>\n",
       "    <tr>\n",
       "      <th>Jensiyat</th>\n",
       "      <td>0.271232</td>\n",
       "    </tr>\n",
       "    <tr>\n",
       "      <th>Leave</th>\n",
       "      <td>0.231680</td>\n",
       "    </tr>\n",
       "    <tr>\n",
       "      <th>Remove</th>\n",
       "      <td>0.453706</td>\n",
       "    </tr>\n",
       "  </tbody>\n",
       "</table>\n",
       "</div>"
      ],
      "text/plain": [
       "              Coefficient\n",
       "Boomi            0.140288\n",
       "Sen             -1.385269\n",
       "Maghtah         -1.260935\n",
       "Doreh           -0.536000\n",
       "Meliyat         -0.767138\n",
       "Vaziyattahol    -0.023706\n",
       "Farzandan        0.691198\n",
       "Komakmali        0.289787\n",
       "Jensiyat         0.271232\n",
       "Leave            0.231680\n",
       "Remove           0.453706"
      ]
     },
     "execution_count": 179,
     "metadata": {},
     "output_type": "execute_result"
    }
   ],
   "source": [
    "coeff_df = pd.DataFrame(lm.coef_,index=X.columns,columns=['Coefficient'])\n",
    "coeff_df"
   ]
  },
  {
   "cell_type": "code",
   "execution_count": 180,
   "metadata": {},
   "outputs": [
    {
     "name": "stdout",
     "output_type": "stream",
     "text": [
      "MAE: 1.1246044942196982\n",
      "MSE: 2.0668972105627903\n",
      "RMSE: 1.4376707587493007\n"
     ]
    }
   ],
   "source": [
    "# calculate these metrics by hand!\n",
    "from sklearn import metrics\n",
    "\n",
    "print('MAE:', metrics.mean_absolute_error(y_test, predictions))\n",
    "print('MSE:', metrics.mean_squared_error(y_test, predictions))\n",
    "print('RMSE:', np.sqrt(metrics.mean_squared_error(y_test, predictions)))"
   ]
  },
  {
   "cell_type": "code",
   "execution_count": 181,
   "metadata": {},
   "outputs": [
    {
     "data": {
      "text/plain": [
       "<tensorflow.python.keras.callbacks.History at 0x7fba7c292b20>"
      ]
     },
     "execution_count": 181,
     "metadata": {},
     "output_type": "execute_result"
    }
   ],
   "source": [
    "from tensorflow.keras.models import Sequential\n",
    "from tensorflow.keras.layers import Dense, Activation\n",
    "from tensorflow.keras.optimizers import Adam\n",
    "\n",
    "model = Sequential()\n",
    "\n",
    "model.add(Dense(11,activation='relu'))\n",
    "model.add(Dense(11,activation='relu'))\n",
    "model.add(Dense(11,activation='relu'))\n",
    "model.add(Dense(1))\n",
    "\n",
    "model.compile(optimizer='adam',loss='mse')\n",
    "model.fit(x=X_train,y=y_train.values,\n",
    "          validation_data=(X_test,y_test.values),\n",
    "          batch_size=128,epochs=400, verbose=False)"
   ]
  },
  {
   "cell_type": "code",
   "execution_count": 182,
   "metadata": {},
   "outputs": [
    {
     "data": {
      "text/plain": [
       "<AxesSubplot:>"
      ]
     },
     "execution_count": 182,
     "metadata": {},
     "output_type": "execute_result"
    },
    {
     "data": {
      "image/png": "[encoded data removed]",
      "text/plain": [
       "<Figure size 432x288 with 1 Axes>"
      ]
     },
     "metadata": {
      "needs_background": "light"
     },
     "output_type": "display_data"
    }
   ],
   "source": [
    "losses = pd.DataFrame(model.history.history)\n",
    "losses.plot()"
   ]
  },
  {
   "cell_type": "code",
   "execution_count": 190,
   "metadata": {},
   "outputs": [
    {
     "data": {
      "image/png": "[encoded data removed]",
      "text/plain": [
       "<Figure size 432x288 with 1 Axes>"
      ]
     },
     "metadata": {
      "needs_background": "light"
     },
     "output_type": "display_data"
    },
    {
     "data": {
      "image/png": "[encoded data removed]",
      "text/plain": [
       "<Figure size 360x360 with 1 Axes>"
      ]
     },
     "metadata": {
      "needs_background": "light"
     },
     "output_type": "display_data"
    }
   ],
   "source": [
    "predictions = model.predict(X_test)\n",
    "predictions = predictions.reshape(predictions.shape[0])\n",
    "plt.scatter(y_test,predictions)\n",
    "plt.xlabel('Y Test')\n",
    "plt.ylabel('Predicted Y')\n",
    "#plt.plot(y_test,y_test,'r')\n",
    "sns.displot((y_test-predictions),bins=50, kde=True);"
   ]
  },
  {
   "cell_type": "code",
   "execution_count": 192,
   "metadata": {},
   "outputs": [
    {
     "data": {
      "text/plain": [
       "<AxesSubplot:>"
      ]
     },
     "execution_count": 192,
     "metadata": {},
     "output_type": "execute_result"
    },
    {
     "data": {
      "image/png": "[encoded data removed]",
      "text/plain": [
       "<Figure size 432x288 with 1 Axes>"
      ]
     },
     "metadata": {
      "needs_background": "light"
     },
     "output_type": "display_data"
    }
   ],
   "source": [
    "df_test.corr()['Jensiyat'].sort_values()[:-1].plot(kind='bar')"
   ]
  },
  {
   "cell_type": "code",
   "execution_count": 193,
   "metadata": {},
   "outputs": [
    {
     "name": "stdout",
     "output_type": "stream",
     "text": [
      "Columns for training: ['Boomi', 'Sen', 'Maghtah', 'Moadel', 'Doreh', 'Meliyat', 'Vaziyattahol', 'Farzandan', 'Komakmali', 'Leave', 'Remove']\n",
      "(2723, 11)\n",
      "(681, 11)\n",
      "(2723,)\n",
      "(681,)\n",
      "{'C': 1.0, 'class_weight': None, 'dual': False, 'fit_intercept': True, 'intercept_scaling': 1, 'l1_ratio': None, 'max_iter': 100, 'multi_class': 'multinomial', 'n_jobs': None, 'penalty': 'none', 'random_state': 0, 'solver': 'newton-cg', 'tol': 0.0001, 'verbose': 0, 'warm_start': False}\n",
      "Accuracy Score: 0.6886930983847284\n",
      "              precision    recall  f1-score   support\n",
      "\n",
      "           0       0.69      1.00      0.81       468\n",
      "           1       0.60      0.01      0.03       213\n",
      "\n",
      "    accuracy                           0.69       681\n",
      "   macro avg       0.64      0.50      0.42       681\n",
      "weighted avg       0.66      0.69      0.57       681\n",
      "\n",
      "0.6886930983847284\n",
      "0.7029012118986412\n"
     ]
    }
   ],
   "source": [
    "X = df_test.drop(['newClass', 'ID', 'Sal', 'Tasmim','Jensiyat'], axis=1) \n",
    "y = df_test['Jensiyat']\n",
    "#y=y.astype('object')\n",
    "\n",
    "print(\"Columns for training:\", list(X.columns.values)) \n",
    "\n",
    "X_train, X_test, y_train, y_test = sklearn.model_selection.train_test_split(X, y, test_size = 0.20, random_state = 5)\n",
    "print(X_train.shape)\n",
    "print(X_test.shape)\n",
    "print(y_train.shape)\n",
    "print(y_test.shape)\n",
    "\n",
    "logmodel = LogisticRegression()\n",
    "logmodel.fit(X_train, y_train)\n",
    "preds = logmodel.predict(X_test)\n",
    "\n",
    "#print the tunable parameters (They were not tuned in this example, everything kept as default)\n",
    "params = model1.get_params()\n",
    "print(params)\n",
    "\n",
    "#Print model parameters\n",
    "#print('Intercept: \\n', model1.intercept_)\n",
    "#print('Coefficients: \\n', model1.coef_)\n",
    "\n",
    "#Create a confusion matrix\n",
    "#y_test as first argument and the preds as second argument \n",
    "confusion_matrix(y_test, preds)\n",
    "\n",
    "#transform confusion matrix into array\n",
    "#the matrix is stored in a vaiable called confmtrx\n",
    "confmtrx = np.array(confusion_matrix(y_test, preds))\n",
    "\n",
    "#Accuracy statistics\n",
    "\n",
    "print('Accuracy Score:', metrics.accuracy_score(y_test, preds))  \n",
    "\n",
    "#Create classification report\n",
    "class_report=classification_report(y_test, preds)\n",
    "print(class_report)\n",
    "\n",
    "print(logmodel.score(X_test, y_test))\n",
    "print(logmodel.score(X_train, y_train))"
   ]
  },
  {
   "cell_type": "code",
   "execution_count": 198,
   "metadata": {},
   "outputs": [
    {
     "name": "stdout",
     "output_type": "stream",
     "text": [
      "Epoch 1/300\n",
      "86/86 [==============================] - 1s 3ms/step - loss: 0.8673 - accuracy: 0.7014 - val_loss: 0.6223 - val_accuracy: 0.6902\n",
      "Epoch 2/300\n",
      "86/86 [==============================] - 0s 1ms/step - loss: 0.6084 - accuracy: 0.7025 - val_loss: 0.6195 - val_accuracy: 0.6887\n",
      "Epoch 3/300\n",
      "86/86 [==============================] - 0s 1ms/step - loss: 0.6076 - accuracy: 0.7011 - val_loss: 0.6192 - val_accuracy: 0.6902\n",
      "Epoch 4/300\n",
      "86/86 [==============================] - 0s 1ms/step - loss: 0.6057 - accuracy: 0.7022 - val_loss: 0.6189 - val_accuracy: 0.6916\n",
      "Epoch 5/300\n",
      "86/86 [==============================] - 0s 1ms/step - loss: 0.6047 - accuracy: 0.7018 - val_loss: 0.6181 - val_accuracy: 0.6872\n",
      "Epoch 6/300\n",
      "86/86 [==============================] - 0s 1ms/step - loss: 0.6046 - accuracy: 0.7022 - val_loss: 0.6333 - val_accuracy: 0.6902\n",
      "Epoch 7/300\n",
      "86/86 [==============================] - 0s 1ms/step - loss: 0.6071 - accuracy: 0.7018 - val_loss: 0.6194 - val_accuracy: 0.6902\n",
      "Epoch 8/300\n",
      "86/86 [==============================] - 0s 3ms/step - loss: 0.6066 - accuracy: 0.7040 - val_loss: 0.6208 - val_accuracy: 0.6902\n",
      "Epoch 9/300\n",
      "86/86 [==============================] - 0s 1ms/step - loss: 0.6096 - accuracy: 0.7018 - val_loss: 0.6198 - val_accuracy: 0.6902\n",
      "Epoch 10/300\n",
      "86/86 [==============================] - 0s 1ms/step - loss: 0.6081 - accuracy: 0.7029 - val_loss: 0.6282 - val_accuracy: 0.6902\n",
      "Epoch 11/300\n",
      "86/86 [==============================] - 0s 1ms/step - loss: 0.6046 - accuracy: 0.7033 - val_loss: 0.6170 - val_accuracy: 0.6946\n",
      "Epoch 12/300\n",
      "86/86 [==============================] - 0s 1ms/step - loss: 0.6062 - accuracy: 0.7011 - val_loss: 0.6176 - val_accuracy: 0.6887\n",
      "Epoch 13/300\n",
      "86/86 [==============================] - 0s 1ms/step - loss: 0.6082 - accuracy: 0.7040 - val_loss: 0.6226 - val_accuracy: 0.6902\n",
      "Epoch 14/300\n",
      "86/86 [==============================] - 0s 1ms/step - loss: 0.6036 - accuracy: 0.7044 - val_loss: 0.6170 - val_accuracy: 0.6931\n",
      "Epoch 15/300\n",
      "86/86 [==============================] - 0s 1ms/step - loss: 0.6037 - accuracy: 0.7051 - val_loss: 0.6176 - val_accuracy: 0.6916\n",
      "Epoch 16/300\n",
      "86/86 [==============================] - 0s 1ms/step - loss: 0.6045 - accuracy: 0.7018 - val_loss: 0.6183 - val_accuracy: 0.6872\n",
      "Epoch 17/300\n",
      "86/86 [==============================] - 0s 1ms/step - loss: 0.6070 - accuracy: 0.7055 - val_loss: 0.6167 - val_accuracy: 0.6916\n",
      "Epoch 18/300\n",
      "86/86 [==============================] - 0s 1ms/step - loss: 0.6046 - accuracy: 0.7040 - val_loss: 0.6183 - val_accuracy: 0.6931\n",
      "Epoch 19/300\n",
      "86/86 [==============================] - 0s 1ms/step - loss: 0.6059 - accuracy: 0.7047 - val_loss: 0.6283 - val_accuracy: 0.6784\n",
      "Epoch 20/300\n",
      "86/86 [==============================] - 0s 1ms/step - loss: 0.6046 - accuracy: 0.7058 - val_loss: 0.6169 - val_accuracy: 0.6887\n",
      "Epoch 21/300\n",
      "86/86 [==============================] - 0s 1ms/step - loss: 0.6028 - accuracy: 0.7066 - val_loss: 0.6319 - val_accuracy: 0.6872\n",
      "Epoch 22/300\n",
      "86/86 [==============================] - 0s 1ms/step - loss: 0.6049 - accuracy: 0.7040 - val_loss: 0.6192 - val_accuracy: 0.6916\n",
      "Epoch 23/300\n",
      "86/86 [==============================] - 0s 1ms/step - loss: 0.6044 - accuracy: 0.7055 - val_loss: 0.6363 - val_accuracy: 0.6872\n",
      "Epoch 24/300\n",
      "86/86 [==============================] - 0s 1ms/step - loss: 0.6050 - accuracy: 0.7029 - val_loss: 0.6188 - val_accuracy: 0.6902\n",
      "Epoch 25/300\n",
      "86/86 [==============================] - 0s 1ms/step - loss: 0.6039 - accuracy: 0.7055 - val_loss: 0.6168 - val_accuracy: 0.6902\n",
      "Epoch 26/300\n",
      "86/86 [==============================] - 0s 1ms/step - loss: 0.6022 - accuracy: 0.7040 - val_loss: 0.6234 - val_accuracy: 0.6902\n",
      "Epoch 27/300\n",
      "86/86 [==============================] - 0s 1ms/step - loss: 0.6059 - accuracy: 0.7044 - val_loss: 0.6163 - val_accuracy: 0.6931\n",
      "Epoch 28/300\n",
      "86/86 [==============================] - 0s 1ms/step - loss: 0.6020 - accuracy: 0.7062 - val_loss: 0.6278 - val_accuracy: 0.6902\n",
      "Epoch 29/300\n",
      "86/86 [==============================] - 0s 1ms/step - loss: 0.6052 - accuracy: 0.7055 - val_loss: 0.6197 - val_accuracy: 0.6916\n",
      "Epoch 30/300\n",
      "86/86 [==============================] - 0s 1ms/step - loss: 0.6018 - accuracy: 0.7036 - val_loss: 0.6186 - val_accuracy: 0.6931\n",
      "Epoch 31/300\n",
      "86/86 [==============================] - 0s 1ms/step - loss: 0.6028 - accuracy: 0.7051 - val_loss: 0.6170 - val_accuracy: 0.6931\n",
      "Epoch 32/300\n",
      "86/86 [==============================] - 0s 1ms/step - loss: 0.6031 - accuracy: 0.7055 - val_loss: 0.6166 - val_accuracy: 0.6858\n",
      "Epoch 33/300\n",
      "86/86 [==============================] - 0s 1ms/step - loss: 0.6014 - accuracy: 0.7033 - val_loss: 0.6163 - val_accuracy: 0.6946\n",
      "Epoch 34/300\n",
      "86/86 [==============================] - 0s 1ms/step - loss: 0.6041 - accuracy: 0.7029 - val_loss: 0.6167 - val_accuracy: 0.6858\n",
      "Epoch 35/300\n",
      "86/86 [==============================] - 0s 1ms/step - loss: 0.6037 - accuracy: 0.7025 - val_loss: 0.6157 - val_accuracy: 0.6887\n",
      "Epoch 36/300\n",
      "86/86 [==============================] - 0s 3ms/step - loss: 0.6017 - accuracy: 0.7040 - val_loss: 0.6168 - val_accuracy: 0.6931\n",
      "Epoch 37/300\n",
      "86/86 [==============================] - 0s 1ms/step - loss: 0.6064 - accuracy: 0.7040 - val_loss: 0.6157 - val_accuracy: 0.6887\n",
      "Epoch 38/300\n",
      "86/86 [==============================] - 0s 1ms/step - loss: 0.6017 - accuracy: 0.7051 - val_loss: 0.6156 - val_accuracy: 0.6887\n",
      "Epoch 39/300\n",
      "86/86 [==============================] - 0s 1ms/step - loss: 0.6010 - accuracy: 0.7040 - val_loss: 0.6152 - val_accuracy: 0.6902\n",
      "Epoch 40/300\n",
      "86/86 [==============================] - 0s 1ms/step - loss: 0.6015 - accuracy: 0.7077 - val_loss: 0.6313 - val_accuracy: 0.6902\n",
      "Epoch 41/300\n",
      "86/86 [==============================] - 0s 1ms/step - loss: 0.6052 - accuracy: 0.7047 - val_loss: 0.6154 - val_accuracy: 0.6931\n",
      "Epoch 42/300\n",
      "86/86 [==============================] - 0s 1ms/step - loss: 0.6024 - accuracy: 0.7051 - val_loss: 0.6182 - val_accuracy: 0.6931\n",
      "Epoch 43/300\n",
      "86/86 [==============================] - 0s 1ms/step - loss: 0.6055 - accuracy: 0.7084 - val_loss: 0.6165 - val_accuracy: 0.6931\n",
      "Epoch 44/300\n",
      "86/86 [==============================] - 0s 1ms/step - loss: 0.6039 - accuracy: 0.7029 - val_loss: 0.6155 - val_accuracy: 0.6946\n",
      "Epoch 45/300\n",
      "86/86 [==============================] - 0s 1ms/step - loss: 0.6057 - accuracy: 0.7036 - val_loss: 0.6156 - val_accuracy: 0.6960\n",
      "Epoch 46/300\n",
      "86/86 [==============================] - 0s 1ms/step - loss: 0.6028 - accuracy: 0.7055 - val_loss: 0.6190 - val_accuracy: 0.6931\n",
      "Epoch 47/300\n",
      "86/86 [==============================] - 0s 1ms/step - loss: 0.6018 - accuracy: 0.7033 - val_loss: 0.6311 - val_accuracy: 0.6902\n",
      "Epoch 48/300\n",
      "86/86 [==============================] - 0s 1ms/step - loss: 0.6023 - accuracy: 0.7040 - val_loss: 0.6169 - val_accuracy: 0.6931\n",
      "Epoch 49/300\n",
      "86/86 [==============================] - 0s 1ms/step - loss: 0.6029 - accuracy: 0.7058 - val_loss: 0.6234 - val_accuracy: 0.6916\n",
      "Epoch 50/300\n",
      "86/86 [==============================] - 0s 1ms/step - loss: 0.6046 - accuracy: 0.7055 - val_loss: 0.6324 - val_accuracy: 0.6902\n",
      "Epoch 51/300\n",
      "86/86 [==============================] - 0s 1ms/step - loss: 0.6006 - accuracy: 0.7073 - val_loss: 0.6220 - val_accuracy: 0.6916\n",
      "Epoch 52/300\n",
      "86/86 [==============================] - 0s 1ms/step - loss: 0.6027 - accuracy: 0.7051 - val_loss: 0.6227 - val_accuracy: 0.6916\n",
      "Epoch 53/300\n",
      "86/86 [==============================] - 0s 1ms/step - loss: 0.6006 - accuracy: 0.7040 - val_loss: 0.6141 - val_accuracy: 0.6946\n",
      "Epoch 54/300\n",
      "86/86 [==============================] - 0s 1ms/step - loss: 0.6043 - accuracy: 0.7051 - val_loss: 0.6237 - val_accuracy: 0.6916\n",
      "Epoch 55/300\n",
      "86/86 [==============================] - 0s 1ms/step - loss: 0.6010 - accuracy: 0.7055 - val_loss: 0.6221 - val_accuracy: 0.6916\n",
      "Epoch 56/300\n",
      "86/86 [==============================] - 0s 1ms/step - loss: 0.5995 - accuracy: 0.7058 - val_loss: 0.6171 - val_accuracy: 0.6946\n",
      "Epoch 57/300\n",
      "86/86 [==============================] - 0s 1ms/step - loss: 0.6021 - accuracy: 0.7051 - val_loss: 0.6140 - val_accuracy: 0.6916\n",
      "Epoch 58/300\n",
      "86/86 [==============================] - 0s 3ms/step - loss: 0.5992 - accuracy: 0.7073 - val_loss: 0.6167 - val_accuracy: 0.6828\n",
      "Epoch 59/300\n",
      "86/86 [==============================] - 0s 1ms/step - loss: 0.5994 - accuracy: 0.7058 - val_loss: 0.6146 - val_accuracy: 0.6931\n",
      "Epoch 60/300\n",
      "86/86 [==============================] - 0s 1ms/step - loss: 0.5995 - accuracy: 0.7073 - val_loss: 0.6139 - val_accuracy: 0.6946\n",
      "Epoch 61/300\n",
      "86/86 [==============================] - 0s 1ms/step - loss: 0.6012 - accuracy: 0.7069 - val_loss: 0.6138 - val_accuracy: 0.6946\n",
      "Epoch 62/300\n",
      "86/86 [==============================] - 0s 1ms/step - loss: 0.6013 - accuracy: 0.7062 - val_loss: 0.6147 - val_accuracy: 0.6960\n",
      "Epoch 63/300\n",
      "86/86 [==============================] - 0s 3ms/step - loss: 0.6033 - accuracy: 0.7069 - val_loss: 0.6145 - val_accuracy: 0.6931\n",
      "Epoch 64/300\n",
      "86/86 [==============================] - 0s 1ms/step - loss: 0.6010 - accuracy: 0.7047 - val_loss: 0.6146 - val_accuracy: 0.6858\n",
      "Epoch 65/300\n",
      "86/86 [==============================] - 0s 1ms/step - loss: 0.6021 - accuracy: 0.7018 - val_loss: 0.6152 - val_accuracy: 0.6946\n",
      "Epoch 66/300\n",
      "86/86 [==============================] - 0s 1ms/step - loss: 0.6025 - accuracy: 0.7066 - val_loss: 0.6135 - val_accuracy: 0.6916\n",
      "Epoch 67/300\n",
      "86/86 [==============================] - 0s 1ms/step - loss: 0.6021 - accuracy: 0.7073 - val_loss: 0.6151 - val_accuracy: 0.6946\n",
      "Epoch 68/300\n",
      "86/86 [==============================] - 0s 1ms/step - loss: 0.5997 - accuracy: 0.7073 - val_loss: 0.6135 - val_accuracy: 0.6946\n",
      "Epoch 69/300\n",
      "86/86 [==============================] - 0s 1ms/step - loss: 0.5992 - accuracy: 0.7058 - val_loss: 0.6220 - val_accuracy: 0.6858\n",
      "Epoch 70/300\n",
      "86/86 [==============================] - 0s 1ms/step - loss: 0.6012 - accuracy: 0.7062 - val_loss: 0.6163 - val_accuracy: 0.6931\n",
      "Epoch 71/300\n",
      "86/86 [==============================] - 0s 1ms/step - loss: 0.6002 - accuracy: 0.7066 - val_loss: 0.6152 - val_accuracy: 0.6843\n",
      "Epoch 72/300\n",
      "86/86 [==============================] - 0s 1ms/step - loss: 0.6025 - accuracy: 0.7044 - val_loss: 0.6162 - val_accuracy: 0.6931\n",
      "Epoch 73/300\n",
      "86/86 [==============================] - 0s 1ms/step - loss: 0.5995 - accuracy: 0.7055 - val_loss: 0.6135 - val_accuracy: 0.6858\n",
      "Epoch 74/300\n",
      "86/86 [==============================] - 0s 1ms/step - loss: 0.5992 - accuracy: 0.7055 - val_loss: 0.6131 - val_accuracy: 0.6931\n",
      "Epoch 75/300\n",
      "86/86 [==============================] - 0s 1ms/step - loss: 0.6000 - accuracy: 0.7080 - val_loss: 0.6137 - val_accuracy: 0.6975\n",
      "Epoch 76/300\n",
      "86/86 [==============================] - 0s 1ms/step - loss: 0.6002 - accuracy: 0.7058 - val_loss: 0.6138 - val_accuracy: 0.6858\n",
      "Epoch 77/300\n",
      "86/86 [==============================] - 0s 1ms/step - loss: 0.6005 - accuracy: 0.7040 - val_loss: 0.6158 - val_accuracy: 0.6946\n",
      "Epoch 78/300\n",
      "86/86 [==============================] - 0s 1ms/step - loss: 0.6008 - accuracy: 0.7080 - val_loss: 0.6202 - val_accuracy: 0.6946\n",
      "Epoch 79/300\n",
      "86/86 [==============================] - 0s 1ms/step - loss: 0.5998 - accuracy: 0.7040 - val_loss: 0.6231 - val_accuracy: 0.6931\n",
      "Epoch 80/300\n",
      "86/86 [==============================] - 0s 1ms/step - loss: 0.5997 - accuracy: 0.7051 - val_loss: 0.6167 - val_accuracy: 0.6931\n",
      "Epoch 81/300\n",
      "86/86 [==============================] - 0s 1ms/step - loss: 0.6060 - accuracy: 0.7073 - val_loss: 0.6143 - val_accuracy: 0.6931\n",
      "Epoch 82/300\n",
      "86/86 [==============================] - 0s 1ms/step - loss: 0.5997 - accuracy: 0.7047 - val_loss: 0.6203 - val_accuracy: 0.6931\n",
      "Epoch 83/300\n",
      "86/86 [==============================] - 0s 1ms/step - loss: 0.5990 - accuracy: 0.7066 - val_loss: 0.6173 - val_accuracy: 0.6931\n",
      "Epoch 84/300\n",
      "86/86 [==============================] - 0s 1ms/step - loss: 0.6048 - accuracy: 0.7040 - val_loss: 0.6134 - val_accuracy: 0.6960\n",
      "Epoch 85/300\n",
      "86/86 [==============================] - 0s 3ms/step - loss: 0.5996 - accuracy: 0.7077 - val_loss: 0.6129 - val_accuracy: 0.6946\n",
      "Epoch 86/300\n",
      "86/86 [==============================] - 0s 1ms/step - loss: 0.6002 - accuracy: 0.7095 - val_loss: 0.6136 - val_accuracy: 0.6946\n",
      "Epoch 87/300\n",
      "86/86 [==============================] - 0s 1ms/step - loss: 0.5991 - accuracy: 0.7073 - val_loss: 0.6121 - val_accuracy: 0.6931\n",
      "Epoch 88/300\n",
      "86/86 [==============================] - 0s 1ms/step - loss: 0.5994 - accuracy: 0.7088 - val_loss: 0.6120 - val_accuracy: 0.6946\n",
      "Epoch 89/300\n",
      "86/86 [==============================] - 0s 3ms/step - loss: 0.5995 - accuracy: 0.7055 - val_loss: 0.6143 - val_accuracy: 0.6931\n",
      "Epoch 90/300\n",
      "86/86 [==============================] - 0s 1ms/step - loss: 0.5966 - accuracy: 0.7088 - val_loss: 0.6260 - val_accuracy: 0.6916\n",
      "Epoch 91/300\n",
      "86/86 [==============================] - 0s 1ms/step - loss: 0.5985 - accuracy: 0.7066 - val_loss: 0.6120 - val_accuracy: 0.6931\n",
      "Epoch 92/300\n",
      "86/86 [==============================] - 0s 1ms/step - loss: 0.5981 - accuracy: 0.7102 - val_loss: 0.6155 - val_accuracy: 0.6946\n",
      "Epoch 93/300\n",
      "86/86 [==============================] - 0s 1ms/step - loss: 0.5999 - accuracy: 0.7102 - val_loss: 0.6207 - val_accuracy: 0.6946\n",
      "Epoch 94/300\n",
      "86/86 [==============================] - 0s 1ms/step - loss: 0.5989 - accuracy: 0.7084 - val_loss: 0.6134 - val_accuracy: 0.6946\n",
      "Epoch 95/300\n",
      "86/86 [==============================] - 0s 1ms/step - loss: 0.5992 - accuracy: 0.7091 - val_loss: 0.6298 - val_accuracy: 0.6916\n",
      "Epoch 96/300\n",
      "86/86 [==============================] - 0s 1ms/step - loss: 0.6017 - accuracy: 0.7080 - val_loss: 0.6158 - val_accuracy: 0.6931\n",
      "Epoch 97/300\n",
      "86/86 [==============================] - 0s 1ms/step - loss: 0.5970 - accuracy: 0.7069 - val_loss: 0.6121 - val_accuracy: 0.6960\n",
      "Epoch 98/300\n",
      "86/86 [==============================] - 0s 1ms/step - loss: 0.5973 - accuracy: 0.7073 - val_loss: 0.6200 - val_accuracy: 0.6931\n",
      "Epoch 99/300\n",
      "86/86 [==============================] - 0s 1ms/step - loss: 0.6012 - accuracy: 0.7077 - val_loss: 0.6131 - val_accuracy: 0.6931\n",
      "Epoch 100/300\n",
      "86/86 [==============================] - 0s 1ms/step - loss: 0.5986 - accuracy: 0.7080 - val_loss: 0.6114 - val_accuracy: 0.6872\n",
      "Epoch 101/300\n",
      "86/86 [==============================] - 0s 1ms/step - loss: 0.6012 - accuracy: 0.7073 - val_loss: 0.6115 - val_accuracy: 0.6828\n",
      "Epoch 102/300\n",
      "86/86 [==============================] - 0s 1ms/step - loss: 0.5974 - accuracy: 0.7106 - val_loss: 0.6110 - val_accuracy: 0.6858\n",
      "Epoch 103/300\n",
      "86/86 [==============================] - 0s 1ms/step - loss: 0.5976 - accuracy: 0.7080 - val_loss: 0.6117 - val_accuracy: 0.6887\n",
      "Epoch 104/300\n",
      "86/86 [==============================] - 0s 1ms/step - loss: 0.5985 - accuracy: 0.7080 - val_loss: 0.6105 - val_accuracy: 0.6931\n",
      "Epoch 105/300\n",
      "86/86 [==============================] - 0s 1ms/step - loss: 0.5973 - accuracy: 0.7080 - val_loss: 0.6132 - val_accuracy: 0.6946\n",
      "Epoch 106/300\n",
      "86/86 [==============================] - 0s 1ms/step - loss: 0.5973 - accuracy: 0.7099 - val_loss: 0.6280 - val_accuracy: 0.6931\n",
      "Epoch 107/300\n",
      "86/86 [==============================] - 0s 1ms/step - loss: 0.6002 - accuracy: 0.7033 - val_loss: 0.6110 - val_accuracy: 0.6916\n",
      "Epoch 108/300\n",
      "86/86 [==============================] - 0s 1ms/step - loss: 0.5968 - accuracy: 0.7110 - val_loss: 0.6173 - val_accuracy: 0.6946\n",
      "Epoch 109/300\n",
      "86/86 [==============================] - 0s 1ms/step - loss: 0.5979 - accuracy: 0.7106 - val_loss: 0.6106 - val_accuracy: 0.6872\n",
      "Epoch 110/300\n",
      "86/86 [==============================] - 0s 1ms/step - loss: 0.5975 - accuracy: 0.7102 - val_loss: 0.6114 - val_accuracy: 0.6960\n",
      "Epoch 111/300\n",
      "86/86 [==============================] - 0s 1ms/step - loss: 0.5971 - accuracy: 0.7069 - val_loss: 0.6095 - val_accuracy: 0.6931\n",
      "Epoch 112/300\n",
      "86/86 [==============================] - 0s 1ms/step - loss: 0.5972 - accuracy: 0.7077 - val_loss: 0.6099 - val_accuracy: 0.6858\n",
      "Epoch 113/300\n",
      "86/86 [==============================] - 0s 1ms/step - loss: 0.5961 - accuracy: 0.7124 - val_loss: 0.6102 - val_accuracy: 0.6843\n",
      "Epoch 114/300\n",
      "86/86 [==============================] - 0s 2ms/step - loss: 0.5962 - accuracy: 0.7117 - val_loss: 0.6193 - val_accuracy: 0.6946\n",
      "Epoch 115/300\n",
      "86/86 [==============================] - 0s 2ms/step - loss: 0.5965 - accuracy: 0.7106 - val_loss: 0.6135 - val_accuracy: 0.6946\n",
      "Epoch 116/300\n",
      "86/86 [==============================] - 0s 1ms/step - loss: 0.5976 - accuracy: 0.7095 - val_loss: 0.6093 - val_accuracy: 0.6872\n",
      "Epoch 117/300\n",
      "86/86 [==============================] - 0s 1ms/step - loss: 0.5962 - accuracy: 0.7117 - val_loss: 0.6170 - val_accuracy: 0.6946\n",
      "Epoch 118/300\n",
      "86/86 [==============================] - 0s 1ms/step - loss: 0.5960 - accuracy: 0.7091 - val_loss: 0.6111 - val_accuracy: 0.6887\n",
      "Epoch 119/300\n",
      "86/86 [==============================] - 0s 1ms/step - loss: 0.6017 - accuracy: 0.7073 - val_loss: 0.6092 - val_accuracy: 0.6872\n",
      "Epoch 120/300\n",
      "86/86 [==============================] - 0s 1ms/step - loss: 0.5951 - accuracy: 0.7091 - val_loss: 0.6091 - val_accuracy: 0.6902\n",
      "Epoch 121/300\n",
      "86/86 [==============================] - 0s 1ms/step - loss: 0.5975 - accuracy: 0.7099 - val_loss: 0.6114 - val_accuracy: 0.6946\n",
      "Epoch 122/300\n",
      "86/86 [==============================] - 0s 1ms/step - loss: 0.5946 - accuracy: 0.7113 - val_loss: 0.6167 - val_accuracy: 0.6946\n",
      "Epoch 123/300\n",
      "86/86 [==============================] - 0s 1ms/step - loss: 0.5958 - accuracy: 0.7102 - val_loss: 0.6108 - val_accuracy: 0.6902\n",
      "Epoch 124/300\n",
      "86/86 [==============================] - 0s 1ms/step - loss: 0.5964 - accuracy: 0.7099 - val_loss: 0.6133 - val_accuracy: 0.6946\n",
      "Epoch 125/300\n",
      "86/86 [==============================] - 0s 1ms/step - loss: 0.5967 - accuracy: 0.7091 - val_loss: 0.6092 - val_accuracy: 0.6872\n",
      "Epoch 126/300\n",
      "86/86 [==============================] - 0s 1ms/step - loss: 0.5961 - accuracy: 0.7110 - val_loss: 0.6091 - val_accuracy: 0.6902\n",
      "Epoch 127/300\n",
      "86/86 [==============================] - 0s 1ms/step - loss: 0.5953 - accuracy: 0.7091 - val_loss: 0.6096 - val_accuracy: 0.6946\n",
      "Epoch 128/300\n",
      "86/86 [==============================] - 0s 1ms/step - loss: 0.5967 - accuracy: 0.7099 - val_loss: 0.6084 - val_accuracy: 0.6872\n",
      "Epoch 129/300\n",
      "86/86 [==============================] - 0s 1ms/step - loss: 0.5955 - accuracy: 0.7110 - val_loss: 0.6094 - val_accuracy: 0.6902\n",
      "Epoch 130/300\n",
      "86/86 [==============================] - 0s 1ms/step - loss: 0.5975 - accuracy: 0.7102 - val_loss: 0.6082 - val_accuracy: 0.6887\n",
      "Epoch 131/300\n",
      "86/86 [==============================] - 0s 1ms/step - loss: 0.5969 - accuracy: 0.7099 - val_loss: 0.6112 - val_accuracy: 0.6902\n",
      "Epoch 132/300\n",
      "86/86 [==============================] - 0s 1ms/step - loss: 0.5957 - accuracy: 0.7088 - val_loss: 0.6089 - val_accuracy: 0.6916\n",
      "Epoch 133/300\n",
      "86/86 [==============================] - 0s 1ms/step - loss: 0.5967 - accuracy: 0.7091 - val_loss: 0.6089 - val_accuracy: 0.6887\n",
      "Epoch 134/300\n",
      "86/86 [==============================] - 0s 3ms/step - loss: 0.5953 - accuracy: 0.7088 - val_loss: 0.6104 - val_accuracy: 0.6887\n",
      "Epoch 135/300\n",
      "86/86 [==============================] - 0s 1ms/step - loss: 0.5942 - accuracy: 0.7095 - val_loss: 0.6078 - val_accuracy: 0.6902\n",
      "Epoch 136/300\n",
      "86/86 [==============================] - 0s 1ms/step - loss: 0.5941 - accuracy: 0.7110 - val_loss: 0.6081 - val_accuracy: 0.6902\n",
      "Epoch 137/300\n",
      "86/86 [==============================] - 0s 3ms/step - loss: 0.5949 - accuracy: 0.7106 - val_loss: 0.6125 - val_accuracy: 0.6902\n",
      "Epoch 138/300\n",
      "86/86 [==============================] - 0s 1ms/step - loss: 0.5945 - accuracy: 0.7117 - val_loss: 0.6084 - val_accuracy: 0.6902\n",
      "Epoch 139/300\n",
      "86/86 [==============================] - 0s 1ms/step - loss: 0.5944 - accuracy: 0.7121 - val_loss: 0.6122 - val_accuracy: 0.6902\n",
      "Epoch 140/300\n",
      "86/86 [==============================] - 0s 1ms/step - loss: 0.5936 - accuracy: 0.7113 - val_loss: 0.6070 - val_accuracy: 0.6902\n",
      "Epoch 141/300\n",
      "86/86 [==============================] - 0s 1ms/step - loss: 0.5949 - accuracy: 0.7113 - val_loss: 0.6068 - val_accuracy: 0.6887\n",
      "Epoch 142/300\n",
      "86/86 [==============================] - 0s 1ms/step - loss: 0.5951 - accuracy: 0.7095 - val_loss: 0.6090 - val_accuracy: 0.6931\n",
      "Epoch 143/300\n",
      "86/86 [==============================] - 0s 1ms/step - loss: 0.5970 - accuracy: 0.7088 - val_loss: 0.6106 - val_accuracy: 0.6931\n",
      "Epoch 144/300\n",
      "86/86 [==============================] - 0s 1ms/step - loss: 0.5950 - accuracy: 0.7102 - val_loss: 0.6100 - val_accuracy: 0.6902\n",
      "Epoch 145/300\n",
      "86/86 [==============================] - 0s 1ms/step - loss: 0.5960 - accuracy: 0.7095 - val_loss: 0.6082 - val_accuracy: 0.6902\n",
      "Epoch 146/300\n",
      "86/86 [==============================] - 0s 1ms/step - loss: 0.5956 - accuracy: 0.7099 - val_loss: 0.6106 - val_accuracy: 0.6931\n",
      "Epoch 147/300\n",
      "86/86 [==============================] - 0s 1ms/step - loss: 0.5935 - accuracy: 0.7121 - val_loss: 0.6079 - val_accuracy: 0.6902\n",
      "Epoch 148/300\n",
      "86/86 [==============================] - 0s 1ms/step - loss: 0.5941 - accuracy: 0.7099 - val_loss: 0.6094 - val_accuracy: 0.6887\n",
      "Epoch 149/300\n",
      "86/86 [==============================] - 0s 1ms/step - loss: 0.5937 - accuracy: 0.7110 - val_loss: 0.6077 - val_accuracy: 0.6902\n",
      "Epoch 150/300\n",
      "86/86 [==============================] - 0s 1ms/step - loss: 0.5939 - accuracy: 0.7124 - val_loss: 0.6094 - val_accuracy: 0.6887\n",
      "Epoch 151/300\n",
      "86/86 [==============================] - 0s 1ms/step - loss: 0.5942 - accuracy: 0.7110 - val_loss: 0.6110 - val_accuracy: 0.6916\n",
      "Epoch 152/300\n",
      "86/86 [==============================] - 0s 1ms/step - loss: 0.5928 - accuracy: 0.7117 - val_loss: 0.6088 - val_accuracy: 0.6902\n",
      "Epoch 153/300\n",
      "86/86 [==============================] - 0s 1ms/step - loss: 0.5948 - accuracy: 0.7110 - val_loss: 0.6058 - val_accuracy: 0.6902\n",
      "Epoch 154/300\n",
      "86/86 [==============================] - 0s 1ms/step - loss: 0.5938 - accuracy: 0.7102 - val_loss: 0.6138 - val_accuracy: 0.6916\n",
      "Epoch 155/300\n",
      "86/86 [==============================] - 0s 1ms/step - loss: 0.5957 - accuracy: 0.7110 - val_loss: 0.6145 - val_accuracy: 0.6902\n",
      "Epoch 156/300\n",
      "86/86 [==============================] - 0s 1ms/step - loss: 0.5937 - accuracy: 0.7095 - val_loss: 0.6094 - val_accuracy: 0.6902\n",
      "Epoch 157/300\n",
      "86/86 [==============================] - 0s 1ms/step - loss: 0.5963 - accuracy: 0.7099 - val_loss: 0.6073 - val_accuracy: 0.6902\n",
      "Epoch 158/300\n",
      "86/86 [==============================] - 0s 2ms/step - loss: 0.5937 - accuracy: 0.7110 - val_loss: 0.6077 - val_accuracy: 0.6902\n",
      "Epoch 159/300\n",
      "86/86 [==============================] - 0s 2ms/step - loss: 0.5939 - accuracy: 0.7117 - val_loss: 0.6078 - val_accuracy: 0.6916\n",
      "Epoch 160/300\n",
      "86/86 [==============================] - 0s 1ms/step - loss: 0.5945 - accuracy: 0.7110 - val_loss: 0.6072 - val_accuracy: 0.6916\n",
      "Epoch 161/300\n",
      "86/86 [==============================] - 0s 1ms/step - loss: 0.5931 - accuracy: 0.7132 - val_loss: 0.6076 - val_accuracy: 0.6887\n",
      "Epoch 162/300\n",
      "86/86 [==============================] - 0s 1ms/step - loss: 0.5935 - accuracy: 0.7110 - val_loss: 0.6087 - val_accuracy: 0.6902\n",
      "Epoch 163/300\n",
      "86/86 [==============================] - 0s 1ms/step - loss: 0.5929 - accuracy: 0.7136 - val_loss: 0.6172 - val_accuracy: 0.6960\n",
      "Epoch 164/300\n",
      "86/86 [==============================] - 0s 1ms/step - loss: 0.5946 - accuracy: 0.7121 - val_loss: 0.6185 - val_accuracy: 0.6902\n",
      "Epoch 165/300\n",
      "86/86 [==============================] - 0s 1ms/step - loss: 0.5937 - accuracy: 0.7099 - val_loss: 0.6124 - val_accuracy: 0.6902\n",
      "Epoch 166/300\n",
      "86/86 [==============================] - 0s 1ms/step - loss: 0.5926 - accuracy: 0.7095 - val_loss: 0.6081 - val_accuracy: 0.6916\n",
      "Epoch 167/300\n",
      "86/86 [==============================] - 0s 1ms/step - loss: 0.5952 - accuracy: 0.7121 - val_loss: 0.6091 - val_accuracy: 0.6916\n",
      "Epoch 168/300\n",
      "86/86 [==============================] - 0s 1ms/step - loss: 0.5954 - accuracy: 0.7113 - val_loss: 0.6086 - val_accuracy: 0.6902\n",
      "Epoch 169/300\n",
      "86/86 [==============================] - 0s 1ms/step - loss: 0.5912 - accuracy: 0.7095 - val_loss: 0.6107 - val_accuracy: 0.6887\n",
      "Epoch 170/300\n",
      "86/86 [==============================] - 0s 1ms/step - loss: 0.5932 - accuracy: 0.7132 - val_loss: 0.6276 - val_accuracy: 0.6946\n",
      "Epoch 171/300\n",
      "86/86 [==============================] - 0s 1ms/step - loss: 0.5923 - accuracy: 0.7099 - val_loss: 0.6088 - val_accuracy: 0.6916\n",
      "Epoch 172/300\n",
      "86/86 [==============================] - 0s 1ms/step - loss: 0.5922 - accuracy: 0.7110 - val_loss: 0.6118 - val_accuracy: 0.6902\n",
      "Epoch 173/300\n",
      "86/86 [==============================] - 0s 1ms/step - loss: 0.5919 - accuracy: 0.7110 - val_loss: 0.6108 - val_accuracy: 0.6902\n",
      "Epoch 174/300\n",
      "86/86 [==============================] - 0s 1ms/step - loss: 0.5935 - accuracy: 0.7088 - val_loss: 0.6090 - val_accuracy: 0.6902\n",
      "Epoch 175/300\n",
      "86/86 [==============================] - 0s 1ms/step - loss: 0.5926 - accuracy: 0.7117 - val_loss: 0.6098 - val_accuracy: 0.6902\n",
      "Epoch 176/300\n",
      "86/86 [==============================] - 0s 1ms/step - loss: 0.5932 - accuracy: 0.7121 - val_loss: 0.6088 - val_accuracy: 0.6887\n",
      "Epoch 177/300\n",
      "86/86 [==============================] - 0s 1ms/step - loss: 0.5922 - accuracy: 0.7128 - val_loss: 0.6074 - val_accuracy: 0.6902\n",
      "Epoch 178/300\n",
      "86/86 [==============================] - 0s 3ms/step - loss: 0.5928 - accuracy: 0.7128 - val_loss: 0.6093 - val_accuracy: 0.6946\n",
      "Epoch 00178: early stopping\n"
     ]
    },
    {
     "data": {
      "text/plain": [
       "<tensorflow.python.keras.callbacks.History at 0x7fba9a1864f0>"
      ]
     },
     "execution_count": 198,
     "metadata": {},
     "output_type": "execute_result"
    }
   ],
   "source": [
    "from tensorflow.keras.callbacks import EarlyStopping\n",
    "\n",
    "model = Sequential()\n",
    "model.add(Dense(20, activation='relu'))\n",
    "model.add(Dense(15, activation='relu'))\n",
    "# Binary classification\n",
    "model.add(Dense(1, activation='sigmoid'))\n",
    "model.compile(loss='binary_crossentropy', optimizer='adam', metrics=['accuracy'])\n",
    "early_stop = EarlyStopping(monitor='val_loss', mode='min', verbose=1, patience=25)\n",
    "model.fit(x=X_train, y=y_train, epochs=300, validation_data=(X_test, y_test), verbose=1, callbacks=[early_stop])\n",
    "#model.fit(x=X_train, y=y_train, epochs=600, validation_data=(X_test, y_test), verbose=1)"
   ]
  },
  {
   "cell_type": "code",
   "execution_count": 199,
   "metadata": {},
   "outputs": [
    {
     "data": {
      "text/plain": [
       "<AxesSubplot:>"
      ]
     },
     "execution_count": 199,
     "metadata": {},
     "output_type": "execute_result"
    },
    {
     "data": {
      "image/png": "[encoded data removed]",
      "text/plain": [
       "<Figure size 432x288 with 1 Axes>"
      ]
     },
     "metadata": {
      "needs_background": "light"
     },
     "output_type": "display_data"
    },
    {
     "data": {
      "image/png": "[encoded data removed]",
      "text/plain": [
       "<Figure size 432x288 with 1 Axes>"
      ]
     },
     "metadata": {
      "needs_background": "light"
     },
     "output_type": "display_data"
    }
   ],
   "source": [
    "model_loss = pd.DataFrame(model.history.history)\n",
    "loss = model_loss[['loss', 'val_loss']]\n",
    "acc = model_loss[['accuracy', 'val_accuracy']]\n",
    "loss.plot()\n",
    "acc.plot()"
   ]
  },
  {
   "cell_type": "code",
   "execution_count": 200,
   "metadata": {},
   "outputs": [
    {
     "name": "stdout",
     "output_type": "stream",
     "text": [
      "              precision    recall  f1-score   support\n",
      "\n",
      "           0       0.70      0.98      0.81       468\n",
      "           1       0.60      0.07      0.13       213\n",
      "\n",
      "    accuracy                           0.69       681\n",
      "   macro avg       0.65      0.52      0.47       681\n",
      "weighted avg       0.67      0.69      0.60       681\n",
      "\n",
      "[[458  10]\n",
      " [198  15]]\n"
     ]
    },
    {
     "name": "stderr",
     "output_type": "stream",
     "text": [
      "/Library/Frameworks/Python.framework/Versions/3.9/lib/python3.9/site-packages/tensorflow/python/keras/engine/sequential.py:455: UserWarning: `model.predict_classes()` is deprecated and will be removed after 2021-01-01. Please use instead:* `np.argmax(model.predict(x), axis=-1)`,   if your model does multi-class classification   (e.g. if it uses a `softmax` last-layer activation).* `(model.predict(x) > 0.5).astype(\"int32\")`,   if your model does binary classification   (e.g. if it uses a `sigmoid` last-layer activation).\n",
      "  'will be removed after 2021-01-01. '\n"
     ]
    }
   ],
   "source": [
    "predictions = model.predict_classes(X_test)\n",
    "print(classification_report(y_test,predictions))\n",
    "print(confusion_matrix(y_test,predictions))"
   ]
  },
  {
   "cell_type": "code",
   "execution_count": 201,
   "metadata": {},
   "outputs": [
    {
     "name": "stdout",
     "output_type": "stream",
     "text": [
      "              precision    recall  f1-score   support\n",
      "\n",
      "           0       0.73      0.73      0.73       468\n",
      "           1       0.40      0.39      0.40       213\n",
      "\n",
      "    accuracy                           0.63       681\n",
      "   macro avg       0.56      0.56      0.56       681\n",
      "weighted avg       0.63      0.63      0.63       681\n",
      "\n",
      "[[343 125]\n",
      " [129  84]]\n",
      "              precision    recall  f1-score   support\n",
      "\n",
      "           0       0.72      0.80      0.76       468\n",
      "           1       0.41      0.31      0.36       213\n",
      "\n",
      "    accuracy                           0.65       681\n",
      "   macro avg       0.57      0.56      0.56       681\n",
      "weighted avg       0.62      0.65      0.63       681\n",
      "\n",
      "[[373  95]\n",
      " [146  67]]\n"
     ]
    }
   ],
   "source": [
    "from sklearn.tree import DecisionTreeClassifier\n",
    "from sklearn.ensemble import RandomForestClassifier\n",
    "\n",
    "dtree = DecisionTreeClassifier()\n",
    "dtree.fit(X_train,y_train)\n",
    "predictions = dtree.predict(X_test)\n",
    "\n",
    "print(classification_report(y_test,predictions))\n",
    "print(confusion_matrix(y_test,predictions))\n",
    "\n",
    "rfc = RandomForestClassifier(n_estimators=100)\n",
    "rfc.fit(X_train, y_train)\n",
    "\n",
    "rfc_pred = rfc.predict(X_test)\n",
    "print(classification_report(y_test,rfc_pred))\n",
    "print(confusion_matrix(y_test,rfc_pred))"
   ]
  }
 ],
 "metadata": {
  "kernelspec": {
   "display_name": "Python 3",
   "language": "python",
   "name": "python3"
  },
  "language_info": {
   "codemirror_mode": {
    "name": "ipython",
    "version": 3
   },
   "file_extension": ".py",
   "mimetype": "text/x-python",
   "name": "python",
   "nbconvert_exporter": "python",
   "pygments_lexer": "ipython3",
   "version": "3.9.1"
  }
 },
 "nbformat": 4,
 "nbformat_minor": 1
}
